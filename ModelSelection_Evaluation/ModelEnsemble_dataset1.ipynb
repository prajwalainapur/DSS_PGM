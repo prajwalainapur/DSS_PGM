{
 "cells": [
  {
   "cell_type": "markdown",
   "metadata": {},
   "source": [
    "# Analyzing Effects of Model Ensembling\n",
    "By: Prajwal Brijesh Ainapur\n",
    "\n",
    "This notebook covers the effects of model ensembling on dataset-1"
   ]
  },
  {
   "cell_type": "code",
   "execution_count": 1,
   "metadata": {},
   "outputs": [
    {
     "name": "stderr",
     "output_type": "stream",
     "text": [
      "Using TensorFlow backend.\n"
     ]
    }
   ],
   "source": [
    "#Importing Libraries\n",
    "from collections import Counter\n",
    "from imblearn.combine import SMOTEENN\n",
    "from pycaret import classification, clustering\n",
    "from pycaret.classification import *\n",
    "from sklearn.model_selection import StratifiedShuffleSplit, train_test_split\n",
    "from sklearn.metrics import confusion_matrix, recall_score\n",
    "from sklearn import metrics\n",
    "\n",
    "from sklearn.feature_selection import SelectFromModel\n",
    "from sklearn.linear_model import LogisticRegression\n",
    "from sklearn import preprocessing\n",
    "\n",
    "import seaborn as sns\n",
    "import pycaret\n",
    "import pandas as pd\n",
    "import numpy as np\n",
    "import matplotlib.pyplot as plt\n",
    "\n",
    "\n",
    "import warnings\n",
    "warnings.filterwarnings('ignore')"
   ]
  },
  {
   "cell_type": "code",
   "execution_count": 2,
   "metadata": {},
   "outputs": [],
   "source": [
    "df = pd.read_csv('/home/prajwal_brijesh_ainapur/upgradSubmissions/MS_PGM/bank-additional/bank-additional-full.csv')"
   ]
  },
  {
   "cell_type": "code",
   "execution_count": 3,
   "metadata": {
    "scrolled": true
   },
   "outputs": [
    {
     "data": {
      "text/html": [
       "<div>\n",
       "<style scoped>\n",
       "    .dataframe tbody tr th:only-of-type {\n",
       "        vertical-align: middle;\n",
       "    }\n",
       "\n",
       "    .dataframe tbody tr th {\n",
       "        vertical-align: top;\n",
       "    }\n",
       "\n",
       "    .dataframe thead th {\n",
       "        text-align: right;\n",
       "    }\n",
       "</style>\n",
       "<table border=\"1\" class=\"dataframe\">\n",
       "  <thead>\n",
       "    <tr style=\"text-align: right;\">\n",
       "      <th></th>\n",
       "      <th>age</th>\n",
       "      <th>job</th>\n",
       "      <th>marital</th>\n",
       "      <th>education</th>\n",
       "      <th>default</th>\n",
       "      <th>housing</th>\n",
       "      <th>loan</th>\n",
       "      <th>contact</th>\n",
       "      <th>month</th>\n",
       "      <th>day_of_week</th>\n",
       "      <th>...</th>\n",
       "      <th>campaign</th>\n",
       "      <th>pdays</th>\n",
       "      <th>previous</th>\n",
       "      <th>poutcome</th>\n",
       "      <th>emp.var.rate</th>\n",
       "      <th>cons.price.idx</th>\n",
       "      <th>cons.conf.idx</th>\n",
       "      <th>euribor3m</th>\n",
       "      <th>nr.employed</th>\n",
       "      <th>y</th>\n",
       "    </tr>\n",
       "  </thead>\n",
       "  <tbody>\n",
       "    <tr>\n",
       "      <th>0</th>\n",
       "      <td>56</td>\n",
       "      <td>housemaid</td>\n",
       "      <td>married</td>\n",
       "      <td>basic.4y</td>\n",
       "      <td>no</td>\n",
       "      <td>no</td>\n",
       "      <td>no</td>\n",
       "      <td>telephone</td>\n",
       "      <td>may</td>\n",
       "      <td>mon</td>\n",
       "      <td>...</td>\n",
       "      <td>1</td>\n",
       "      <td>999</td>\n",
       "      <td>0</td>\n",
       "      <td>nonexistent</td>\n",
       "      <td>1.1</td>\n",
       "      <td>93.994</td>\n",
       "      <td>-36.4</td>\n",
       "      <td>4.857</td>\n",
       "      <td>5191.0</td>\n",
       "      <td>no</td>\n",
       "    </tr>\n",
       "    <tr>\n",
       "      <th>1</th>\n",
       "      <td>57</td>\n",
       "      <td>services</td>\n",
       "      <td>married</td>\n",
       "      <td>high.school</td>\n",
       "      <td>unknown</td>\n",
       "      <td>no</td>\n",
       "      <td>no</td>\n",
       "      <td>telephone</td>\n",
       "      <td>may</td>\n",
       "      <td>mon</td>\n",
       "      <td>...</td>\n",
       "      <td>1</td>\n",
       "      <td>999</td>\n",
       "      <td>0</td>\n",
       "      <td>nonexistent</td>\n",
       "      <td>1.1</td>\n",
       "      <td>93.994</td>\n",
       "      <td>-36.4</td>\n",
       "      <td>4.857</td>\n",
       "      <td>5191.0</td>\n",
       "      <td>no</td>\n",
       "    </tr>\n",
       "    <tr>\n",
       "      <th>2</th>\n",
       "      <td>37</td>\n",
       "      <td>services</td>\n",
       "      <td>married</td>\n",
       "      <td>high.school</td>\n",
       "      <td>no</td>\n",
       "      <td>yes</td>\n",
       "      <td>no</td>\n",
       "      <td>telephone</td>\n",
       "      <td>may</td>\n",
       "      <td>mon</td>\n",
       "      <td>...</td>\n",
       "      <td>1</td>\n",
       "      <td>999</td>\n",
       "      <td>0</td>\n",
       "      <td>nonexistent</td>\n",
       "      <td>1.1</td>\n",
       "      <td>93.994</td>\n",
       "      <td>-36.4</td>\n",
       "      <td>4.857</td>\n",
       "      <td>5191.0</td>\n",
       "      <td>no</td>\n",
       "    </tr>\n",
       "    <tr>\n",
       "      <th>3</th>\n",
       "      <td>40</td>\n",
       "      <td>admin.</td>\n",
       "      <td>married</td>\n",
       "      <td>basic.6y</td>\n",
       "      <td>no</td>\n",
       "      <td>no</td>\n",
       "      <td>no</td>\n",
       "      <td>telephone</td>\n",
       "      <td>may</td>\n",
       "      <td>mon</td>\n",
       "      <td>...</td>\n",
       "      <td>1</td>\n",
       "      <td>999</td>\n",
       "      <td>0</td>\n",
       "      <td>nonexistent</td>\n",
       "      <td>1.1</td>\n",
       "      <td>93.994</td>\n",
       "      <td>-36.4</td>\n",
       "      <td>4.857</td>\n",
       "      <td>5191.0</td>\n",
       "      <td>no</td>\n",
       "    </tr>\n",
       "    <tr>\n",
       "      <th>4</th>\n",
       "      <td>56</td>\n",
       "      <td>services</td>\n",
       "      <td>married</td>\n",
       "      <td>high.school</td>\n",
       "      <td>no</td>\n",
       "      <td>no</td>\n",
       "      <td>yes</td>\n",
       "      <td>telephone</td>\n",
       "      <td>may</td>\n",
       "      <td>mon</td>\n",
       "      <td>...</td>\n",
       "      <td>1</td>\n",
       "      <td>999</td>\n",
       "      <td>0</td>\n",
       "      <td>nonexistent</td>\n",
       "      <td>1.1</td>\n",
       "      <td>93.994</td>\n",
       "      <td>-36.4</td>\n",
       "      <td>4.857</td>\n",
       "      <td>5191.0</td>\n",
       "      <td>no</td>\n",
       "    </tr>\n",
       "  </tbody>\n",
       "</table>\n",
       "<p>5 rows × 21 columns</p>\n",
       "</div>"
      ],
      "text/plain": [
       "   age        job  marital    education  default housing loan    contact  \\\n",
       "0   56  housemaid  married     basic.4y       no      no   no  telephone   \n",
       "1   57   services  married  high.school  unknown      no   no  telephone   \n",
       "2   37   services  married  high.school       no     yes   no  telephone   \n",
       "3   40     admin.  married     basic.6y       no      no   no  telephone   \n",
       "4   56   services  married  high.school       no      no  yes  telephone   \n",
       "\n",
       "  month day_of_week  ...  campaign  pdays  previous     poutcome emp.var.rate  \\\n",
       "0   may         mon  ...         1    999         0  nonexistent          1.1   \n",
       "1   may         mon  ...         1    999         0  nonexistent          1.1   \n",
       "2   may         mon  ...         1    999         0  nonexistent          1.1   \n",
       "3   may         mon  ...         1    999         0  nonexistent          1.1   \n",
       "4   may         mon  ...         1    999         0  nonexistent          1.1   \n",
       "\n",
       "   cons.price.idx  cons.conf.idx  euribor3m  nr.employed   y  \n",
       "0          93.994          -36.4      4.857       5191.0  no  \n",
       "1          93.994          -36.4      4.857       5191.0  no  \n",
       "2          93.994          -36.4      4.857       5191.0  no  \n",
       "3          93.994          -36.4      4.857       5191.0  no  \n",
       "4          93.994          -36.4      4.857       5191.0  no  \n",
       "\n",
       "[5 rows x 21 columns]"
      ]
     },
     "execution_count": 3,
     "metadata": {},
     "output_type": "execute_result"
    }
   ],
   "source": [
    "df.head()"
   ]
  },
  {
   "cell_type": "markdown",
   "metadata": {},
   "source": [
    "As per the dataset description, the duration column is added only after the call is made with the customer and thus, this information is not available well in advance. Thus we proceed to remove this column in order to create a realistic prediction model."
   ]
  },
  {
   "cell_type": "code",
   "execution_count": 4,
   "metadata": {},
   "outputs": [
    {
     "data": {
      "text/plain": [
       "(41188, 20)"
      ]
     },
     "execution_count": 4,
     "metadata": {},
     "output_type": "execute_result"
    }
   ],
   "source": [
    "df = df.drop(columns = ['duration'], axis = 1)\n",
    "df.shape"
   ]
  },
  {
   "cell_type": "code",
   "execution_count": 5,
   "metadata": {},
   "outputs": [
    {
     "name": "stdout",
     "output_type": "stream",
     "text": [
      "(41188, 20)\n",
      "(39404, 20)\n"
     ]
    }
   ],
   "source": [
    "print(df.shape)\n",
    "df = df.drop_duplicates()\n",
    "print(df.shape)"
   ]
  },
  {
   "cell_type": "code",
   "execution_count": 11,
   "metadata": {},
   "outputs": [],
   "source": [
    "def getSampled(x, y, tmp):\n",
    "    \n",
    "    _x, _y = tmp().fit_resample(x, y)\n",
    "    counter= Counter(_y)\n",
    "    print(counter)\n",
    "    \n",
    "    return _x, _y\n",
    "\n",
    "def trainPredict(modelName, xTrain, yTrain):\n",
    "\n",
    "    df_tmp = pd.concat([xTrain, yTrain], axis = 1)\n",
    "    classification_setup = classification.setup(data= df_tmp, target='y', fix_imbalance = False)\n",
    "    model = create_model(modelName, learning_rate = 0.3)\n",
    "    return model\n",
    "\n",
    "\n",
    "def plotModel(fittedModel, xTest, yTest, title = None):    \n",
    "    \n",
    "    model_final = finalize_model(fittedModel)\n",
    "\n",
    "    y_pred = predict_model(model_final, data = xTest)\n",
    "\n",
    "    cmat = confusion_matrix(yTest, y_pred.Label)\n",
    "    print(cmat)\n",
    "    trec = recall_score(yTest, y_pred.Label)\n",
    "    print(trec)\n",
    "    \n",
    "    fpr, tpr, thresholds = metrics.roc_curve(yTest, y_pred.Label)\n",
    "    roc_auc = (metrics.auc(fpr, tpr))\n",
    "\n",
    "    plt.title('Receiver Operating Characteristic' + str(title))\n",
    "    plt.plot(fpr, tpr, 'b', label = 'AUC = %0.2f' % roc_auc)\n",
    "    plt.legend(loc = 'lower right')\n",
    "    plt.plot([0, 1], [0, 1],'r--')\n",
    "    plt.xlim([0, 1])\n",
    "    plt.ylim([0, 1])\n",
    "    plt.ylabel('True Positive Rate')\n",
    "    plt.xlabel('False Positive Rate')\n",
    "    plt.show()"
   ]
  },
  {
   "cell_type": "code",
   "execution_count": 12,
   "metadata": {},
   "outputs": [
    {
     "data": {
      "text/plain": [
       "(39404, 52)"
      ]
     },
     "execution_count": 12,
     "metadata": {},
     "output_type": "execute_result"
    }
   ],
   "source": [
    "X = df.drop(columns = ['y'], axis = 1)\n",
    "y = df['y']\n",
    "\n",
    "Xd = pd.get_dummies(X, drop_first = True)\n",
    "Xd.shape"
   ]
  },
  {
   "cell_type": "code",
   "execution_count": 13,
   "metadata": {},
   "outputs": [
    {
     "name": "stdout",
     "output_type": "stream",
     "text": [
      "Counter({0: 34806, 1: 4598})\n"
     ]
    }
   ],
   "source": [
    "y = y.replace('no', 0)\n",
    "y = y.replace('yes', 1)\n",
    "counter = Counter(y)\n",
    "print(counter)"
   ]
  },
  {
   "cell_type": "code",
   "execution_count": 23,
   "metadata": {},
   "outputs": [],
   "source": [
    "from sklearn.model_selection import train_test_split\n",
    "X_train, X_test, y_train, y_test = train_test_split(Xd, y, stratify = y, test_size = 0.25)"
   ]
  },
  {
   "cell_type": "code",
   "execution_count": 24,
   "metadata": {
    "scrolled": true
   },
   "outputs": [
    {
     "name": "stdout",
     "output_type": "stream",
     "text": [
      "Counter({1: 25021, 0: 15693})\n"
     ]
    }
   ],
   "source": [
    "X_trains, y_trains = getSampled(X_train, y_train, SMOTEENN)"
   ]
  },
  {
   "cell_type": "code",
   "execution_count": 25,
   "metadata": {},
   "outputs": [
    {
     "data": {
      "text/html": [
       "<style  type=\"text/css\" >\n",
       "#T_24adcb8a_40ff_11eb_945d_45efeef67b8arow10_col0,#T_24adcb8a_40ff_11eb_945d_45efeef67b8arow10_col1,#T_24adcb8a_40ff_11eb_945d_45efeef67b8arow10_col2,#T_24adcb8a_40ff_11eb_945d_45efeef67b8arow10_col3,#T_24adcb8a_40ff_11eb_945d_45efeef67b8arow10_col4,#T_24adcb8a_40ff_11eb_945d_45efeef67b8arow10_col5,#T_24adcb8a_40ff_11eb_945d_45efeef67b8arow10_col6{\n",
       "            background:  yellow;\n",
       "        }</style><table id=\"T_24adcb8a_40ff_11eb_945d_45efeef67b8a\" ><thead>    <tr>        <th class=\"blank level0\" ></th>        <th class=\"col_heading level0 col0\" >Accuracy</th>        <th class=\"col_heading level0 col1\" >AUC</th>        <th class=\"col_heading level0 col2\" >Recall</th>        <th class=\"col_heading level0 col3\" >Prec.</th>        <th class=\"col_heading level0 col4\" >F1</th>        <th class=\"col_heading level0 col5\" >Kappa</th>        <th class=\"col_heading level0 col6\" >MCC</th>    </tr></thead><tbody>\n",
       "                <tr>\n",
       "                        <th id=\"T_24adcb8a_40ff_11eb_945d_45efeef67b8alevel0_row0\" class=\"row_heading level0 row0\" >0</th>\n",
       "                        <td id=\"T_24adcb8a_40ff_11eb_945d_45efeef67b8arow0_col0\" class=\"data row0 col0\" >0.8937</td>\n",
       "                        <td id=\"T_24adcb8a_40ff_11eb_945d_45efeef67b8arow0_col1\" class=\"data row0 col1\" >0.7706</td>\n",
       "                        <td id=\"T_24adcb8a_40ff_11eb_945d_45efeef67b8arow0_col2\" class=\"data row0 col2\" >0.2863</td>\n",
       "                        <td id=\"T_24adcb8a_40ff_11eb_945d_45efeef67b8arow0_col3\" class=\"data row0 col3\" >0.5897</td>\n",
       "                        <td id=\"T_24adcb8a_40ff_11eb_945d_45efeef67b8arow0_col4\" class=\"data row0 col4\" >0.3855</td>\n",
       "                        <td id=\"T_24adcb8a_40ff_11eb_945d_45efeef67b8arow0_col5\" class=\"data row0 col5\" >0.3348</td>\n",
       "                        <td id=\"T_24adcb8a_40ff_11eb_945d_45efeef67b8arow0_col6\" class=\"data row0 col6\" >0.3612</td>\n",
       "            </tr>\n",
       "            <tr>\n",
       "                        <th id=\"T_24adcb8a_40ff_11eb_945d_45efeef67b8alevel0_row1\" class=\"row_heading level0 row1\" >1</th>\n",
       "                        <td id=\"T_24adcb8a_40ff_11eb_945d_45efeef67b8arow1_col0\" class=\"data row1 col0\" >0.8937</td>\n",
       "                        <td id=\"T_24adcb8a_40ff_11eb_945d_45efeef67b8arow1_col1\" class=\"data row1 col1\" >0.7656</td>\n",
       "                        <td id=\"T_24adcb8a_40ff_11eb_945d_45efeef67b8arow1_col2\" class=\"data row1 col2\" >0.3154</td>\n",
       "                        <td id=\"T_24adcb8a_40ff_11eb_945d_45efeef67b8arow1_col3\" class=\"data row1 col3\" >0.5802</td>\n",
       "                        <td id=\"T_24adcb8a_40ff_11eb_945d_45efeef67b8arow1_col4\" class=\"data row1 col4\" >0.4086</td>\n",
       "                        <td id=\"T_24adcb8a_40ff_11eb_945d_45efeef67b8arow1_col5\" class=\"data row1 col5\" >0.3557</td>\n",
       "                        <td id=\"T_24adcb8a_40ff_11eb_945d_45efeef67b8arow1_col6\" class=\"data row1 col6\" >0.3758</td>\n",
       "            </tr>\n",
       "            <tr>\n",
       "                        <th id=\"T_24adcb8a_40ff_11eb_945d_45efeef67b8alevel0_row2\" class=\"row_heading level0 row2\" >2</th>\n",
       "                        <td id=\"T_24adcb8a_40ff_11eb_945d_45efeef67b8arow2_col0\" class=\"data row2 col0\" >0.8927</td>\n",
       "                        <td id=\"T_24adcb8a_40ff_11eb_945d_45efeef67b8arow2_col1\" class=\"data row2 col1\" >0.7647</td>\n",
       "                        <td id=\"T_24adcb8a_40ff_11eb_945d_45efeef67b8arow2_col2\" class=\"data row2 col2\" >0.2905</td>\n",
       "                        <td id=\"T_24adcb8a_40ff_11eb_945d_45efeef67b8arow2_col3\" class=\"data row2 col3\" >0.5785</td>\n",
       "                        <td id=\"T_24adcb8a_40ff_11eb_945d_45efeef67b8arow2_col4\" class=\"data row2 col4\" >0.3867</td>\n",
       "                        <td id=\"T_24adcb8a_40ff_11eb_945d_45efeef67b8arow2_col5\" class=\"data row2 col5\" >0.3350</td>\n",
       "                        <td id=\"T_24adcb8a_40ff_11eb_945d_45efeef67b8arow2_col6\" class=\"data row2 col6\" >0.3589</td>\n",
       "            </tr>\n",
       "            <tr>\n",
       "                        <th id=\"T_24adcb8a_40ff_11eb_945d_45efeef67b8alevel0_row3\" class=\"row_heading level0 row3\" >3</th>\n",
       "                        <td id=\"T_24adcb8a_40ff_11eb_945d_45efeef67b8arow3_col0\" class=\"data row3 col0\" >0.8830</td>\n",
       "                        <td id=\"T_24adcb8a_40ff_11eb_945d_45efeef67b8arow3_col1\" class=\"data row3 col1\" >0.7525</td>\n",
       "                        <td id=\"T_24adcb8a_40ff_11eb_945d_45efeef67b8arow3_col2\" class=\"data row3 col2\" >0.2355</td>\n",
       "                        <td id=\"T_24adcb8a_40ff_11eb_945d_45efeef67b8arow3_col3\" class=\"data row3 col3\" >0.5000</td>\n",
       "                        <td id=\"T_24adcb8a_40ff_11eb_945d_45efeef67b8arow3_col4\" class=\"data row3 col4\" >0.3202</td>\n",
       "                        <td id=\"T_24adcb8a_40ff_11eb_945d_45efeef67b8arow3_col5\" class=\"data row3 col5\" >0.2652</td>\n",
       "                        <td id=\"T_24adcb8a_40ff_11eb_945d_45efeef67b8arow3_col6\" class=\"data row3 col6\" >0.2878</td>\n",
       "            </tr>\n",
       "            <tr>\n",
       "                        <th id=\"T_24adcb8a_40ff_11eb_945d_45efeef67b8alevel0_row4\" class=\"row_heading level0 row4\" >4</th>\n",
       "                        <td id=\"T_24adcb8a_40ff_11eb_945d_45efeef67b8arow4_col0\" class=\"data row4 col0\" >0.8937</td>\n",
       "                        <td id=\"T_24adcb8a_40ff_11eb_945d_45efeef67b8arow4_col1\" class=\"data row4 col1\" >0.7718</td>\n",
       "                        <td id=\"T_24adcb8a_40ff_11eb_945d_45efeef67b8arow4_col2\" class=\"data row4 col2\" >0.2851</td>\n",
       "                        <td id=\"T_24adcb8a_40ff_11eb_945d_45efeef67b8arow4_col3\" class=\"data row4 col3\" >0.5948</td>\n",
       "                        <td id=\"T_24adcb8a_40ff_11eb_945d_45efeef67b8arow4_col4\" class=\"data row4 col4\" >0.3855</td>\n",
       "                        <td id=\"T_24adcb8a_40ff_11eb_945d_45efeef67b8arow4_col5\" class=\"data row4 col5\" >0.3351</td>\n",
       "                        <td id=\"T_24adcb8a_40ff_11eb_945d_45efeef67b8arow4_col6\" class=\"data row4 col6\" >0.3624</td>\n",
       "            </tr>\n",
       "            <tr>\n",
       "                        <th id=\"T_24adcb8a_40ff_11eb_945d_45efeef67b8alevel0_row5\" class=\"row_heading level0 row5\" >5</th>\n",
       "                        <td id=\"T_24adcb8a_40ff_11eb_945d_45efeef67b8arow5_col0\" class=\"data row5 col0\" >0.8985</td>\n",
       "                        <td id=\"T_24adcb8a_40ff_11eb_945d_45efeef67b8arow5_col1\" class=\"data row5 col1\" >0.7921</td>\n",
       "                        <td id=\"T_24adcb8a_40ff_11eb_945d_45efeef67b8arow5_col2\" class=\"data row5 col2\" >0.3430</td>\n",
       "                        <td id=\"T_24adcb8a_40ff_11eb_945d_45efeef67b8arow5_col3\" class=\"data row5 col3\" >0.6194</td>\n",
       "                        <td id=\"T_24adcb8a_40ff_11eb_945d_45efeef67b8arow5_col4\" class=\"data row5 col4\" >0.4415</td>\n",
       "                        <td id=\"T_24adcb8a_40ff_11eb_945d_45efeef67b8arow5_col5\" class=\"data row5 col5\" >0.3907</td>\n",
       "                        <td id=\"T_24adcb8a_40ff_11eb_945d_45efeef67b8arow5_col6\" class=\"data row5 col6\" >0.4114</td>\n",
       "            </tr>\n",
       "            <tr>\n",
       "                        <th id=\"T_24adcb8a_40ff_11eb_945d_45efeef67b8alevel0_row6\" class=\"row_heading level0 row6\" >6</th>\n",
       "                        <td id=\"T_24adcb8a_40ff_11eb_945d_45efeef67b8arow6_col0\" class=\"data row6 col0\" >0.8956</td>\n",
       "                        <td id=\"T_24adcb8a_40ff_11eb_945d_45efeef67b8arow6_col1\" class=\"data row6 col1\" >0.7834</td>\n",
       "                        <td id=\"T_24adcb8a_40ff_11eb_945d_45efeef67b8arow6_col2\" class=\"data row6 col2\" >0.3058</td>\n",
       "                        <td id=\"T_24adcb8a_40ff_11eb_945d_45efeef67b8arow6_col3\" class=\"data row6 col3\" >0.6066</td>\n",
       "                        <td id=\"T_24adcb8a_40ff_11eb_945d_45efeef67b8arow6_col4\" class=\"data row6 col4\" >0.4066</td>\n",
       "                        <td id=\"T_24adcb8a_40ff_11eb_945d_45efeef67b8arow6_col5\" class=\"data row6 col5\" >0.3561</td>\n",
       "                        <td id=\"T_24adcb8a_40ff_11eb_945d_45efeef67b8arow6_col6\" class=\"data row6 col6\" >0.3813</td>\n",
       "            </tr>\n",
       "            <tr>\n",
       "                        <th id=\"T_24adcb8a_40ff_11eb_945d_45efeef67b8alevel0_row7\" class=\"row_heading level0 row7\" >7</th>\n",
       "                        <td id=\"T_24adcb8a_40ff_11eb_945d_45efeef67b8arow7_col0\" class=\"data row7 col0\" >0.8893</td>\n",
       "                        <td id=\"T_24adcb8a_40ff_11eb_945d_45efeef67b8arow7_col1\" class=\"data row7 col1\" >0.7414</td>\n",
       "                        <td id=\"T_24adcb8a_40ff_11eb_945d_45efeef67b8arow7_col2\" class=\"data row7 col2\" >0.2365</td>\n",
       "                        <td id=\"T_24adcb8a_40ff_11eb_945d_45efeef67b8arow7_col3\" class=\"data row7 col3\" >0.5588</td>\n",
       "                        <td id=\"T_24adcb8a_40ff_11eb_945d_45efeef67b8arow7_col4\" class=\"data row7 col4\" >0.3324</td>\n",
       "                        <td id=\"T_24adcb8a_40ff_11eb_945d_45efeef67b8arow7_col5\" class=\"data row7 col5\" >0.2826</td>\n",
       "                        <td id=\"T_24adcb8a_40ff_11eb_945d_45efeef67b8arow7_col6\" class=\"data row7 col6\" >0.3140</td>\n",
       "            </tr>\n",
       "            <tr>\n",
       "                        <th id=\"T_24adcb8a_40ff_11eb_945d_45efeef67b8alevel0_row8\" class=\"row_heading level0 row8\" >8</th>\n",
       "                        <td id=\"T_24adcb8a_40ff_11eb_945d_45efeef67b8arow8_col0\" class=\"data row8 col0\" >0.8893</td>\n",
       "                        <td id=\"T_24adcb8a_40ff_11eb_945d_45efeef67b8arow8_col1\" class=\"data row8 col1\" >0.7710</td>\n",
       "                        <td id=\"T_24adcb8a_40ff_11eb_945d_45efeef67b8arow8_col2\" class=\"data row8 col2\" >0.2988</td>\n",
       "                        <td id=\"T_24adcb8a_40ff_11eb_945d_45efeef67b8arow8_col3\" class=\"data row8 col3\" >0.5455</td>\n",
       "                        <td id=\"T_24adcb8a_40ff_11eb_945d_45efeef67b8arow8_col4\" class=\"data row8 col4\" >0.3861</td>\n",
       "                        <td id=\"T_24adcb8a_40ff_11eb_945d_45efeef67b8arow8_col5\" class=\"data row8 col5\" >0.3309</td>\n",
       "                        <td id=\"T_24adcb8a_40ff_11eb_945d_45efeef67b8arow8_col6\" class=\"data row8 col6\" >0.3490</td>\n",
       "            </tr>\n",
       "            <tr>\n",
       "                        <th id=\"T_24adcb8a_40ff_11eb_945d_45efeef67b8alevel0_row9\" class=\"row_heading level0 row9\" >9</th>\n",
       "                        <td id=\"T_24adcb8a_40ff_11eb_945d_45efeef67b8arow9_col0\" class=\"data row9 col0\" >0.8878</td>\n",
       "                        <td id=\"T_24adcb8a_40ff_11eb_945d_45efeef67b8arow9_col1\" class=\"data row9 col1\" >0.7661</td>\n",
       "                        <td id=\"T_24adcb8a_40ff_11eb_945d_45efeef67b8arow9_col2\" class=\"data row9 col2\" >0.2697</td>\n",
       "                        <td id=\"T_24adcb8a_40ff_11eb_945d_45efeef67b8arow9_col3\" class=\"data row9 col3\" >0.5372</td>\n",
       "                        <td id=\"T_24adcb8a_40ff_11eb_945d_45efeef67b8arow9_col4\" class=\"data row9 col4\" >0.3591</td>\n",
       "                        <td id=\"T_24adcb8a_40ff_11eb_945d_45efeef67b8arow9_col5\" class=\"data row9 col5\" >0.3050</td>\n",
       "                        <td id=\"T_24adcb8a_40ff_11eb_945d_45efeef67b8arow9_col6\" class=\"data row9 col6\" >0.3268</td>\n",
       "            </tr>\n",
       "            <tr>\n",
       "                        <th id=\"T_24adcb8a_40ff_11eb_945d_45efeef67b8alevel0_row10\" class=\"row_heading level0 row10\" >Mean</th>\n",
       "                        <td id=\"T_24adcb8a_40ff_11eb_945d_45efeef67b8arow10_col0\" class=\"data row10 col0\" >0.8917</td>\n",
       "                        <td id=\"T_24adcb8a_40ff_11eb_945d_45efeef67b8arow10_col1\" class=\"data row10 col1\" >0.7679</td>\n",
       "                        <td id=\"T_24adcb8a_40ff_11eb_945d_45efeef67b8arow10_col2\" class=\"data row10 col2\" >0.2867</td>\n",
       "                        <td id=\"T_24adcb8a_40ff_11eb_945d_45efeef67b8arow10_col3\" class=\"data row10 col3\" >0.5711</td>\n",
       "                        <td id=\"T_24adcb8a_40ff_11eb_945d_45efeef67b8arow10_col4\" class=\"data row10 col4\" >0.3812</td>\n",
       "                        <td id=\"T_24adcb8a_40ff_11eb_945d_45efeef67b8arow10_col5\" class=\"data row10 col5\" >0.3291</td>\n",
       "                        <td id=\"T_24adcb8a_40ff_11eb_945d_45efeef67b8arow10_col6\" class=\"data row10 col6\" >0.3529</td>\n",
       "            </tr>\n",
       "            <tr>\n",
       "                        <th id=\"T_24adcb8a_40ff_11eb_945d_45efeef67b8alevel0_row11\" class=\"row_heading level0 row11\" >SD</th>\n",
       "                        <td id=\"T_24adcb8a_40ff_11eb_945d_45efeef67b8arow11_col0\" class=\"data row11 col0\" >0.0042</td>\n",
       "                        <td id=\"T_24adcb8a_40ff_11eb_945d_45efeef67b8arow11_col1\" class=\"data row11 col1\" >0.0135</td>\n",
       "                        <td id=\"T_24adcb8a_40ff_11eb_945d_45efeef67b8arow11_col2\" class=\"data row11 col2\" >0.0315</td>\n",
       "                        <td id=\"T_24adcb8a_40ff_11eb_945d_45efeef67b8arow11_col3\" class=\"data row11 col3\" >0.0341</td>\n",
       "                        <td id=\"T_24adcb8a_40ff_11eb_945d_45efeef67b8arow11_col4\" class=\"data row11 col4\" >0.0342</td>\n",
       "                        <td id=\"T_24adcb8a_40ff_11eb_945d_45efeef67b8arow11_col5\" class=\"data row11 col5\" >0.0349</td>\n",
       "                        <td id=\"T_24adcb8a_40ff_11eb_945d_45efeef67b8arow11_col6\" class=\"data row11 col6\" >0.0338</td>\n",
       "            </tr>\n",
       "    </tbody></table>"
      ],
      "text/plain": [
       "<pandas.io.formats.style.Styler at 0x7f6b3a57ae10>"
      ]
     },
     "metadata": {},
     "output_type": "display_data"
    }
   ],
   "source": [
    "modelU = trainPredict('lightgbm', X_train, y_train)"
   ]
  },
  {
   "cell_type": "code",
   "execution_count": 26,
   "metadata": {},
   "outputs": [
    {
     "name": "stdout",
     "output_type": "stream",
     "text": [
      "[[8489  213]\n",
      " [ 825  324]]\n",
      "0.2819843342036554\n"
     ]
    },
    {
     "data": {
      "image/png": "[encoded data removed]",
      "text/plain": [
       "<Figure size 432x288 with 1 Axes>"
      ]
     },
     "metadata": {
      "needs_background": "light"
     },
     "output_type": "display_data"
    }
   ],
   "source": [
    "plotModel(modelU, X_test, y_test)"
   ]
  },
  {
   "cell_type": "markdown",
   "metadata": {},
   "source": [
    "Iteration 1: Plain Lgbms with direct data\n",
    "\n",
    "Recall: 0.282\n",
    "AUC: 0.63"
   ]
  },
  {
   "cell_type": "markdown",
   "metadata": {},
   "source": [
    "### 2. SMOTEENN sample data + plaing LGBMS"
   ]
  },
  {
   "cell_type": "code",
   "execution_count": 28,
   "metadata": {
    "scrolled": false
   },
   "outputs": [
    {
     "data": {
      "text/html": [
       "<style  type=\"text/css\" >\n",
       "#T_655442b8_40ff_11eb_945d_45efeef67b8arow10_col0,#T_655442b8_40ff_11eb_945d_45efeef67b8arow10_col1,#T_655442b8_40ff_11eb_945d_45efeef67b8arow10_col2,#T_655442b8_40ff_11eb_945d_45efeef67b8arow10_col3,#T_655442b8_40ff_11eb_945d_45efeef67b8arow10_col4,#T_655442b8_40ff_11eb_945d_45efeef67b8arow10_col5,#T_655442b8_40ff_11eb_945d_45efeef67b8arow10_col6{\n",
       "            background:  yellow;\n",
       "        }</style><table id=\"T_655442b8_40ff_11eb_945d_45efeef67b8a\" ><thead>    <tr>        <th class=\"blank level0\" ></th>        <th class=\"col_heading level0 col0\" >Accuracy</th>        <th class=\"col_heading level0 col1\" >AUC</th>        <th class=\"col_heading level0 col2\" >Recall</th>        <th class=\"col_heading level0 col3\" >Prec.</th>        <th class=\"col_heading level0 col4\" >F1</th>        <th class=\"col_heading level0 col5\" >Kappa</th>        <th class=\"col_heading level0 col6\" >MCC</th>    </tr></thead><tbody>\n",
       "                <tr>\n",
       "                        <th id=\"T_655442b8_40ff_11eb_945d_45efeef67b8alevel0_row0\" class=\"row_heading level0 row0\" >0</th>\n",
       "                        <td id=\"T_655442b8_40ff_11eb_945d_45efeef67b8arow0_col0\" class=\"data row0 col0\" >0.9544</td>\n",
       "                        <td id=\"T_655442b8_40ff_11eb_945d_45efeef67b8arow0_col1\" class=\"data row0 col1\" >0.9845</td>\n",
       "                        <td id=\"T_655442b8_40ff_11eb_945d_45efeef67b8arow0_col2\" class=\"data row0 col2\" >0.9521</td>\n",
       "                        <td id=\"T_655442b8_40ff_11eb_945d_45efeef67b8arow0_col3\" class=\"data row0 col3\" >0.9732</td>\n",
       "                        <td id=\"T_655442b8_40ff_11eb_945d_45efeef67b8arow0_col4\" class=\"data row0 col4\" >0.9625</td>\n",
       "                        <td id=\"T_655442b8_40ff_11eb_945d_45efeef67b8arow0_col5\" class=\"data row0 col5\" >0.9043</td>\n",
       "                        <td id=\"T_655442b8_40ff_11eb_945d_45efeef67b8arow0_col6\" class=\"data row0 col6\" >0.9047</td>\n",
       "            </tr>\n",
       "            <tr>\n",
       "                        <th id=\"T_655442b8_40ff_11eb_945d_45efeef67b8alevel0_row1\" class=\"row_heading level0 row1\" >1</th>\n",
       "                        <td id=\"T_655442b8_40ff_11eb_945d_45efeef67b8arow1_col0\" class=\"data row1 col0\" >0.9446</td>\n",
       "                        <td id=\"T_655442b8_40ff_11eb_945d_45efeef67b8arow1_col1\" class=\"data row1 col1\" >0.9801</td>\n",
       "                        <td id=\"T_655442b8_40ff_11eb_945d_45efeef67b8arow1_col2\" class=\"data row1 col2\" >0.9372</td>\n",
       "                        <td id=\"T_655442b8_40ff_11eb_945d_45efeef67b8arow1_col3\" class=\"data row1 col3\" >0.9716</td>\n",
       "                        <td id=\"T_655442b8_40ff_11eb_945d_45efeef67b8arow1_col4\" class=\"data row1 col4\" >0.9541</td>\n",
       "                        <td id=\"T_655442b8_40ff_11eb_945d_45efeef67b8arow1_col5\" class=\"data row1 col5\" >0.8842</td>\n",
       "                        <td id=\"T_655442b8_40ff_11eb_945d_45efeef67b8arow1_col6\" class=\"data row1 col6\" >0.8851</td>\n",
       "            </tr>\n",
       "            <tr>\n",
       "                        <th id=\"T_655442b8_40ff_11eb_945d_45efeef67b8alevel0_row2\" class=\"row_heading level0 row2\" >2</th>\n",
       "                        <td id=\"T_655442b8_40ff_11eb_945d_45efeef67b8arow2_col0\" class=\"data row2 col0\" >0.9537</td>\n",
       "                        <td id=\"T_655442b8_40ff_11eb_945d_45efeef67b8arow2_col1\" class=\"data row2 col1\" >0.9868</td>\n",
       "                        <td id=\"T_655442b8_40ff_11eb_945d_45efeef67b8arow2_col2\" class=\"data row2 col2\" >0.9492</td>\n",
       "                        <td id=\"T_655442b8_40ff_11eb_945d_45efeef67b8arow2_col3\" class=\"data row2 col3\" >0.9748</td>\n",
       "                        <td id=\"T_655442b8_40ff_11eb_945d_45efeef67b8arow2_col4\" class=\"data row2 col4\" >0.9618</td>\n",
       "                        <td id=\"T_655442b8_40ff_11eb_945d_45efeef67b8arow2_col5\" class=\"data row2 col5\" >0.9030</td>\n",
       "                        <td id=\"T_655442b8_40ff_11eb_945d_45efeef67b8arow2_col6\" class=\"data row2 col6\" >0.9035</td>\n",
       "            </tr>\n",
       "            <tr>\n",
       "                        <th id=\"T_655442b8_40ff_11eb_945d_45efeef67b8alevel0_row3\" class=\"row_heading level0 row3\" >3</th>\n",
       "                        <td id=\"T_655442b8_40ff_11eb_945d_45efeef67b8arow3_col0\" class=\"data row3 col0\" >0.9453</td>\n",
       "                        <td id=\"T_655442b8_40ff_11eb_945d_45efeef67b8arow3_col1\" class=\"data row3 col1\" >0.9773</td>\n",
       "                        <td id=\"T_655442b8_40ff_11eb_945d_45efeef67b8arow3_col2\" class=\"data row3 col2\" >0.9361</td>\n",
       "                        <td id=\"T_655442b8_40ff_11eb_945d_45efeef67b8arow3_col3\" class=\"data row3 col3\" >0.9739</td>\n",
       "                        <td id=\"T_655442b8_40ff_11eb_945d_45efeef67b8arow3_col4\" class=\"data row3 col4\" >0.9546</td>\n",
       "                        <td id=\"T_655442b8_40ff_11eb_945d_45efeef67b8arow3_col5\" class=\"data row3 col5\" >0.8858</td>\n",
       "                        <td id=\"T_655442b8_40ff_11eb_945d_45efeef67b8arow3_col6\" class=\"data row3 col6\" >0.8869</td>\n",
       "            </tr>\n",
       "            <tr>\n",
       "                        <th id=\"T_655442b8_40ff_11eb_945d_45efeef67b8alevel0_row4\" class=\"row_heading level0 row4\" >4</th>\n",
       "                        <td id=\"T_655442b8_40ff_11eb_945d_45efeef67b8arow4_col0\" class=\"data row4 col0\" >0.9505</td>\n",
       "                        <td id=\"T_655442b8_40ff_11eb_945d_45efeef67b8arow4_col1\" class=\"data row4 col1\" >0.9827</td>\n",
       "                        <td id=\"T_655442b8_40ff_11eb_945d_45efeef67b8arow4_col2\" class=\"data row4 col2\" >0.9435</td>\n",
       "                        <td id=\"T_655442b8_40ff_11eb_945d_45efeef67b8arow4_col3\" class=\"data row4 col3\" >0.9752</td>\n",
       "                        <td id=\"T_655442b8_40ff_11eb_945d_45efeef67b8arow4_col4\" class=\"data row4 col4\" >0.9591</td>\n",
       "                        <td id=\"T_655442b8_40ff_11eb_945d_45efeef67b8arow4_col5\" class=\"data row4 col5\" >0.8966</td>\n",
       "                        <td id=\"T_655442b8_40ff_11eb_945d_45efeef67b8arow4_col6\" class=\"data row4 col6\" >0.8974</td>\n",
       "            </tr>\n",
       "            <tr>\n",
       "                        <th id=\"T_655442b8_40ff_11eb_945d_45efeef67b8alevel0_row5\" class=\"row_heading level0 row5\" >5</th>\n",
       "                        <td id=\"T_655442b8_40ff_11eb_945d_45efeef67b8arow5_col0\" class=\"data row5 col0\" >0.9526</td>\n",
       "                        <td id=\"T_655442b8_40ff_11eb_945d_45efeef67b8arow5_col1\" class=\"data row5 col1\" >0.9822</td>\n",
       "                        <td id=\"T_655442b8_40ff_11eb_945d_45efeef67b8arow5_col2\" class=\"data row5 col2\" >0.9452</td>\n",
       "                        <td id=\"T_655442b8_40ff_11eb_945d_45efeef67b8arow5_col3\" class=\"data row5 col3\" >0.9770</td>\n",
       "                        <td id=\"T_655442b8_40ff_11eb_945d_45efeef67b8arow5_col4\" class=\"data row5 col4\" >0.9608</td>\n",
       "                        <td id=\"T_655442b8_40ff_11eb_945d_45efeef67b8arow5_col5\" class=\"data row5 col5\" >0.9010</td>\n",
       "                        <td id=\"T_655442b8_40ff_11eb_945d_45efeef67b8arow5_col6\" class=\"data row5 col6\" >0.9018</td>\n",
       "            </tr>\n",
       "            <tr>\n",
       "                        <th id=\"T_655442b8_40ff_11eb_945d_45efeef67b8alevel0_row6\" class=\"row_heading level0 row6\" >6</th>\n",
       "                        <td id=\"T_655442b8_40ff_11eb_945d_45efeef67b8arow6_col0\" class=\"data row6 col0\" >0.9540</td>\n",
       "                        <td id=\"T_655442b8_40ff_11eb_945d_45efeef67b8arow6_col1\" class=\"data row6 col1\" >0.9845</td>\n",
       "                        <td id=\"T_655442b8_40ff_11eb_945d_45efeef67b8arow6_col2\" class=\"data row6 col2\" >0.9515</td>\n",
       "                        <td id=\"T_655442b8_40ff_11eb_945d_45efeef67b8arow6_col3\" class=\"data row6 col3\" >0.9731</td>\n",
       "                        <td id=\"T_655442b8_40ff_11eb_945d_45efeef67b8arow6_col4\" class=\"data row6 col4\" >0.9622</td>\n",
       "                        <td id=\"T_655442b8_40ff_11eb_945d_45efeef67b8arow6_col5\" class=\"data row6 col5\" >0.9036</td>\n",
       "                        <td id=\"T_655442b8_40ff_11eb_945d_45efeef67b8arow6_col6\" class=\"data row6 col6\" >0.9040</td>\n",
       "            </tr>\n",
       "            <tr>\n",
       "                        <th id=\"T_655442b8_40ff_11eb_945d_45efeef67b8alevel0_row7\" class=\"row_heading level0 row7\" >7</th>\n",
       "                        <td id=\"T_655442b8_40ff_11eb_945d_45efeef67b8arow7_col0\" class=\"data row7 col0\" >0.9512</td>\n",
       "                        <td id=\"T_655442b8_40ff_11eb_945d_45efeef67b8arow7_col1\" class=\"data row7 col1\" >0.9817</td>\n",
       "                        <td id=\"T_655442b8_40ff_11eb_945d_45efeef67b8arow7_col2\" class=\"data row7 col2\" >0.9503</td>\n",
       "                        <td id=\"T_655442b8_40ff_11eb_945d_45efeef67b8arow7_col3\" class=\"data row7 col3\" >0.9697</td>\n",
       "                        <td id=\"T_655442b8_40ff_11eb_945d_45efeef67b8arow7_col4\" class=\"data row7 col4\" >0.9599</td>\n",
       "                        <td id=\"T_655442b8_40ff_11eb_945d_45efeef67b8arow7_col5\" class=\"data row7 col5\" >0.8977</td>\n",
       "                        <td id=\"T_655442b8_40ff_11eb_945d_45efeef67b8arow7_col6\" class=\"data row7 col6\" >0.8980</td>\n",
       "            </tr>\n",
       "            <tr>\n",
       "                        <th id=\"T_655442b8_40ff_11eb_945d_45efeef67b8alevel0_row8\" class=\"row_heading level0 row8\" >8</th>\n",
       "                        <td id=\"T_655442b8_40ff_11eb_945d_45efeef67b8arow8_col0\" class=\"data row8 col0\" >0.9432</td>\n",
       "                        <td id=\"T_655442b8_40ff_11eb_945d_45efeef67b8arow8_col1\" class=\"data row8 col1\" >0.9834</td>\n",
       "                        <td id=\"T_655442b8_40ff_11eb_945d_45efeef67b8arow8_col2\" class=\"data row8 col2\" >0.9446</td>\n",
       "                        <td id=\"T_655442b8_40ff_11eb_945d_45efeef67b8arow8_col3\" class=\"data row8 col3\" >0.9622</td>\n",
       "                        <td id=\"T_655442b8_40ff_11eb_945d_45efeef67b8arow8_col4\" class=\"data row8 col4\" >0.9533</td>\n",
       "                        <td id=\"T_655442b8_40ff_11eb_945d_45efeef67b8arow8_col5\" class=\"data row8 col5\" >0.8807</td>\n",
       "                        <td id=\"T_655442b8_40ff_11eb_945d_45efeef67b8arow8_col6\" class=\"data row8 col6\" >0.8809</td>\n",
       "            </tr>\n",
       "            <tr>\n",
       "                        <th id=\"T_655442b8_40ff_11eb_945d_45efeef67b8alevel0_row9\" class=\"row_heading level0 row9\" >9</th>\n",
       "                        <td id=\"T_655442b8_40ff_11eb_945d_45efeef67b8arow9_col0\" class=\"data row9 col0\" >0.9463</td>\n",
       "                        <td id=\"T_655442b8_40ff_11eb_945d_45efeef67b8arow9_col1\" class=\"data row9 col1\" >0.9788</td>\n",
       "                        <td id=\"T_655442b8_40ff_11eb_945d_45efeef67b8arow9_col2\" class=\"data row9 col2\" >0.9412</td>\n",
       "                        <td id=\"T_655442b8_40ff_11eb_945d_45efeef67b8arow9_col3\" class=\"data row9 col3\" >0.9706</td>\n",
       "                        <td id=\"T_655442b8_40ff_11eb_945d_45efeef67b8arow9_col4\" class=\"data row9 col4\" >0.9556</td>\n",
       "                        <td id=\"T_655442b8_40ff_11eb_945d_45efeef67b8arow9_col5\" class=\"data row9 col5\" >0.8876</td>\n",
       "                        <td id=\"T_655442b8_40ff_11eb_945d_45efeef67b8arow9_col6\" class=\"data row9 col6\" >0.8883</td>\n",
       "            </tr>\n",
       "            <tr>\n",
       "                        <th id=\"T_655442b8_40ff_11eb_945d_45efeef67b8alevel0_row10\" class=\"row_heading level0 row10\" >Mean</th>\n",
       "                        <td id=\"T_655442b8_40ff_11eb_945d_45efeef67b8arow10_col0\" class=\"data row10 col0\" >0.9496</td>\n",
       "                        <td id=\"T_655442b8_40ff_11eb_945d_45efeef67b8arow10_col1\" class=\"data row10 col1\" >0.9822</td>\n",
       "                        <td id=\"T_655442b8_40ff_11eb_945d_45efeef67b8arow10_col2\" class=\"data row10 col2\" >0.9451</td>\n",
       "                        <td id=\"T_655442b8_40ff_11eb_945d_45efeef67b8arow10_col3\" class=\"data row10 col3\" >0.9721</td>\n",
       "                        <td id=\"T_655442b8_40ff_11eb_945d_45efeef67b8arow10_col4\" class=\"data row10 col4\" >0.9584</td>\n",
       "                        <td id=\"T_655442b8_40ff_11eb_945d_45efeef67b8arow10_col5\" class=\"data row10 col5\" >0.8944</td>\n",
       "                        <td id=\"T_655442b8_40ff_11eb_945d_45efeef67b8arow10_col6\" class=\"data row10 col6\" >0.8950</td>\n",
       "            </tr>\n",
       "            <tr>\n",
       "                        <th id=\"T_655442b8_40ff_11eb_945d_45efeef67b8alevel0_row11\" class=\"row_heading level0 row11\" >SD</th>\n",
       "                        <td id=\"T_655442b8_40ff_11eb_945d_45efeef67b8arow11_col0\" class=\"data row11 col0\" >0.0041</td>\n",
       "                        <td id=\"T_655442b8_40ff_11eb_945d_45efeef67b8arow11_col1\" class=\"data row11 col1\" >0.0027</td>\n",
       "                        <td id=\"T_655442b8_40ff_11eb_945d_45efeef67b8arow11_col2\" class=\"data row11 col2\" >0.0054</td>\n",
       "                        <td id=\"T_655442b8_40ff_11eb_945d_45efeef67b8arow11_col3\" class=\"data row11 col3\" >0.0039</td>\n",
       "                        <td id=\"T_655442b8_40ff_11eb_945d_45efeef67b8arow11_col4\" class=\"data row11 col4\" >0.0034</td>\n",
       "                        <td id=\"T_655442b8_40ff_11eb_945d_45efeef67b8arow11_col5\" class=\"data row11 col5\" >0.0085</td>\n",
       "                        <td id=\"T_655442b8_40ff_11eb_945d_45efeef67b8arow11_col6\" class=\"data row11 col6\" >0.0085</td>\n",
       "            </tr>\n",
       "    </tbody></table>"
      ],
      "text/plain": [
       "<pandas.io.formats.style.Styler at 0x7f6bf0a55510>"
      ]
     },
     "metadata": {},
     "output_type": "display_data"
    }
   ],
   "source": [
    "modelS = trainPredict('lightgbm', X_trains, y_trains)"
   ]
  },
  {
   "cell_type": "code",
   "execution_count": 29,
   "metadata": {
    "scrolled": true
   },
   "outputs": [
    {
     "name": "stdout",
     "output_type": "stream",
     "text": [
      "[[7567 1135]\n",
      " [ 437  712]]\n",
      "0.6196692776327241\n"
     ]
    },
    {
     "data": {
      "image/png": "[encoded data removed]",
      "text/plain": [
       "<Figure size 432x288 with 1 Axes>"
      ]
     },
     "metadata": {
      "needs_background": "light"
     },
     "output_type": "display_data"
    }
   ],
   "source": [
    "plotModel(modelS, X_test, y_test)"
   ]
  },
  {
   "cell_type": "markdown",
   "metadata": {},
   "source": [
    "Iteration 2: Sampling using SMOTEENN and LGBMS with no hyperparameter tuning\n",
    "\n",
    "Recall: 0.62\n",
    "AUC: 0.74"
   ]
  },
  {
   "cell_type": "markdown",
   "metadata": {},
   "source": [
    "### 3. L1+Saga+SMOTEENN+LightGBM"
   ]
  },
  {
   "cell_type": "code",
   "execution_count": 290,
   "metadata": {},
   "outputs": [
    {
     "name": "stdout",
     "output_type": "stream",
     "text": [
      "Counter({1: 25043, 0: 15567})\n"
     ]
    }
   ],
   "source": [
    "from sklearn import preprocessing\n",
    "\n",
    "# scaler = preprocessing.StandardScaler()1\n",
    "# scaler = preprocessing.MinMaxScaler()\n",
    "\n",
    "cols = X_trains.columns\n",
    "\n",
    "# Xds = scaler.fit_transform(Xd)\n",
    "# Xds = pd.DataFrame(Xds, columns = Xd.columns)\n",
    "Xds = Xd\n",
    "\n",
    "X_train_, X_testss, y_train_, y_testss = train_test_split(Xds, y, stratify = y, test_size = 0.25)\n",
    "\n",
    "X_trainss, y_trainss = getSampled(X_train_, y_train_, SMOTEENN)"
   ]
  },
  {
   "cell_type": "code",
   "execution_count": 291,
   "metadata": {},
   "outputs": [
    {
     "data": {
      "text/html": [
       "<div>\n",
       "<style scoped>\n",
       "    .dataframe tbody tr th:only-of-type {\n",
       "        vertical-align: middle;\n",
       "    }\n",
       "\n",
       "    .dataframe tbody tr th {\n",
       "        vertical-align: top;\n",
       "    }\n",
       "\n",
       "    .dataframe thead th {\n",
       "        text-align: right;\n",
       "    }\n",
       "</style>\n",
       "<table border=\"1\" class=\"dataframe\">\n",
       "  <thead>\n",
       "    <tr style=\"text-align: right;\">\n",
       "      <th></th>\n",
       "      <th>age</th>\n",
       "      <th>campaign</th>\n",
       "      <th>pdays</th>\n",
       "      <th>previous</th>\n",
       "      <th>emp.var.rate</th>\n",
       "      <th>cons.price.idx</th>\n",
       "      <th>cons.conf.idx</th>\n",
       "      <th>euribor3m</th>\n",
       "      <th>nr.employed</th>\n",
       "      <th>job_blue-collar</th>\n",
       "      <th>...</th>\n",
       "      <th>month_may</th>\n",
       "      <th>month_nov</th>\n",
       "      <th>month_oct</th>\n",
       "      <th>month_sep</th>\n",
       "      <th>day_of_week_mon</th>\n",
       "      <th>day_of_week_thu</th>\n",
       "      <th>day_of_week_tue</th>\n",
       "      <th>day_of_week_wed</th>\n",
       "      <th>poutcome_nonexistent</th>\n",
       "      <th>poutcome_success</th>\n",
       "    </tr>\n",
       "  </thead>\n",
       "  <tbody>\n",
       "    <tr>\n",
       "      <th>0</th>\n",
       "      <td>56</td>\n",
       "      <td>1</td>\n",
       "      <td>999</td>\n",
       "      <td>0</td>\n",
       "      <td>1.1</td>\n",
       "      <td>93.994</td>\n",
       "      <td>-36.4</td>\n",
       "      <td>4.857</td>\n",
       "      <td>5191.0</td>\n",
       "      <td>0</td>\n",
       "      <td>...</td>\n",
       "      <td>1</td>\n",
       "      <td>0</td>\n",
       "      <td>0</td>\n",
       "      <td>0</td>\n",
       "      <td>1</td>\n",
       "      <td>0</td>\n",
       "      <td>0</td>\n",
       "      <td>0</td>\n",
       "      <td>1</td>\n",
       "      <td>0</td>\n",
       "    </tr>\n",
       "    <tr>\n",
       "      <th>1</th>\n",
       "      <td>57</td>\n",
       "      <td>1</td>\n",
       "      <td>999</td>\n",
       "      <td>0</td>\n",
       "      <td>1.1</td>\n",
       "      <td>93.994</td>\n",
       "      <td>-36.4</td>\n",
       "      <td>4.857</td>\n",
       "      <td>5191.0</td>\n",
       "      <td>0</td>\n",
       "      <td>...</td>\n",
       "      <td>1</td>\n",
       "      <td>0</td>\n",
       "      <td>0</td>\n",
       "      <td>0</td>\n",
       "      <td>1</td>\n",
       "      <td>0</td>\n",
       "      <td>0</td>\n",
       "      <td>0</td>\n",
       "      <td>1</td>\n",
       "      <td>0</td>\n",
       "    </tr>\n",
       "    <tr>\n",
       "      <th>2</th>\n",
       "      <td>37</td>\n",
       "      <td>1</td>\n",
       "      <td>999</td>\n",
       "      <td>0</td>\n",
       "      <td>1.1</td>\n",
       "      <td>93.994</td>\n",
       "      <td>-36.4</td>\n",
       "      <td>4.857</td>\n",
       "      <td>5191.0</td>\n",
       "      <td>0</td>\n",
       "      <td>...</td>\n",
       "      <td>1</td>\n",
       "      <td>0</td>\n",
       "      <td>0</td>\n",
       "      <td>0</td>\n",
       "      <td>1</td>\n",
       "      <td>0</td>\n",
       "      <td>0</td>\n",
       "      <td>0</td>\n",
       "      <td>1</td>\n",
       "      <td>0</td>\n",
       "    </tr>\n",
       "    <tr>\n",
       "      <th>3</th>\n",
       "      <td>40</td>\n",
       "      <td>1</td>\n",
       "      <td>999</td>\n",
       "      <td>0</td>\n",
       "      <td>1.1</td>\n",
       "      <td>93.994</td>\n",
       "      <td>-36.4</td>\n",
       "      <td>4.857</td>\n",
       "      <td>5191.0</td>\n",
       "      <td>0</td>\n",
       "      <td>...</td>\n",
       "      <td>1</td>\n",
       "      <td>0</td>\n",
       "      <td>0</td>\n",
       "      <td>0</td>\n",
       "      <td>1</td>\n",
       "      <td>0</td>\n",
       "      <td>0</td>\n",
       "      <td>0</td>\n",
       "      <td>1</td>\n",
       "      <td>0</td>\n",
       "    </tr>\n",
       "    <tr>\n",
       "      <th>4</th>\n",
       "      <td>56</td>\n",
       "      <td>1</td>\n",
       "      <td>999</td>\n",
       "      <td>0</td>\n",
       "      <td>1.1</td>\n",
       "      <td>93.994</td>\n",
       "      <td>-36.4</td>\n",
       "      <td>4.857</td>\n",
       "      <td>5191.0</td>\n",
       "      <td>0</td>\n",
       "      <td>...</td>\n",
       "      <td>1</td>\n",
       "      <td>0</td>\n",
       "      <td>0</td>\n",
       "      <td>0</td>\n",
       "      <td>1</td>\n",
       "      <td>0</td>\n",
       "      <td>0</td>\n",
       "      <td>0</td>\n",
       "      <td>1</td>\n",
       "      <td>0</td>\n",
       "    </tr>\n",
       "  </tbody>\n",
       "</table>\n",
       "<p>5 rows × 52 columns</p>\n",
       "</div>"
      ],
      "text/plain": [
       "   age  campaign  pdays  previous  emp.var.rate  cons.price.idx  \\\n",
       "0   56         1    999         0           1.1          93.994   \n",
       "1   57         1    999         0           1.1          93.994   \n",
       "2   37         1    999         0           1.1          93.994   \n",
       "3   40         1    999         0           1.1          93.994   \n",
       "4   56         1    999         0           1.1          93.994   \n",
       "\n",
       "   cons.conf.idx  euribor3m  nr.employed  job_blue-collar  ...  month_may  \\\n",
       "0          -36.4      4.857       5191.0                0  ...          1   \n",
       "1          -36.4      4.857       5191.0                0  ...          1   \n",
       "2          -36.4      4.857       5191.0                0  ...          1   \n",
       "3          -36.4      4.857       5191.0                0  ...          1   \n",
       "4          -36.4      4.857       5191.0                0  ...          1   \n",
       "\n",
       "   month_nov  month_oct  month_sep  day_of_week_mon  day_of_week_thu  \\\n",
       "0          0          0          0                1                0   \n",
       "1          0          0          0                1                0   \n",
       "2          0          0          0                1                0   \n",
       "3          0          0          0                1                0   \n",
       "4          0          0          0                1                0   \n",
       "\n",
       "   day_of_week_tue  day_of_week_wed  poutcome_nonexistent  poutcome_success  \n",
       "0                0                0                     1                 0  \n",
       "1                0                0                     1                 0  \n",
       "2                0                0                     1                 0  \n",
       "3                0                0                     1                 0  \n",
       "4                0                0                     1                 0  \n",
       "\n",
       "[5 rows x 52 columns]"
      ]
     },
     "execution_count": 291,
     "metadata": {},
     "output_type": "execute_result"
    }
   ],
   "source": [
    "Xds.head()"
   ]
  },
  {
   "cell_type": "code",
   "execution_count": 375,
   "metadata": {
    "scrolled": false
   },
   "outputs": [
    {
     "data": {
      "text/plain": [
       "SelectFromModel(estimator=LogisticRegression(C=0.05, class_weight=None,\n",
       "                                             dual=False, fit_intercept=True,\n",
       "                                             intercept_scaling=1, l1_ratio=None,\n",
       "                                             max_iter=100, multi_class='auto',\n",
       "                                             n_jobs=None, penalty='l1',\n",
       "                                             random_state=None, solver='saga',\n",
       "                                             tol=0.0001, verbose=0,\n",
       "                                             warm_start=False),\n",
       "                max_features=None, norm_order=1, prefit=False, threshold=None)"
      ]
     },
     "execution_count": 375,
     "metadata": {},
     "output_type": "execute_result"
    }
   ],
   "source": [
    "sel_ = SelectFromModel(LogisticRegression(C=0.05, penalty='l1', solver = 'saga'))\n",
    "sel_.fit(X_trainss, y_trainss)"
   ]
  },
  {
   "cell_type": "code",
   "execution_count": 376,
   "metadata": {},
   "outputs": [
    {
     "name": "stdout",
     "output_type": "stream",
     "text": [
      "total features: 52\n",
      "selected features: 49\n",
      "features with coefficients shrank to zero: 7\n"
     ]
    }
   ],
   "source": [
    "selected_feat = X_trainss.columns[(sel_.get_support())]\n",
    "\n",
    "print('total features: {}'.format((X_trainss.shape[1])))\n",
    "print('selected features: {}'.format(len(selected_feat)))\n",
    "print('features with coefficients shrank to zero: {}'.format(\n",
    "      np.sum(sel_.estimator_.coef_ >= 0.001)))"
   ]
  },
  {
   "cell_type": "code",
   "execution_count": 381,
   "metadata": {},
   "outputs": [
    {
     "data": {
      "text/plain": [
       "Index(['age', 'cons.price.idx', 'job_retired', 'job_student', 'marital_single',\n",
       "       'month_aug', 'month_dec', 'month_jul', 'month_mar', 'month_oct',\n",
       "       'month_sep', 'poutcome_success'],\n",
       "      dtype='object')"
      ]
     },
     "execution_count": 381,
     "metadata": {},
     "output_type": "execute_result"
    }
   ],
   "source": [
    "removed_feats = X_trainss.columns[(sel_.estimator_.coef_ >= 0.00005).ravel().tolist()]\n",
    "\n",
    "removed_feats"
   ]
  },
  {
   "cell_type": "code",
   "execution_count": 382,
   "metadata": {
    "scrolled": true
   },
   "outputs": [
    {
     "data": {
      "text/html": [
       "<div>\n",
       "<style scoped>\n",
       "    .dataframe tbody tr th:only-of-type {\n",
       "        vertical-align: middle;\n",
       "    }\n",
       "\n",
       "    .dataframe tbody tr th {\n",
       "        vertical-align: top;\n",
       "    }\n",
       "\n",
       "    .dataframe thead th {\n",
       "        text-align: right;\n",
       "    }\n",
       "</style>\n",
       "<table border=\"1\" class=\"dataframe\">\n",
       "  <thead>\n",
       "    <tr style=\"text-align: right;\">\n",
       "      <th></th>\n",
       "      <th>age</th>\n",
       "      <th>cons.price.idx</th>\n",
       "      <th>job_retired</th>\n",
       "      <th>job_student</th>\n",
       "      <th>marital_single</th>\n",
       "      <th>month_aug</th>\n",
       "      <th>month_dec</th>\n",
       "      <th>month_jul</th>\n",
       "      <th>month_mar</th>\n",
       "      <th>month_oct</th>\n",
       "      <th>month_sep</th>\n",
       "      <th>poutcome_success</th>\n",
       "    </tr>\n",
       "  </thead>\n",
       "  <tbody>\n",
       "    <tr>\n",
       "      <th>0</th>\n",
       "      <td>31</td>\n",
       "      <td>93.444</td>\n",
       "      <td>0</td>\n",
       "      <td>0</td>\n",
       "      <td>0</td>\n",
       "      <td>1</td>\n",
       "      <td>0</td>\n",
       "      <td>0</td>\n",
       "      <td>0</td>\n",
       "      <td>0</td>\n",
       "      <td>0</td>\n",
       "      <td>0</td>\n",
       "    </tr>\n",
       "    <tr>\n",
       "      <th>1</th>\n",
       "      <td>45</td>\n",
       "      <td>93.994</td>\n",
       "      <td>0</td>\n",
       "      <td>0</td>\n",
       "      <td>0</td>\n",
       "      <td>0</td>\n",
       "      <td>0</td>\n",
       "      <td>0</td>\n",
       "      <td>0</td>\n",
       "      <td>0</td>\n",
       "      <td>0</td>\n",
       "      <td>0</td>\n",
       "    </tr>\n",
       "    <tr>\n",
       "      <th>2</th>\n",
       "      <td>55</td>\n",
       "      <td>92.893</td>\n",
       "      <td>0</td>\n",
       "      <td>0</td>\n",
       "      <td>0</td>\n",
       "      <td>0</td>\n",
       "      <td>0</td>\n",
       "      <td>0</td>\n",
       "      <td>0</td>\n",
       "      <td>0</td>\n",
       "      <td>0</td>\n",
       "      <td>0</td>\n",
       "    </tr>\n",
       "    <tr>\n",
       "      <th>3</th>\n",
       "      <td>47</td>\n",
       "      <td>93.075</td>\n",
       "      <td>0</td>\n",
       "      <td>0</td>\n",
       "      <td>1</td>\n",
       "      <td>0</td>\n",
       "      <td>0</td>\n",
       "      <td>0</td>\n",
       "      <td>0</td>\n",
       "      <td>0</td>\n",
       "      <td>0</td>\n",
       "      <td>0</td>\n",
       "    </tr>\n",
       "    <tr>\n",
       "      <th>4</th>\n",
       "      <td>51</td>\n",
       "      <td>93.200</td>\n",
       "      <td>0</td>\n",
       "      <td>0</td>\n",
       "      <td>0</td>\n",
       "      <td>0</td>\n",
       "      <td>0</td>\n",
       "      <td>0</td>\n",
       "      <td>0</td>\n",
       "      <td>0</td>\n",
       "      <td>0</td>\n",
       "      <td>0</td>\n",
       "    </tr>\n",
       "  </tbody>\n",
       "</table>\n",
       "</div>"
      ],
      "text/plain": [
       "   age  cons.price.idx  job_retired  job_student  marital_single  month_aug  \\\n",
       "0   31          93.444            0            0               0          1   \n",
       "1   45          93.994            0            0               0          0   \n",
       "2   55          92.893            0            0               0          0   \n",
       "3   47          93.075            0            0               1          0   \n",
       "4   51          93.200            0            0               0          0   \n",
       "\n",
       "   month_dec  month_jul  month_mar  month_oct  month_sep  poutcome_success  \n",
       "0          0          0          0          0          0                 0  \n",
       "1          0          0          0          0          0                 0  \n",
       "2          0          0          0          0          0                 0  \n",
       "3          0          0          0          0          0                 0  \n",
       "4          0          0          0          0          0                 0  "
      ]
     },
     "execution_count": 382,
     "metadata": {},
     "output_type": "execute_result"
    }
   ],
   "source": [
    "X_train1 = X_trainss[removed_feats]\n",
    "X_train1.head()"
   ]
  },
  {
   "cell_type": "code",
   "execution_count": 383,
   "metadata": {
    "scrolled": false
   },
   "outputs": [
    {
     "data": {
      "text/html": [
       "<style  type=\"text/css\" >\n",
       "#T_300a88b6_4112_11eb_945d_45efeef67b8arow10_col0,#T_300a88b6_4112_11eb_945d_45efeef67b8arow10_col1,#T_300a88b6_4112_11eb_945d_45efeef67b8arow10_col2,#T_300a88b6_4112_11eb_945d_45efeef67b8arow10_col3,#T_300a88b6_4112_11eb_945d_45efeef67b8arow10_col4,#T_300a88b6_4112_11eb_945d_45efeef67b8arow10_col5,#T_300a88b6_4112_11eb_945d_45efeef67b8arow10_col6{\n",
       "            background:  yellow;\n",
       "        }</style><table id=\"T_300a88b6_4112_11eb_945d_45efeef67b8a\" ><thead>    <tr>        <th class=\"blank level0\" ></th>        <th class=\"col_heading level0 col0\" >Accuracy</th>        <th class=\"col_heading level0 col1\" >AUC</th>        <th class=\"col_heading level0 col2\" >Recall</th>        <th class=\"col_heading level0 col3\" >Prec.</th>        <th class=\"col_heading level0 col4\" >F1</th>        <th class=\"col_heading level0 col5\" >Kappa</th>        <th class=\"col_heading level0 col6\" >MCC</th>    </tr></thead><tbody>\n",
       "                <tr>\n",
       "                        <th id=\"T_300a88b6_4112_11eb_945d_45efeef67b8alevel0_row0\" class=\"row_heading level0 row0\" >0</th>\n",
       "                        <td id=\"T_300a88b6_4112_11eb_945d_45efeef67b8arow0_col0\" class=\"data row0 col0\" >0.7974</td>\n",
       "                        <td id=\"T_300a88b6_4112_11eb_945d_45efeef67b8arow0_col1\" class=\"data row0 col1\" >0.8895</td>\n",
       "                        <td id=\"T_300a88b6_4112_11eb_945d_45efeef67b8arow0_col2\" class=\"data row0 col2\" >0.7872</td>\n",
       "                        <td id=\"T_300a88b6_4112_11eb_945d_45efeef67b8arow0_col3\" class=\"data row0 col3\" >0.8718</td>\n",
       "                        <td id=\"T_300a88b6_4112_11eb_945d_45efeef67b8arow0_col4\" class=\"data row0 col4\" >0.8273</td>\n",
       "                        <td id=\"T_300a88b6_4112_11eb_945d_45efeef67b8arow0_col5\" class=\"data row0 col5\" >0.5838</td>\n",
       "                        <td id=\"T_300a88b6_4112_11eb_945d_45efeef67b8arow0_col6\" class=\"data row0 col6\" >0.5882</td>\n",
       "            </tr>\n",
       "            <tr>\n",
       "                        <th id=\"T_300a88b6_4112_11eb_945d_45efeef67b8alevel0_row1\" class=\"row_heading level0 row1\" >1</th>\n",
       "                        <td id=\"T_300a88b6_4112_11eb_945d_45efeef67b8arow1_col0\" class=\"data row1 col0\" >0.7897</td>\n",
       "                        <td id=\"T_300a88b6_4112_11eb_945d_45efeef67b8arow1_col1\" class=\"data row1 col1\" >0.8899</td>\n",
       "                        <td id=\"T_300a88b6_4112_11eb_945d_45efeef67b8arow1_col2\" class=\"data row1 col2\" >0.7781</td>\n",
       "                        <td id=\"T_300a88b6_4112_11eb_945d_45efeef67b8arow1_col3\" class=\"data row1 col3\" >0.8671</td>\n",
       "                        <td id=\"T_300a88b6_4112_11eb_945d_45efeef67b8arow1_col4\" class=\"data row1 col4\" >0.8202</td>\n",
       "                        <td id=\"T_300a88b6_4112_11eb_945d_45efeef67b8arow1_col5\" class=\"data row1 col5\" >0.5686</td>\n",
       "                        <td id=\"T_300a88b6_4112_11eb_945d_45efeef67b8arow1_col6\" class=\"data row1 col6\" >0.5735</td>\n",
       "            </tr>\n",
       "            <tr>\n",
       "                        <th id=\"T_300a88b6_4112_11eb_945d_45efeef67b8alevel0_row2\" class=\"row_heading level0 row2\" >2</th>\n",
       "                        <td id=\"T_300a88b6_4112_11eb_945d_45efeef67b8arow2_col0\" class=\"data row2 col0\" >0.7928</td>\n",
       "                        <td id=\"T_300a88b6_4112_11eb_945d_45efeef67b8arow2_col1\" class=\"data row2 col1\" >0.8852</td>\n",
       "                        <td id=\"T_300a88b6_4112_11eb_945d_45efeef67b8arow2_col2\" class=\"data row2 col2\" >0.7855</td>\n",
       "                        <td id=\"T_300a88b6_4112_11eb_945d_45efeef67b8arow2_col3\" class=\"data row2 col3\" >0.8660</td>\n",
       "                        <td id=\"T_300a88b6_4112_11eb_945d_45efeef67b8arow2_col4\" class=\"data row2 col4\" >0.8238</td>\n",
       "                        <td id=\"T_300a88b6_4112_11eb_945d_45efeef67b8arow2_col5\" class=\"data row2 col5\" >0.5739</td>\n",
       "                        <td id=\"T_300a88b6_4112_11eb_945d_45efeef67b8arow2_col6\" class=\"data row2 col6\" >0.5779</td>\n",
       "            </tr>\n",
       "            <tr>\n",
       "                        <th id=\"T_300a88b6_4112_11eb_945d_45efeef67b8alevel0_row3\" class=\"row_heading level0 row3\" >3</th>\n",
       "                        <td id=\"T_300a88b6_4112_11eb_945d_45efeef67b8arow3_col0\" class=\"data row3 col0\" >0.8020</td>\n",
       "                        <td id=\"T_300a88b6_4112_11eb_945d_45efeef67b8arow3_col1\" class=\"data row3 col1\" >0.8992</td>\n",
       "                        <td id=\"T_300a88b6_4112_11eb_945d_45efeef67b8arow3_col2\" class=\"data row3 col2\" >0.7952</td>\n",
       "                        <td id=\"T_300a88b6_4112_11eb_945d_45efeef67b8arow3_col3\" class=\"data row3 col3\" >0.8723</td>\n",
       "                        <td id=\"T_300a88b6_4112_11eb_945d_45efeef67b8arow3_col4\" class=\"data row3 col4\" >0.8320</td>\n",
       "                        <td id=\"T_300a88b6_4112_11eb_945d_45efeef67b8arow3_col5\" class=\"data row3 col5\" >0.5921</td>\n",
       "                        <td id=\"T_300a88b6_4112_11eb_945d_45efeef67b8arow3_col6\" class=\"data row3 col6\" >0.5959</td>\n",
       "            </tr>\n",
       "            <tr>\n",
       "                        <th id=\"T_300a88b6_4112_11eb_945d_45efeef67b8alevel0_row4\" class=\"row_heading level0 row4\" >4</th>\n",
       "                        <td id=\"T_300a88b6_4112_11eb_945d_45efeef67b8arow4_col0\" class=\"data row4 col0\" >0.7897</td>\n",
       "                        <td id=\"T_300a88b6_4112_11eb_945d_45efeef67b8arow4_col1\" class=\"data row4 col1\" >0.8846</td>\n",
       "                        <td id=\"T_300a88b6_4112_11eb_945d_45efeef67b8arow4_col2\" class=\"data row4 col2\" >0.7684</td>\n",
       "                        <td id=\"T_300a88b6_4112_11eb_945d_45efeef67b8arow4_col3\" class=\"data row4 col3\" >0.8752</td>\n",
       "                        <td id=\"T_300a88b6_4112_11eb_945d_45efeef67b8arow4_col4\" class=\"data row4 col4\" >0.8183</td>\n",
       "                        <td id=\"T_300a88b6_4112_11eb_945d_45efeef67b8arow4_col5\" class=\"data row4 col5\" >0.5710</td>\n",
       "                        <td id=\"T_300a88b6_4112_11eb_945d_45efeef67b8arow4_col6\" class=\"data row4 col6\" >0.5779</td>\n",
       "            </tr>\n",
       "            <tr>\n",
       "                        <th id=\"T_300a88b6_4112_11eb_945d_45efeef67b8alevel0_row5\" class=\"row_heading level0 row5\" >5</th>\n",
       "                        <td id=\"T_300a88b6_4112_11eb_945d_45efeef67b8arow5_col0\" class=\"data row5 col0\" >0.7921</td>\n",
       "                        <td id=\"T_300a88b6_4112_11eb_945d_45efeef67b8arow5_col1\" class=\"data row5 col1\" >0.8879</td>\n",
       "                        <td id=\"T_300a88b6_4112_11eb_945d_45efeef67b8arow5_col2\" class=\"data row5 col2\" >0.7741</td>\n",
       "                        <td id=\"T_300a88b6_4112_11eb_945d_45efeef67b8arow5_col3\" class=\"data row5 col3\" >0.8744</td>\n",
       "                        <td id=\"T_300a88b6_4112_11eb_945d_45efeef67b8arow5_col4\" class=\"data row5 col4\" >0.8212</td>\n",
       "                        <td id=\"T_300a88b6_4112_11eb_945d_45efeef67b8arow5_col5\" class=\"data row5 col5\" >0.5751</td>\n",
       "                        <td id=\"T_300a88b6_4112_11eb_945d_45efeef67b8arow5_col6\" class=\"data row5 col6\" >0.5812</td>\n",
       "            </tr>\n",
       "            <tr>\n",
       "                        <th id=\"T_300a88b6_4112_11eb_945d_45efeef67b8alevel0_row6\" class=\"row_heading level0 row6\" >6</th>\n",
       "                        <td id=\"T_300a88b6_4112_11eb_945d_45efeef67b8arow6_col0\" class=\"data row6 col0\" >0.7882</td>\n",
       "                        <td id=\"T_300a88b6_4112_11eb_945d_45efeef67b8arow6_col1\" class=\"data row6 col1\" >0.8840</td>\n",
       "                        <td id=\"T_300a88b6_4112_11eb_945d_45efeef67b8arow6_col2\" class=\"data row6 col2\" >0.7643</td>\n",
       "                        <td id=\"T_300a88b6_4112_11eb_945d_45efeef67b8arow6_col3\" class=\"data row6 col3\" >0.8763</td>\n",
       "                        <td id=\"T_300a88b6_4112_11eb_945d_45efeef67b8arow6_col4\" class=\"data row6 col4\" >0.8165</td>\n",
       "                        <td id=\"T_300a88b6_4112_11eb_945d_45efeef67b8arow6_col5\" class=\"data row6 col5\" >0.5688</td>\n",
       "                        <td id=\"T_300a88b6_4112_11eb_945d_45efeef67b8arow6_col6\" class=\"data row6 col6\" >0.5763</td>\n",
       "            </tr>\n",
       "            <tr>\n",
       "                        <th id=\"T_300a88b6_4112_11eb_945d_45efeef67b8alevel0_row7\" class=\"row_heading level0 row7\" >7</th>\n",
       "                        <td id=\"T_300a88b6_4112_11eb_945d_45efeef67b8arow7_col0\" class=\"data row7 col0\" >0.8033</td>\n",
       "                        <td id=\"T_300a88b6_4112_11eb_945d_45efeef67b8arow7_col1\" class=\"data row7 col1\" >0.8968</td>\n",
       "                        <td id=\"T_300a88b6_4112_11eb_945d_45efeef67b8arow7_col2\" class=\"data row7 col2\" >0.8003</td>\n",
       "                        <td id=\"T_300a88b6_4112_11eb_945d_45efeef67b8arow7_col3\" class=\"data row7 col3\" >0.8703</td>\n",
       "                        <td id=\"T_300a88b6_4112_11eb_945d_45efeef67b8arow7_col4\" class=\"data row7 col4\" >0.8339</td>\n",
       "                        <td id=\"T_300a88b6_4112_11eb_945d_45efeef67b8arow7_col5\" class=\"data row7 col5\" >0.5939</td>\n",
       "                        <td id=\"T_300a88b6_4112_11eb_945d_45efeef67b8arow7_col6\" class=\"data row7 col6\" >0.5970</td>\n",
       "            </tr>\n",
       "            <tr>\n",
       "                        <th id=\"T_300a88b6_4112_11eb_945d_45efeef67b8alevel0_row8\" class=\"row_heading level0 row8\" >8</th>\n",
       "                        <td id=\"T_300a88b6_4112_11eb_945d_45efeef67b8arow8_col0\" class=\"data row8 col0\" >0.8008</td>\n",
       "                        <td id=\"T_300a88b6_4112_11eb_945d_45efeef67b8arow8_col1\" class=\"data row8 col1\" >0.8896</td>\n",
       "                        <td id=\"T_300a88b6_4112_11eb_945d_45efeef67b8arow8_col2\" class=\"data row8 col2\" >0.7929</td>\n",
       "                        <td id=\"T_300a88b6_4112_11eb_945d_45efeef67b8arow8_col3\" class=\"data row8 col3\" >0.8726</td>\n",
       "                        <td id=\"T_300a88b6_4112_11eb_945d_45efeef67b8arow8_col4\" class=\"data row8 col4\" >0.8308</td>\n",
       "                        <td id=\"T_300a88b6_4112_11eb_945d_45efeef67b8arow8_col5\" class=\"data row8 col5\" >0.5901</td>\n",
       "                        <td id=\"T_300a88b6_4112_11eb_945d_45efeef67b8arow8_col6\" class=\"data row8 col6\" >0.5941</td>\n",
       "            </tr>\n",
       "            <tr>\n",
       "                        <th id=\"T_300a88b6_4112_11eb_945d_45efeef67b8alevel0_row9\" class=\"row_heading level0 row9\" >9</th>\n",
       "                        <td id=\"T_300a88b6_4112_11eb_945d_45efeef67b8arow9_col0\" class=\"data row9 col0\" >0.7843</td>\n",
       "                        <td id=\"T_300a88b6_4112_11eb_945d_45efeef67b8arow9_col1\" class=\"data row9 col1\" >0.8785</td>\n",
       "                        <td id=\"T_300a88b6_4112_11eb_945d_45efeef67b8arow9_col2\" class=\"data row9 col2\" >0.7735</td>\n",
       "                        <td id=\"T_300a88b6_4112_11eb_945d_45efeef67b8arow9_col3\" class=\"data row9 col3\" >0.8626</td>\n",
       "                        <td id=\"T_300a88b6_4112_11eb_945d_45efeef67b8arow9_col4\" class=\"data row9 col4\" >0.8156</td>\n",
       "                        <td id=\"T_300a88b6_4112_11eb_945d_45efeef67b8arow9_col5\" class=\"data row9 col5\" >0.5576</td>\n",
       "                        <td id=\"T_300a88b6_4112_11eb_945d_45efeef67b8arow9_col6\" class=\"data row9 col6\" >0.5624</td>\n",
       "            </tr>\n",
       "            <tr>\n",
       "                        <th id=\"T_300a88b6_4112_11eb_945d_45efeef67b8alevel0_row10\" class=\"row_heading level0 row10\" >Mean</th>\n",
       "                        <td id=\"T_300a88b6_4112_11eb_945d_45efeef67b8arow10_col0\" class=\"data row10 col0\" >0.7940</td>\n",
       "                        <td id=\"T_300a88b6_4112_11eb_945d_45efeef67b8arow10_col1\" class=\"data row10 col1\" >0.8885</td>\n",
       "                        <td id=\"T_300a88b6_4112_11eb_945d_45efeef67b8arow10_col2\" class=\"data row10 col2\" >0.7820</td>\n",
       "                        <td id=\"T_300a88b6_4112_11eb_945d_45efeef67b8arow10_col3\" class=\"data row10 col3\" >0.8709</td>\n",
       "                        <td id=\"T_300a88b6_4112_11eb_945d_45efeef67b8arow10_col4\" class=\"data row10 col4\" >0.8240</td>\n",
       "                        <td id=\"T_300a88b6_4112_11eb_945d_45efeef67b8arow10_col5\" class=\"data row10 col5\" >0.5775</td>\n",
       "                        <td id=\"T_300a88b6_4112_11eb_945d_45efeef67b8arow10_col6\" class=\"data row10 col6\" >0.5824</td>\n",
       "            </tr>\n",
       "            <tr>\n",
       "                        <th id=\"T_300a88b6_4112_11eb_945d_45efeef67b8alevel0_row11\" class=\"row_heading level0 row11\" >SD</th>\n",
       "                        <td id=\"T_300a88b6_4112_11eb_945d_45efeef67b8arow11_col0\" class=\"data row11 col0\" >0.0062</td>\n",
       "                        <td id=\"T_300a88b6_4112_11eb_945d_45efeef67b8arow11_col1\" class=\"data row11 col1\" >0.0058</td>\n",
       "                        <td id=\"T_300a88b6_4112_11eb_945d_45efeef67b8arow11_col2\" class=\"data row11 col2\" >0.0115</td>\n",
       "                        <td id=\"T_300a88b6_4112_11eb_945d_45efeef67b8arow11_col3\" class=\"data row11 col3\" >0.0042</td>\n",
       "                        <td id=\"T_300a88b6_4112_11eb_945d_45efeef67b8arow11_col4\" class=\"data row11 col4\" >0.0063</td>\n",
       "                        <td id=\"T_300a88b6_4112_11eb_945d_45efeef67b8arow11_col5\" class=\"data row11 col5\" >0.0114</td>\n",
       "                        <td id=\"T_300a88b6_4112_11eb_945d_45efeef67b8arow11_col6\" class=\"data row11 col6\" >0.0106</td>\n",
       "            </tr>\n",
       "    </tbody></table>"
      ],
      "text/plain": [
       "<pandas.io.formats.style.Styler at 0x7f6b29443310>"
      ]
     },
     "metadata": {},
     "output_type": "display_data"
    }
   ],
   "source": [
    "modelL = trainPredict('lightgbm', X_train1, y_trainss)"
   ]
  },
  {
   "cell_type": "code",
   "execution_count": 384,
   "metadata": {},
   "outputs": [
    {
     "name": "stdout",
     "output_type": "stream",
     "text": [
      "[[6185 2516]\n",
      " [ 378  772]]\n",
      "0.671304347826087\n"
     ]
    },
    {
     "data": {
      "image/png": "[encoded data removed]",
      "text/plain": [
       "<Figure size 432x288 with 1 Axes>"
      ]
     },
     "metadata": {
      "needs_background": "light"
     },
     "output_type": "display_data"
    }
   ],
   "source": [
    "plotModel(modelL, X_testss, y_testss)"
   ]
  },
  {
   "cell_type": "markdown",
   "metadata": {},
   "source": [
    "### 4. SMOTEENN + Manual Feature Selection using EDA"
   ]
  },
  {
   "cell_type": "code",
   "execution_count": 430,
   "metadata": {
    "scrolled": true
   },
   "outputs": [],
   "source": [
    "selected_feat = ['default_yes', 'contact_telephone', 'poutcome_nonexistent', 'poutcome_success', \n",
    "                'job_student', 'job_retired', 'marital_unknown', 'education_basic.9y', 'education_basic.6y', \n",
    "                'cons.price.idx', 'campaign']"
   ]
  },
  {
   "cell_type": "code",
   "execution_count": 431,
   "metadata": {},
   "outputs": [
    {
     "data": {
      "text/plain": [
       "Index(['age', 'campaign', 'pdays', 'previous', 'emp.var.rate',\n",
       "       'cons.price.idx', 'cons.conf.idx', 'euribor3m', 'nr.employed',\n",
       "       'job_blue-collar', 'job_entrepreneur', 'job_housemaid',\n",
       "       'job_management', 'job_retired', 'job_self-employed', 'job_services',\n",
       "       'job_student', 'job_technician', 'job_unemployed', 'job_unknown',\n",
       "       'marital_married', 'marital_single', 'marital_unknown',\n",
       "       'education_basic.6y', 'education_basic.9y', 'education_high.school',\n",
       "       'education_illiterate', 'education_professional.course',\n",
       "       'education_university.degree', 'education_unknown', 'default_unknown',\n",
       "       'default_yes', 'housing_unknown', 'housing_yes', 'loan_unknown',\n",
       "       'loan_yes', 'contact_telephone', 'month_aug', 'month_dec', 'month_jul',\n",
       "       'month_jun', 'month_mar', 'month_may', 'month_nov', 'month_oct',\n",
       "       'month_sep', 'day_of_week_mon', 'day_of_week_thu', 'day_of_week_tue',\n",
       "       'day_of_week_wed', 'poutcome_nonexistent', 'poutcome_success'],\n",
       "      dtype='object')"
      ]
     },
     "execution_count": 431,
     "metadata": {},
     "output_type": "execute_result"
    }
   ],
   "source": [
    "Xd.columns"
   ]
  },
  {
   "cell_type": "code",
   "execution_count": 432,
   "metadata": {
    "scrolled": true
   },
   "outputs": [
    {
     "data": {
      "text/html": [
       "<div>\n",
       "<style scoped>\n",
       "    .dataframe tbody tr th:only-of-type {\n",
       "        vertical-align: middle;\n",
       "    }\n",
       "\n",
       "    .dataframe tbody tr th {\n",
       "        vertical-align: top;\n",
       "    }\n",
       "\n",
       "    .dataframe thead th {\n",
       "        text-align: right;\n",
       "    }\n",
       "</style>\n",
       "<table border=\"1\" class=\"dataframe\">\n",
       "  <thead>\n",
       "    <tr style=\"text-align: right;\">\n",
       "      <th></th>\n",
       "      <th>default_yes</th>\n",
       "      <th>contact_telephone</th>\n",
       "      <th>poutcome_nonexistent</th>\n",
       "      <th>poutcome_success</th>\n",
       "      <th>job_student</th>\n",
       "      <th>job_retired</th>\n",
       "      <th>marital_unknown</th>\n",
       "      <th>education_basic.9y</th>\n",
       "      <th>education_basic.6y</th>\n",
       "      <th>cons.price.idx</th>\n",
       "      <th>campaign</th>\n",
       "    </tr>\n",
       "  </thead>\n",
       "  <tbody>\n",
       "    <tr>\n",
       "      <th>0</th>\n",
       "      <td>0</td>\n",
       "      <td>0</td>\n",
       "      <td>1</td>\n",
       "      <td>0</td>\n",
       "      <td>0</td>\n",
       "      <td>0</td>\n",
       "      <td>0</td>\n",
       "      <td>0</td>\n",
       "      <td>0</td>\n",
       "      <td>93.444</td>\n",
       "      <td>2</td>\n",
       "    </tr>\n",
       "    <tr>\n",
       "      <th>1</th>\n",
       "      <td>0</td>\n",
       "      <td>1</td>\n",
       "      <td>1</td>\n",
       "      <td>0</td>\n",
       "      <td>0</td>\n",
       "      <td>0</td>\n",
       "      <td>0</td>\n",
       "      <td>0</td>\n",
       "      <td>0</td>\n",
       "      <td>93.994</td>\n",
       "      <td>1</td>\n",
       "    </tr>\n",
       "    <tr>\n",
       "      <th>2</th>\n",
       "      <td>0</td>\n",
       "      <td>0</td>\n",
       "      <td>1</td>\n",
       "      <td>0</td>\n",
       "      <td>0</td>\n",
       "      <td>0</td>\n",
       "      <td>0</td>\n",
       "      <td>1</td>\n",
       "      <td>0</td>\n",
       "      <td>92.893</td>\n",
       "      <td>1</td>\n",
       "    </tr>\n",
       "    <tr>\n",
       "      <th>3</th>\n",
       "      <td>0</td>\n",
       "      <td>0</td>\n",
       "      <td>1</td>\n",
       "      <td>0</td>\n",
       "      <td>0</td>\n",
       "      <td>0</td>\n",
       "      <td>0</td>\n",
       "      <td>1</td>\n",
       "      <td>0</td>\n",
       "      <td>93.075</td>\n",
       "      <td>2</td>\n",
       "    </tr>\n",
       "    <tr>\n",
       "      <th>4</th>\n",
       "      <td>0</td>\n",
       "      <td>0</td>\n",
       "      <td>0</td>\n",
       "      <td>0</td>\n",
       "      <td>0</td>\n",
       "      <td>0</td>\n",
       "      <td>0</td>\n",
       "      <td>0</td>\n",
       "      <td>0</td>\n",
       "      <td>93.200</td>\n",
       "      <td>2</td>\n",
       "    </tr>\n",
       "  </tbody>\n",
       "</table>\n",
       "</div>"
      ],
      "text/plain": [
       "   default_yes  contact_telephone  poutcome_nonexistent  poutcome_success  \\\n",
       "0            0                  0                     1                 0   \n",
       "1            0                  1                     1                 0   \n",
       "2            0                  0                     1                 0   \n",
       "3            0                  0                     1                 0   \n",
       "4            0                  0                     0                 0   \n",
       "\n",
       "   job_student  job_retired  marital_unknown  education_basic.9y  \\\n",
       "0            0            0                0                   0   \n",
       "1            0            0                0                   0   \n",
       "2            0            0                0                   1   \n",
       "3            0            0                0                   1   \n",
       "4            0            0                0                   0   \n",
       "\n",
       "   education_basic.6y  cons.price.idx  campaign  \n",
       "0                   0          93.444         2  \n",
       "1                   0          93.994         1  \n",
       "2                   0          92.893         1  \n",
       "3                   0          93.075         2  \n",
       "4                   0          93.200         2  "
      ]
     },
     "execution_count": 432,
     "metadata": {},
     "output_type": "execute_result"
    }
   ],
   "source": [
    "X_train1 = X_trainss[selected_feat]\n",
    "X_train1.head()"
   ]
  },
  {
   "cell_type": "code",
   "execution_count": 433,
   "metadata": {
    "scrolled": false
   },
   "outputs": [
    {
     "data": {
      "text/html": [
       "<style  type=\"text/css\" >\n",
       "#T_b41884b8_4113_11eb_945d_45efeef67b8arow10_col0,#T_b41884b8_4113_11eb_945d_45efeef67b8arow10_col1,#T_b41884b8_4113_11eb_945d_45efeef67b8arow10_col2,#T_b41884b8_4113_11eb_945d_45efeef67b8arow10_col3,#T_b41884b8_4113_11eb_945d_45efeef67b8arow10_col4,#T_b41884b8_4113_11eb_945d_45efeef67b8arow10_col5,#T_b41884b8_4113_11eb_945d_45efeef67b8arow10_col6{\n",
       "            background:  yellow;\n",
       "        }</style><table id=\"T_b41884b8_4113_11eb_945d_45efeef67b8a\" ><thead>    <tr>        <th class=\"blank level0\" ></th>        <th class=\"col_heading level0 col0\" >Accuracy</th>        <th class=\"col_heading level0 col1\" >AUC</th>        <th class=\"col_heading level0 col2\" >Recall</th>        <th class=\"col_heading level0 col3\" >Prec.</th>        <th class=\"col_heading level0 col4\" >F1</th>        <th class=\"col_heading level0 col5\" >Kappa</th>        <th class=\"col_heading level0 col6\" >MCC</th>    </tr></thead><tbody>\n",
       "                <tr>\n",
       "                        <th id=\"T_b41884b8_4113_11eb_945d_45efeef67b8alevel0_row0\" class=\"row_heading level0 row0\" >0</th>\n",
       "                        <td id=\"T_b41884b8_4113_11eb_945d_45efeef67b8arow0_col0\" class=\"data row0 col0\" >0.7953</td>\n",
       "                        <td id=\"T_b41884b8_4113_11eb_945d_45efeef67b8arow0_col1\" class=\"data row0 col1\" >0.8858</td>\n",
       "                        <td id=\"T_b41884b8_4113_11eb_945d_45efeef67b8arow0_col2\" class=\"data row0 col2\" >0.8072</td>\n",
       "                        <td id=\"T_b41884b8_4113_11eb_945d_45efeef67b8arow0_col3\" class=\"data row0 col3\" >0.8529</td>\n",
       "                        <td id=\"T_b41884b8_4113_11eb_945d_45efeef67b8arow0_col4\" class=\"data row0 col4\" >0.8294</td>\n",
       "                        <td id=\"T_b41884b8_4113_11eb_945d_45efeef67b8arow0_col5\" class=\"data row0 col5\" >0.5740</td>\n",
       "                        <td id=\"T_b41884b8_4113_11eb_945d_45efeef67b8arow0_col6\" class=\"data row0 col6\" >0.5753</td>\n",
       "            </tr>\n",
       "            <tr>\n",
       "                        <th id=\"T_b41884b8_4113_11eb_945d_45efeef67b8alevel0_row1\" class=\"row_heading level0 row1\" >1</th>\n",
       "                        <td id=\"T_b41884b8_4113_11eb_945d_45efeef67b8arow1_col0\" class=\"data row1 col0\" >0.7960</td>\n",
       "                        <td id=\"T_b41884b8_4113_11eb_945d_45efeef67b8arow1_col1\" class=\"data row1 col1\" >0.8841</td>\n",
       "                        <td id=\"T_b41884b8_4113_11eb_945d_45efeef67b8arow1_col2\" class=\"data row1 col2\" >0.8163</td>\n",
       "                        <td id=\"T_b41884b8_4113_11eb_945d_45efeef67b8arow1_col3\" class=\"data row1 col3\" >0.8472</td>\n",
       "                        <td id=\"T_b41884b8_4113_11eb_945d_45efeef67b8arow1_col4\" class=\"data row1 col4\" >0.8315</td>\n",
       "                        <td id=\"T_b41884b8_4113_11eb_945d_45efeef67b8arow1_col5\" class=\"data row1 col5\" >0.5733</td>\n",
       "                        <td id=\"T_b41884b8_4113_11eb_945d_45efeef67b8arow1_col6\" class=\"data row1 col6\" >0.5739</td>\n",
       "            </tr>\n",
       "            <tr>\n",
       "                        <th id=\"T_b41884b8_4113_11eb_945d_45efeef67b8alevel0_row2\" class=\"row_heading level0 row2\" >2</th>\n",
       "                        <td id=\"T_b41884b8_4113_11eb_945d_45efeef67b8arow2_col0\" class=\"data row2 col0\" >0.8076</td>\n",
       "                        <td id=\"T_b41884b8_4113_11eb_945d_45efeef67b8arow2_col1\" class=\"data row2 col1\" >0.8955</td>\n",
       "                        <td id=\"T_b41884b8_4113_11eb_945d_45efeef67b8arow2_col2\" class=\"data row2 col2\" >0.8209</td>\n",
       "                        <td id=\"T_b41884b8_4113_11eb_945d_45efeef67b8arow2_col3\" class=\"data row2 col3\" >0.8606</td>\n",
       "                        <td id=\"T_b41884b8_4113_11eb_945d_45efeef67b8arow2_col4\" class=\"data row2 col4\" >0.8403</td>\n",
       "                        <td id=\"T_b41884b8_4113_11eb_945d_45efeef67b8arow2_col5\" class=\"data row2 col5\" >0.5987</td>\n",
       "                        <td id=\"T_b41884b8_4113_11eb_945d_45efeef67b8arow2_col6\" class=\"data row2 col6\" >0.5998</td>\n",
       "            </tr>\n",
       "            <tr>\n",
       "                        <th id=\"T_b41884b8_4113_11eb_945d_45efeef67b8alevel0_row3\" class=\"row_heading level0 row3\" >3</th>\n",
       "                        <td id=\"T_b41884b8_4113_11eb_945d_45efeef67b8arow3_col0\" class=\"data row3 col0\" >0.8104</td>\n",
       "                        <td id=\"T_b41884b8_4113_11eb_945d_45efeef67b8arow3_col1\" class=\"data row3 col1\" >0.8963</td>\n",
       "                        <td id=\"T_b41884b8_4113_11eb_945d_45efeef67b8arow3_col2\" class=\"data row3 col2\" >0.8203</td>\n",
       "                        <td id=\"T_b41884b8_4113_11eb_945d_45efeef67b8arow3_col3\" class=\"data row3 col3\" >0.8652</td>\n",
       "                        <td id=\"T_b41884b8_4113_11eb_945d_45efeef67b8arow3_col4\" class=\"data row3 col4\" >0.8422</td>\n",
       "                        <td id=\"T_b41884b8_4113_11eb_945d_45efeef67b8arow3_col5\" class=\"data row3 col5\" >0.6052</td>\n",
       "                        <td id=\"T_b41884b8_4113_11eb_945d_45efeef67b8arow3_col6\" class=\"data row3 col6\" >0.6066</td>\n",
       "            </tr>\n",
       "            <tr>\n",
       "                        <th id=\"T_b41884b8_4113_11eb_945d_45efeef67b8alevel0_row4\" class=\"row_heading level0 row4\" >4</th>\n",
       "                        <td id=\"T_b41884b8_4113_11eb_945d_45efeef67b8arow4_col0\" class=\"data row4 col0\" >0.7963</td>\n",
       "                        <td id=\"T_b41884b8_4113_11eb_945d_45efeef67b8arow4_col1\" class=\"data row4 col1\" >0.8870</td>\n",
       "                        <td id=\"T_b41884b8_4113_11eb_945d_45efeef67b8arow4_col2\" class=\"data row4 col2\" >0.8089</td>\n",
       "                        <td id=\"T_b41884b8_4113_11eb_945d_45efeef67b8arow4_col3\" class=\"data row4 col3\" >0.8532</td>\n",
       "                        <td id=\"T_b41884b8_4113_11eb_945d_45efeef67b8arow4_col4\" class=\"data row4 col4\" >0.8305</td>\n",
       "                        <td id=\"T_b41884b8_4113_11eb_945d_45efeef67b8arow4_col5\" class=\"data row4 col5\" >0.5760</td>\n",
       "                        <td id=\"T_b41884b8_4113_11eb_945d_45efeef67b8arow4_col6\" class=\"data row4 col6\" >0.5772</td>\n",
       "            </tr>\n",
       "            <tr>\n",
       "                        <th id=\"T_b41884b8_4113_11eb_945d_45efeef67b8alevel0_row5\" class=\"row_heading level0 row5\" >5</th>\n",
       "                        <td id=\"T_b41884b8_4113_11eb_945d_45efeef67b8arow5_col0\" class=\"data row5 col0\" >0.8051</td>\n",
       "                        <td id=\"T_b41884b8_4113_11eb_945d_45efeef67b8arow5_col1\" class=\"data row5 col1\" >0.8906</td>\n",
       "                        <td id=\"T_b41884b8_4113_11eb_945d_45efeef67b8arow5_col2\" class=\"data row5 col2\" >0.8243</td>\n",
       "                        <td id=\"T_b41884b8_4113_11eb_945d_45efeef67b8arow5_col3\" class=\"data row5 col3\" >0.8545</td>\n",
       "                        <td id=\"T_b41884b8_4113_11eb_945d_45efeef67b8arow5_col4\" class=\"data row5 col4\" >0.8391</td>\n",
       "                        <td id=\"T_b41884b8_4113_11eb_945d_45efeef67b8arow5_col5\" class=\"data row5 col5\" >0.5922</td>\n",
       "                        <td id=\"T_b41884b8_4113_11eb_945d_45efeef67b8arow5_col6\" class=\"data row5 col6\" >0.5929</td>\n",
       "            </tr>\n",
       "            <tr>\n",
       "                        <th id=\"T_b41884b8_4113_11eb_945d_45efeef67b8alevel0_row6\" class=\"row_heading level0 row6\" >6</th>\n",
       "                        <td id=\"T_b41884b8_4113_11eb_945d_45efeef67b8arow6_col0\" class=\"data row6 col0\" >0.7889</td>\n",
       "                        <td id=\"T_b41884b8_4113_11eb_945d_45efeef67b8arow6_col1\" class=\"data row6 col1\" >0.8820</td>\n",
       "                        <td id=\"T_b41884b8_4113_11eb_945d_45efeef67b8arow6_col2\" class=\"data row6 col2\" >0.8076</td>\n",
       "                        <td id=\"T_b41884b8_4113_11eb_945d_45efeef67b8arow6_col3\" class=\"data row6 col3\" >0.8433</td>\n",
       "                        <td id=\"T_b41884b8_4113_11eb_945d_45efeef67b8arow6_col4\" class=\"data row6 col4\" >0.8251</td>\n",
       "                        <td id=\"T_b41884b8_4113_11eb_945d_45efeef67b8arow6_col5\" class=\"data row6 col5\" >0.5592</td>\n",
       "                        <td id=\"T_b41884b8_4113_11eb_945d_45efeef67b8arow6_col6\" class=\"data row6 col6\" >0.5600</td>\n",
       "            </tr>\n",
       "            <tr>\n",
       "                        <th id=\"T_b41884b8_4113_11eb_945d_45efeef67b8alevel0_row7\" class=\"row_heading level0 row7\" >7</th>\n",
       "                        <td id=\"T_b41884b8_4113_11eb_945d_45efeef67b8arow7_col0\" class=\"data row7 col0\" >0.7963</td>\n",
       "                        <td id=\"T_b41884b8_4113_11eb_945d_45efeef67b8arow7_col1\" class=\"data row7 col1\" >0.8889</td>\n",
       "                        <td id=\"T_b41884b8_4113_11eb_945d_45efeef67b8arow7_col2\" class=\"data row7 col2\" >0.8100</td>\n",
       "                        <td id=\"T_b41884b8_4113_11eb_945d_45efeef67b8arow7_col3\" class=\"data row7 col3\" >0.8523</td>\n",
       "                        <td id=\"T_b41884b8_4113_11eb_945d_45efeef67b8arow7_col4\" class=\"data row7 col4\" >0.8307</td>\n",
       "                        <td id=\"T_b41884b8_4113_11eb_945d_45efeef67b8arow7_col5\" class=\"data row7 col5\" >0.5754</td>\n",
       "                        <td id=\"T_b41884b8_4113_11eb_945d_45efeef67b8arow7_col6\" class=\"data row7 col6\" >0.5766</td>\n",
       "            </tr>\n",
       "            <tr>\n",
       "                        <th id=\"T_b41884b8_4113_11eb_945d_45efeef67b8alevel0_row8\" class=\"row_heading level0 row8\" >8</th>\n",
       "                        <td id=\"T_b41884b8_4113_11eb_945d_45efeef67b8arow8_col0\" class=\"data row8 col0\" >0.8030</td>\n",
       "                        <td id=\"T_b41884b8_4113_11eb_945d_45efeef67b8arow8_col1\" class=\"data row8 col1\" >0.8919</td>\n",
       "                        <td id=\"T_b41884b8_4113_11eb_945d_45efeef67b8arow8_col2\" class=\"data row8 col2\" >0.8146</td>\n",
       "                        <td id=\"T_b41884b8_4113_11eb_945d_45efeef67b8arow8_col3\" class=\"data row8 col3\" >0.8587</td>\n",
       "                        <td id=\"T_b41884b8_4113_11eb_945d_45efeef67b8arow8_col4\" class=\"data row8 col4\" >0.8361</td>\n",
       "                        <td id=\"T_b41884b8_4113_11eb_945d_45efeef67b8arow8_col5\" class=\"data row8 col5\" >0.5896</td>\n",
       "                        <td id=\"T_b41884b8_4113_11eb_945d_45efeef67b8arow8_col6\" class=\"data row8 col6\" >0.5909</td>\n",
       "            </tr>\n",
       "            <tr>\n",
       "                        <th id=\"T_b41884b8_4113_11eb_945d_45efeef67b8alevel0_row9\" class=\"row_heading level0 row9\" >9</th>\n",
       "                        <td id=\"T_b41884b8_4113_11eb_945d_45efeef67b8arow9_col0\" class=\"data row9 col0\" >0.8015</td>\n",
       "                        <td id=\"T_b41884b8_4113_11eb_945d_45efeef67b8arow9_col1\" class=\"data row9 col1\" >0.8909</td>\n",
       "                        <td id=\"T_b41884b8_4113_11eb_945d_45efeef67b8arow9_col2\" class=\"data row9 col2\" >0.8140</td>\n",
       "                        <td id=\"T_b41884b8_4113_11eb_945d_45efeef67b8arow9_col3\" class=\"data row9 col3\" >0.8571</td>\n",
       "                        <td id=\"T_b41884b8_4113_11eb_945d_45efeef67b8arow9_col4\" class=\"data row9 col4\" >0.8350</td>\n",
       "                        <td id=\"T_b41884b8_4113_11eb_945d_45efeef67b8arow9_col5\" class=\"data row9 col5\" >0.5865</td>\n",
       "                        <td id=\"T_b41884b8_4113_11eb_945d_45efeef67b8arow9_col6\" class=\"data row9 col6\" >0.5877</td>\n",
       "            </tr>\n",
       "            <tr>\n",
       "                        <th id=\"T_b41884b8_4113_11eb_945d_45efeef67b8alevel0_row10\" class=\"row_heading level0 row10\" >Mean</th>\n",
       "                        <td id=\"T_b41884b8_4113_11eb_945d_45efeef67b8arow10_col0\" class=\"data row10 col0\" >0.8000</td>\n",
       "                        <td id=\"T_b41884b8_4113_11eb_945d_45efeef67b8arow10_col1\" class=\"data row10 col1\" >0.8893</td>\n",
       "                        <td id=\"T_b41884b8_4113_11eb_945d_45efeef67b8arow10_col2\" class=\"data row10 col2\" >0.8144</td>\n",
       "                        <td id=\"T_b41884b8_4113_11eb_945d_45efeef67b8arow10_col3\" class=\"data row10 col3\" >0.8545</td>\n",
       "                        <td id=\"T_b41884b8_4113_11eb_945d_45efeef67b8arow10_col4\" class=\"data row10 col4\" >0.8340</td>\n",
       "                        <td id=\"T_b41884b8_4113_11eb_945d_45efeef67b8arow10_col5\" class=\"data row10 col5\" >0.5830</td>\n",
       "                        <td id=\"T_b41884b8_4113_11eb_945d_45efeef67b8arow10_col6\" class=\"data row10 col6\" >0.5841</td>\n",
       "            </tr>\n",
       "            <tr>\n",
       "                        <th id=\"T_b41884b8_4113_11eb_945d_45efeef67b8alevel0_row11\" class=\"row_heading level0 row11\" >SD</th>\n",
       "                        <td id=\"T_b41884b8_4113_11eb_945d_45efeef67b8arow11_col0\" class=\"data row11 col0\" >0.0063</td>\n",
       "                        <td id=\"T_b41884b8_4113_11eb_945d_45efeef67b8arow11_col1\" class=\"data row11 col1\" >0.0044</td>\n",
       "                        <td id=\"T_b41884b8_4113_11eb_945d_45efeef67b8arow11_col2\" class=\"data row11 col2\" >0.0057</td>\n",
       "                        <td id=\"T_b41884b8_4113_11eb_945d_45efeef67b8arow11_col3\" class=\"data row11 col3\" >0.0060</td>\n",
       "                        <td id=\"T_b41884b8_4113_11eb_945d_45efeef67b8arow11_col4\" class=\"data row11 col4\" >0.0052</td>\n",
       "                        <td id=\"T_b41884b8_4113_11eb_945d_45efeef67b8arow11_col5\" class=\"data row11 col5\" >0.0132</td>\n",
       "                        <td id=\"T_b41884b8_4113_11eb_945d_45efeef67b8arow11_col6\" class=\"data row11 col6\" >0.0132</td>\n",
       "            </tr>\n",
       "    </tbody></table>"
      ],
      "text/plain": [
       "<pandas.io.formats.style.Styler at 0x7f6b2951e890>"
      ]
     },
     "metadata": {},
     "output_type": "display_data"
    }
   ],
   "source": [
    "modelL = trainPredict('lightgbm', X_train1, y_trainss)"
   ]
  },
  {
   "cell_type": "code",
   "execution_count": 434,
   "metadata": {},
   "outputs": [
    {
     "name": "stdout",
     "output_type": "stream",
     "text": [
      "[[5972 2729]\n",
      " [ 332  818]]\n",
      "0.711304347826087\n"
     ]
    },
    {
     "data": {
      "image/png": "[encoded data removed]",
      "text/plain": [
       "<Figure size 432x288 with 1 Axes>"
      ]
     },
     "metadata": {
      "needs_background": "light"
     },
     "output_type": "display_data"
    }
   ],
   "source": [
    "plotModel(modelL, X_testss, y_testss)"
   ]
  },
  {
   "cell_type": "markdown",
   "metadata": {},
   "source": [
    "### 5. SMOTEENN + Manual Feature Selection + top5 Pycaret"
   ]
  },
  {
   "cell_type": "code",
   "execution_count": 443,
   "metadata": {},
   "outputs": [
    {
     "data": {
      "text/html": [
       "<style  type=\"text/css\" >\n",
       "    #T_ef4521e4_4114_11eb_945d_45efeef67b8a th {\n",
       "          text-align: left;\n",
       "    }#T_ef4521e4_4114_11eb_945d_45efeef67b8arow0_col0,#T_ef4521e4_4114_11eb_945d_45efeef67b8arow0_col3,#T_ef4521e4_4114_11eb_945d_45efeef67b8arow0_col4,#T_ef4521e4_4114_11eb_945d_45efeef67b8arow1_col0,#T_ef4521e4_4114_11eb_945d_45efeef67b8arow1_col1,#T_ef4521e4_4114_11eb_945d_45efeef67b8arow1_col2,#T_ef4521e4_4114_11eb_945d_45efeef67b8arow1_col3,#T_ef4521e4_4114_11eb_945d_45efeef67b8arow1_col4,#T_ef4521e4_4114_11eb_945d_45efeef67b8arow1_col5,#T_ef4521e4_4114_11eb_945d_45efeef67b8arow1_col6,#T_ef4521e4_4114_11eb_945d_45efeef67b8arow1_col7,#T_ef4521e4_4114_11eb_945d_45efeef67b8arow2_col0,#T_ef4521e4_4114_11eb_945d_45efeef67b8arow2_col1,#T_ef4521e4_4114_11eb_945d_45efeef67b8arow2_col2,#T_ef4521e4_4114_11eb_945d_45efeef67b8arow2_col3,#T_ef4521e4_4114_11eb_945d_45efeef67b8arow2_col4,#T_ef4521e4_4114_11eb_945d_45efeef67b8arow2_col5,#T_ef4521e4_4114_11eb_945d_45efeef67b8arow2_col6,#T_ef4521e4_4114_11eb_945d_45efeef67b8arow2_col7,#T_ef4521e4_4114_11eb_945d_45efeef67b8arow3_col0,#T_ef4521e4_4114_11eb_945d_45efeef67b8arow3_col1,#T_ef4521e4_4114_11eb_945d_45efeef67b8arow3_col2,#T_ef4521e4_4114_11eb_945d_45efeef67b8arow3_col3,#T_ef4521e4_4114_11eb_945d_45efeef67b8arow3_col4,#T_ef4521e4_4114_11eb_945d_45efeef67b8arow3_col5,#T_ef4521e4_4114_11eb_945d_45efeef67b8arow3_col6,#T_ef4521e4_4114_11eb_945d_45efeef67b8arow3_col7,#T_ef4521e4_4114_11eb_945d_45efeef67b8arow4_col0,#T_ef4521e4_4114_11eb_945d_45efeef67b8arow4_col1,#T_ef4521e4_4114_11eb_945d_45efeef67b8arow4_col2,#T_ef4521e4_4114_11eb_945d_45efeef67b8arow4_col3,#T_ef4521e4_4114_11eb_945d_45efeef67b8arow4_col5,#T_ef4521e4_4114_11eb_945d_45efeef67b8arow4_col6,#T_ef4521e4_4114_11eb_945d_45efeef67b8arow4_col7,#T_ef4521e4_4114_11eb_945d_45efeef67b8arow5_col0,#T_ef4521e4_4114_11eb_945d_45efeef67b8arow5_col1,#T_ef4521e4_4114_11eb_945d_45efeef67b8arow5_col2,#T_ef4521e4_4114_11eb_945d_45efeef67b8arow5_col3,#T_ef4521e4_4114_11eb_945d_45efeef67b8arow5_col4,#T_ef4521e4_4114_11eb_945d_45efeef67b8arow5_col5,#T_ef4521e4_4114_11eb_945d_45efeef67b8arow5_col6,#T_ef4521e4_4114_11eb_945d_45efeef67b8arow5_col7,#T_ef4521e4_4114_11eb_945d_45efeef67b8arow6_col0,#T_ef4521e4_4114_11eb_945d_45efeef67b8arow6_col1,#T_ef4521e4_4114_11eb_945d_45efeef67b8arow6_col2,#T_ef4521e4_4114_11eb_945d_45efeef67b8arow6_col3,#T_ef4521e4_4114_11eb_945d_45efeef67b8arow6_col4,#T_ef4521e4_4114_11eb_945d_45efeef67b8arow6_col5,#T_ef4521e4_4114_11eb_945d_45efeef67b8arow6_col6,#T_ef4521e4_4114_11eb_945d_45efeef67b8arow6_col7,#T_ef4521e4_4114_11eb_945d_45efeef67b8arow7_col0,#T_ef4521e4_4114_11eb_945d_45efeef67b8arow7_col1,#T_ef4521e4_4114_11eb_945d_45efeef67b8arow7_col2,#T_ef4521e4_4114_11eb_945d_45efeef67b8arow7_col3,#T_ef4521e4_4114_11eb_945d_45efeef67b8arow7_col4,#T_ef4521e4_4114_11eb_945d_45efeef67b8arow7_col5,#T_ef4521e4_4114_11eb_945d_45efeef67b8arow7_col6,#T_ef4521e4_4114_11eb_945d_45efeef67b8arow7_col7,#T_ef4521e4_4114_11eb_945d_45efeef67b8arow8_col0,#T_ef4521e4_4114_11eb_945d_45efeef67b8arow8_col1,#T_ef4521e4_4114_11eb_945d_45efeef67b8arow8_col2,#T_ef4521e4_4114_11eb_945d_45efeef67b8arow8_col3,#T_ef4521e4_4114_11eb_945d_45efeef67b8arow8_col4,#T_ef4521e4_4114_11eb_945d_45efeef67b8arow8_col5,#T_ef4521e4_4114_11eb_945d_45efeef67b8arow8_col6,#T_ef4521e4_4114_11eb_945d_45efeef67b8arow8_col7,#T_ef4521e4_4114_11eb_945d_45efeef67b8arow9_col0,#T_ef4521e4_4114_11eb_945d_45efeef67b8arow9_col1,#T_ef4521e4_4114_11eb_945d_45efeef67b8arow9_col2,#T_ef4521e4_4114_11eb_945d_45efeef67b8arow9_col3,#T_ef4521e4_4114_11eb_945d_45efeef67b8arow9_col4,#T_ef4521e4_4114_11eb_945d_45efeef67b8arow9_col5,#T_ef4521e4_4114_11eb_945d_45efeef67b8arow9_col6,#T_ef4521e4_4114_11eb_945d_45efeef67b8arow9_col7,#T_ef4521e4_4114_11eb_945d_45efeef67b8arow10_col0,#T_ef4521e4_4114_11eb_945d_45efeef67b8arow10_col1,#T_ef4521e4_4114_11eb_945d_45efeef67b8arow10_col2,#T_ef4521e4_4114_11eb_945d_45efeef67b8arow10_col4,#T_ef4521e4_4114_11eb_945d_45efeef67b8arow10_col5,#T_ef4521e4_4114_11eb_945d_45efeef67b8arow10_col6,#T_ef4521e4_4114_11eb_945d_45efeef67b8arow10_col7,#T_ef4521e4_4114_11eb_945d_45efeef67b8arow11_col0,#T_ef4521e4_4114_11eb_945d_45efeef67b8arow11_col1,#T_ef4521e4_4114_11eb_945d_45efeef67b8arow11_col2,#T_ef4521e4_4114_11eb_945d_45efeef67b8arow11_col3,#T_ef4521e4_4114_11eb_945d_45efeef67b8arow11_col4,#T_ef4521e4_4114_11eb_945d_45efeef67b8arow11_col5,#T_ef4521e4_4114_11eb_945d_45efeef67b8arow11_col6,#T_ef4521e4_4114_11eb_945d_45efeef67b8arow11_col7,#T_ef4521e4_4114_11eb_945d_45efeef67b8arow12_col0,#T_ef4521e4_4114_11eb_945d_45efeef67b8arow12_col1,#T_ef4521e4_4114_11eb_945d_45efeef67b8arow12_col2,#T_ef4521e4_4114_11eb_945d_45efeef67b8arow12_col3,#T_ef4521e4_4114_11eb_945d_45efeef67b8arow12_col4,#T_ef4521e4_4114_11eb_945d_45efeef67b8arow12_col5,#T_ef4521e4_4114_11eb_945d_45efeef67b8arow12_col6,#T_ef4521e4_4114_11eb_945d_45efeef67b8arow12_col7,#T_ef4521e4_4114_11eb_945d_45efeef67b8arow13_col0,#T_ef4521e4_4114_11eb_945d_45efeef67b8arow13_col1,#T_ef4521e4_4114_11eb_945d_45efeef67b8arow13_col2,#T_ef4521e4_4114_11eb_945d_45efeef67b8arow13_col3,#T_ef4521e4_4114_11eb_945d_45efeef67b8arow13_col4,#T_ef4521e4_4114_11eb_945d_45efeef67b8arow13_col5,#T_ef4521e4_4114_11eb_945d_45efeef67b8arow13_col6,#T_ef4521e4_4114_11eb_945d_45efeef67b8arow13_col7{\n",
       "            text-align:  left;\n",
       "        }#T_ef4521e4_4114_11eb_945d_45efeef67b8arow0_col1,#T_ef4521e4_4114_11eb_945d_45efeef67b8arow0_col2,#T_ef4521e4_4114_11eb_945d_45efeef67b8arow0_col5,#T_ef4521e4_4114_11eb_945d_45efeef67b8arow0_col6,#T_ef4521e4_4114_11eb_945d_45efeef67b8arow0_col7,#T_ef4521e4_4114_11eb_945d_45efeef67b8arow4_col4,#T_ef4521e4_4114_11eb_945d_45efeef67b8arow10_col3{\n",
       "            background-color:  yellow;\n",
       "            text-align:  left;\n",
       "        }#T_ef4521e4_4114_11eb_945d_45efeef67b8arow0_col8,#T_ef4521e4_4114_11eb_945d_45efeef67b8arow1_col8,#T_ef4521e4_4114_11eb_945d_45efeef67b8arow2_col8,#T_ef4521e4_4114_11eb_945d_45efeef67b8arow3_col8,#T_ef4521e4_4114_11eb_945d_45efeef67b8arow4_col8,#T_ef4521e4_4114_11eb_945d_45efeef67b8arow5_col8,#T_ef4521e4_4114_11eb_945d_45efeef67b8arow6_col8,#T_ef4521e4_4114_11eb_945d_45efeef67b8arow7_col8,#T_ef4521e4_4114_11eb_945d_45efeef67b8arow8_col8,#T_ef4521e4_4114_11eb_945d_45efeef67b8arow9_col8,#T_ef4521e4_4114_11eb_945d_45efeef67b8arow10_col8,#T_ef4521e4_4114_11eb_945d_45efeef67b8arow11_col8,#T_ef4521e4_4114_11eb_945d_45efeef67b8arow12_col8,#T_ef4521e4_4114_11eb_945d_45efeef67b8arow13_col8{\n",
       "            background-color:  lightgrey;\n",
       "            text-align:  left;\n",
       "        }</style><table id=\"T_ef4521e4_4114_11eb_945d_45efeef67b8a\" ><thead>    <tr>        <th class=\"blank level0\" ></th>        <th class=\"col_heading level0 col0\" >Model</th>        <th class=\"col_heading level0 col1\" >Accuracy</th>        <th class=\"col_heading level0 col2\" >AUC</th>        <th class=\"col_heading level0 col3\" >Recall</th>        <th class=\"col_heading level0 col4\" >Prec.</th>        <th class=\"col_heading level0 col5\" >F1</th>        <th class=\"col_heading level0 col6\" >Kappa</th>        <th class=\"col_heading level0 col7\" >MCC</th>        <th class=\"col_heading level0 col8\" >TT (Sec)</th>    </tr></thead><tbody>\n",
       "                <tr>\n",
       "                        <th id=\"T_ef4521e4_4114_11eb_945d_45efeef67b8alevel0_row0\" class=\"row_heading level0 row0\" >0</th>\n",
       "                        <td id=\"T_ef4521e4_4114_11eb_945d_45efeef67b8arow0_col0\" class=\"data row0 col0\" >Extreme Gradient Boosting</td>\n",
       "                        <td id=\"T_ef4521e4_4114_11eb_945d_45efeef67b8arow0_col1\" class=\"data row0 col1\" >0.8009</td>\n",
       "                        <td id=\"T_ef4521e4_4114_11eb_945d_45efeef67b8arow0_col2\" class=\"data row0 col2\" >0.8898</td>\n",
       "                        <td id=\"T_ef4521e4_4114_11eb_945d_45efeef67b8arow0_col3\" class=\"data row0 col3\" >0.8152</td>\n",
       "                        <td id=\"T_ef4521e4_4114_11eb_945d_45efeef67b8arow0_col4\" class=\"data row0 col4\" >0.8551</td>\n",
       "                        <td id=\"T_ef4521e4_4114_11eb_945d_45efeef67b8arow0_col5\" class=\"data row0 col5\" >0.8347</td>\n",
       "                        <td id=\"T_ef4521e4_4114_11eb_945d_45efeef67b8arow0_col6\" class=\"data row0 col6\" >0.5847</td>\n",
       "                        <td id=\"T_ef4521e4_4114_11eb_945d_45efeef67b8arow0_col7\" class=\"data row0 col7\" >0.5858</td>\n",
       "                        <td id=\"T_ef4521e4_4114_11eb_945d_45efeef67b8arow0_col8\" class=\"data row0 col8\" >1.9799</td>\n",
       "            </tr>\n",
       "            <tr>\n",
       "                        <th id=\"T_ef4521e4_4114_11eb_945d_45efeef67b8alevel0_row1\" class=\"row_heading level0 row1\" >1</th>\n",
       "                        <td id=\"T_ef4521e4_4114_11eb_945d_45efeef67b8arow1_col0\" class=\"data row1 col0\" >Light Gradient Boosting Machine</td>\n",
       "                        <td id=\"T_ef4521e4_4114_11eb_945d_45efeef67b8arow1_col1\" class=\"data row1 col1\" >0.7999</td>\n",
       "                        <td id=\"T_ef4521e4_4114_11eb_945d_45efeef67b8arow1_col2\" class=\"data row1 col2\" >0.8890</td>\n",
       "                        <td id=\"T_ef4521e4_4114_11eb_945d_45efeef67b8arow1_col3\" class=\"data row1 col3\" >0.8143</td>\n",
       "                        <td id=\"T_ef4521e4_4114_11eb_945d_45efeef67b8arow1_col4\" class=\"data row1 col4\" >0.8544</td>\n",
       "                        <td id=\"T_ef4521e4_4114_11eb_945d_45efeef67b8arow1_col5\" class=\"data row1 col5\" >0.8338</td>\n",
       "                        <td id=\"T_ef4521e4_4114_11eb_945d_45efeef67b8arow1_col6\" class=\"data row1 col6\" >0.5827</td>\n",
       "                        <td id=\"T_ef4521e4_4114_11eb_945d_45efeef67b8arow1_col7\" class=\"data row1 col7\" >0.5838</td>\n",
       "                        <td id=\"T_ef4521e4_4114_11eb_945d_45efeef67b8arow1_col8\" class=\"data row1 col8\" >0.3077</td>\n",
       "            </tr>\n",
       "            <tr>\n",
       "                        <th id=\"T_ef4521e4_4114_11eb_945d_45efeef67b8alevel0_row2\" class=\"row_heading level0 row2\" >2</th>\n",
       "                        <td id=\"T_ef4521e4_4114_11eb_945d_45efeef67b8arow2_col0\" class=\"data row2 col0\" >Random Forest Classifier</td>\n",
       "                        <td id=\"T_ef4521e4_4114_11eb_945d_45efeef67b8arow2_col1\" class=\"data row2 col1\" >0.7976</td>\n",
       "                        <td id=\"T_ef4521e4_4114_11eb_945d_45efeef67b8arow2_col2\" class=\"data row2 col2\" >0.8865</td>\n",
       "                        <td id=\"T_ef4521e4_4114_11eb_945d_45efeef67b8arow2_col3\" class=\"data row2 col3\" >0.8085</td>\n",
       "                        <td id=\"T_ef4521e4_4114_11eb_945d_45efeef67b8arow2_col4\" class=\"data row2 col4\" >0.8554</td>\n",
       "                        <td id=\"T_ef4521e4_4114_11eb_945d_45efeef67b8arow2_col5\" class=\"data row2 col5\" >0.8313</td>\n",
       "                        <td id=\"T_ef4521e4_4114_11eb_945d_45efeef67b8arow2_col6\" class=\"data row2 col6\" >0.5789</td>\n",
       "                        <td id=\"T_ef4521e4_4114_11eb_945d_45efeef67b8arow2_col7\" class=\"data row2 col7\" >0.5804</td>\n",
       "                        <td id=\"T_ef4521e4_4114_11eb_945d_45efeef67b8arow2_col8\" class=\"data row2 col8\" >0.1163</td>\n",
       "            </tr>\n",
       "            <tr>\n",
       "                        <th id=\"T_ef4521e4_4114_11eb_945d_45efeef67b8alevel0_row3\" class=\"row_heading level0 row3\" >3</th>\n",
       "                        <td id=\"T_ef4521e4_4114_11eb_945d_45efeef67b8arow3_col0\" class=\"data row3 col0\" >Extra Trees Classifier</td>\n",
       "                        <td id=\"T_ef4521e4_4114_11eb_945d_45efeef67b8arow3_col1\" class=\"data row3 col1\" >0.7969</td>\n",
       "                        <td id=\"T_ef4521e4_4114_11eb_945d_45efeef67b8arow3_col2\" class=\"data row3 col2\" >0.8859</td>\n",
       "                        <td id=\"T_ef4521e4_4114_11eb_945d_45efeef67b8arow3_col3\" class=\"data row3 col3\" >0.8060</td>\n",
       "                        <td id=\"T_ef4521e4_4114_11eb_945d_45efeef67b8arow3_col4\" class=\"data row3 col4\" >0.8563</td>\n",
       "                        <td id=\"T_ef4521e4_4114_11eb_945d_45efeef67b8arow3_col5\" class=\"data row3 col5\" >0.8304</td>\n",
       "                        <td id=\"T_ef4521e4_4114_11eb_945d_45efeef67b8arow3_col6\" class=\"data row3 col6\" >0.5780</td>\n",
       "                        <td id=\"T_ef4521e4_4114_11eb_945d_45efeef67b8arow3_col7\" class=\"data row3 col7\" >0.5797</td>\n",
       "                        <td id=\"T_ef4521e4_4114_11eb_945d_45efeef67b8arow3_col8\" class=\"data row3 col8\" >0.4520</td>\n",
       "            </tr>\n",
       "            <tr>\n",
       "                        <th id=\"T_ef4521e4_4114_11eb_945d_45efeef67b8alevel0_row4\" class=\"row_heading level0 row4\" >4</th>\n",
       "                        <td id=\"T_ef4521e4_4114_11eb_945d_45efeef67b8arow4_col0\" class=\"data row4 col0\" >Decision Tree Classifier</td>\n",
       "                        <td id=\"T_ef4521e4_4114_11eb_945d_45efeef67b8arow4_col1\" class=\"data row4 col1\" >0.7981</td>\n",
       "                        <td id=\"T_ef4521e4_4114_11eb_945d_45efeef67b8arow4_col2\" class=\"data row4 col2\" >0.8854</td>\n",
       "                        <td id=\"T_ef4521e4_4114_11eb_945d_45efeef67b8arow4_col3\" class=\"data row4 col3\" >0.8075</td>\n",
       "                        <td id=\"T_ef4521e4_4114_11eb_945d_45efeef67b8arow4_col4\" class=\"data row4 col4\" >0.8569</td>\n",
       "                        <td id=\"T_ef4521e4_4114_11eb_945d_45efeef67b8arow4_col5\" class=\"data row4 col5\" >0.8314</td>\n",
       "                        <td id=\"T_ef4521e4_4114_11eb_945d_45efeef67b8arow4_col6\" class=\"data row4 col6\" >0.5803</td>\n",
       "                        <td id=\"T_ef4521e4_4114_11eb_945d_45efeef67b8arow4_col7\" class=\"data row4 col7\" >0.5819</td>\n",
       "                        <td id=\"T_ef4521e4_4114_11eb_945d_45efeef67b8arow4_col8\" class=\"data row4 col8\" >0.0248</td>\n",
       "            </tr>\n",
       "            <tr>\n",
       "                        <th id=\"T_ef4521e4_4114_11eb_945d_45efeef67b8alevel0_row5\" class=\"row_heading level0 row5\" >5</th>\n",
       "                        <td id=\"T_ef4521e4_4114_11eb_945d_45efeef67b8arow5_col0\" class=\"data row5 col0\" >Gradient Boosting Classifier</td>\n",
       "                        <td id=\"T_ef4521e4_4114_11eb_945d_45efeef67b8arow5_col1\" class=\"data row5 col1\" >0.7939</td>\n",
       "                        <td id=\"T_ef4521e4_4114_11eb_945d_45efeef67b8arow5_col2\" class=\"data row5 col2\" >0.8826</td>\n",
       "                        <td id=\"T_ef4521e4_4114_11eb_945d_45efeef67b8arow5_col3\" class=\"data row5 col3\" >0.8097</td>\n",
       "                        <td id=\"T_ef4521e4_4114_11eb_945d_45efeef67b8arow5_col4\" class=\"data row5 col4\" >0.8490</td>\n",
       "                        <td id=\"T_ef4521e4_4114_11eb_945d_45efeef67b8arow5_col5\" class=\"data row5 col5\" >0.8289</td>\n",
       "                        <td id=\"T_ef4521e4_4114_11eb_945d_45efeef67b8arow5_col6\" class=\"data row5 col6\" >0.5700</td>\n",
       "                        <td id=\"T_ef4521e4_4114_11eb_945d_45efeef67b8arow5_col7\" class=\"data row5 col7\" >0.5711</td>\n",
       "                        <td id=\"T_ef4521e4_4114_11eb_945d_45efeef67b8arow5_col8\" class=\"data row5 col8\" >1.2512</td>\n",
       "            </tr>\n",
       "            <tr>\n",
       "                        <th id=\"T_ef4521e4_4114_11eb_945d_45efeef67b8alevel0_row6\" class=\"row_heading level0 row6\" >6</th>\n",
       "                        <td id=\"T_ef4521e4_4114_11eb_945d_45efeef67b8arow6_col0\" class=\"data row6 col0\" >Ada Boost Classifier</td>\n",
       "                        <td id=\"T_ef4521e4_4114_11eb_945d_45efeef67b8arow6_col1\" class=\"data row6 col1\" >0.7820</td>\n",
       "                        <td id=\"T_ef4521e4_4114_11eb_945d_45efeef67b8arow6_col2\" class=\"data row6 col2\" >0.8710</td>\n",
       "                        <td id=\"T_ef4521e4_4114_11eb_945d_45efeef67b8arow6_col3\" class=\"data row6 col3\" >0.8287</td>\n",
       "                        <td id=\"T_ef4521e4_4114_11eb_945d_45efeef67b8arow6_col4\" class=\"data row6 col4\" >0.8198</td>\n",
       "                        <td id=\"T_ef4521e4_4114_11eb_945d_45efeef67b8arow6_col5\" class=\"data row6 col5\" >0.8242</td>\n",
       "                        <td id=\"T_ef4521e4_4114_11eb_945d_45efeef67b8arow6_col6\" class=\"data row6 col6\" >0.5373</td>\n",
       "                        <td id=\"T_ef4521e4_4114_11eb_945d_45efeef67b8arow6_col7\" class=\"data row6 col7\" >0.5374</td>\n",
       "                        <td id=\"T_ef4521e4_4114_11eb_945d_45efeef67b8arow6_col8\" class=\"data row6 col8\" >0.4847</td>\n",
       "            </tr>\n",
       "            <tr>\n",
       "                        <th id=\"T_ef4521e4_4114_11eb_945d_45efeef67b8alevel0_row7\" class=\"row_heading level0 row7\" >7</th>\n",
       "                        <td id=\"T_ef4521e4_4114_11eb_945d_45efeef67b8arow7_col0\" class=\"data row7 col0\" >K Neighbors Classifier</td>\n",
       "                        <td id=\"T_ef4521e4_4114_11eb_945d_45efeef67b8arow7_col1\" class=\"data row7 col1\" >0.7619</td>\n",
       "                        <td id=\"T_ef4521e4_4114_11eb_945d_45efeef67b8arow7_col2\" class=\"data row7 col2\" >0.8456</td>\n",
       "                        <td id=\"T_ef4521e4_4114_11eb_945d_45efeef67b8arow7_col3\" class=\"data row7 col3\" >0.7811</td>\n",
       "                        <td id=\"T_ef4521e4_4114_11eb_945d_45efeef67b8arow7_col4\" class=\"data row7 col4\" >0.8250</td>\n",
       "                        <td id=\"T_ef4521e4_4114_11eb_945d_45efeef67b8arow7_col5\" class=\"data row7 col5\" >0.8015</td>\n",
       "                        <td id=\"T_ef4521e4_4114_11eb_945d_45efeef67b8arow7_col6\" class=\"data row7 col6\" >0.5041</td>\n",
       "                        <td id=\"T_ef4521e4_4114_11eb_945d_45efeef67b8arow7_col7\" class=\"data row7 col7\" >0.5068</td>\n",
       "                        <td id=\"T_ef4521e4_4114_11eb_945d_45efeef67b8arow7_col8\" class=\"data row7 col8\" >0.4188</td>\n",
       "            </tr>\n",
       "            <tr>\n",
       "                        <th id=\"T_ef4521e4_4114_11eb_945d_45efeef67b8alevel0_row8\" class=\"row_heading level0 row8\" >8</th>\n",
       "                        <td id=\"T_ef4521e4_4114_11eb_945d_45efeef67b8arow8_col0\" class=\"data row8 col0\" >Linear Discriminant Analysis</td>\n",
       "                        <td id=\"T_ef4521e4_4114_11eb_945d_45efeef67b8arow8_col1\" class=\"data row8 col1\" >0.7480</td>\n",
       "                        <td id=\"T_ef4521e4_4114_11eb_945d_45efeef67b8arow8_col2\" class=\"data row8 col2\" >0.8148</td>\n",
       "                        <td id=\"T_ef4521e4_4114_11eb_945d_45efeef67b8arow8_col3\" class=\"data row8 col3\" >0.8594</td>\n",
       "                        <td id=\"T_ef4521e4_4114_11eb_945d_45efeef67b8arow8_col4\" class=\"data row8 col4\" >0.7623</td>\n",
       "                        <td id=\"T_ef4521e4_4114_11eb_945d_45efeef67b8arow8_col5\" class=\"data row8 col5\" >0.8079</td>\n",
       "                        <td id=\"T_ef4521e4_4114_11eb_945d_45efeef67b8arow8_col6\" class=\"data row8 col6\" >0.4455</td>\n",
       "                        <td id=\"T_ef4521e4_4114_11eb_945d_45efeef67b8arow8_col7\" class=\"data row8 col7\" >0.4523</td>\n",
       "                        <td id=\"T_ef4521e4_4114_11eb_945d_45efeef67b8arow8_col8\" class=\"data row8 col8\" >0.0800</td>\n",
       "            </tr>\n",
       "            <tr>\n",
       "                        <th id=\"T_ef4521e4_4114_11eb_945d_45efeef67b8alevel0_row9\" class=\"row_heading level0 row9\" >9</th>\n",
       "                        <td id=\"T_ef4521e4_4114_11eb_945d_45efeef67b8arow9_col0\" class=\"data row9 col0\" >Logistic Regression</td>\n",
       "                        <td id=\"T_ef4521e4_4114_11eb_945d_45efeef67b8arow9_col1\" class=\"data row9 col1\" >0.7496</td>\n",
       "                        <td id=\"T_ef4521e4_4114_11eb_945d_45efeef67b8arow9_col2\" class=\"data row9 col2\" >0.8029</td>\n",
       "                        <td id=\"T_ef4521e4_4114_11eb_945d_45efeef67b8arow9_col3\" class=\"data row9 col3\" >0.8501</td>\n",
       "                        <td id=\"T_ef4521e4_4114_11eb_945d_45efeef67b8arow9_col4\" class=\"data row9 col4\" >0.7685</td>\n",
       "                        <td id=\"T_ef4521e4_4114_11eb_945d_45efeef67b8arow9_col5\" class=\"data row9 col5\" >0.8072</td>\n",
       "                        <td id=\"T_ef4521e4_4114_11eb_945d_45efeef67b8arow9_col6\" class=\"data row9 col6\" >0.4527</td>\n",
       "                        <td id=\"T_ef4521e4_4114_11eb_945d_45efeef67b8arow9_col7\" class=\"data row9 col7\" >0.4575</td>\n",
       "                        <td id=\"T_ef4521e4_4114_11eb_945d_45efeef67b8arow9_col8\" class=\"data row9 col8\" >0.3881</td>\n",
       "            </tr>\n",
       "            <tr>\n",
       "                        <th id=\"T_ef4521e4_4114_11eb_945d_45efeef67b8alevel0_row10\" class=\"row_heading level0 row10\" >10</th>\n",
       "                        <td id=\"T_ef4521e4_4114_11eb_945d_45efeef67b8arow10_col0\" class=\"data row10 col0\" >Naive Bayes</td>\n",
       "                        <td id=\"T_ef4521e4_4114_11eb_945d_45efeef67b8arow10_col1\" class=\"data row10 col1\" >0.7010</td>\n",
       "                        <td id=\"T_ef4521e4_4114_11eb_945d_45efeef67b8arow10_col2\" class=\"data row10 col2\" >0.8021</td>\n",
       "                        <td id=\"T_ef4521e4_4114_11eb_945d_45efeef67b8arow10_col3\" class=\"data row10 col3\" >0.9239</td>\n",
       "                        <td id=\"T_ef4521e4_4114_11eb_945d_45efeef67b8arow10_col4\" class=\"data row10 col4\" >0.6952</td>\n",
       "                        <td id=\"T_ef4521e4_4114_11eb_945d_45efeef67b8arow10_col5\" class=\"data row10 col5\" >0.7922</td>\n",
       "                        <td id=\"T_ef4521e4_4114_11eb_945d_45efeef67b8arow10_col6\" class=\"data row10 col6\" >0.2949</td>\n",
       "                        <td id=\"T_ef4521e4_4114_11eb_945d_45efeef67b8arow10_col7\" class=\"data row10 col7\" >0.3408</td>\n",
       "                        <td id=\"T_ef4521e4_4114_11eb_945d_45efeef67b8arow10_col8\" class=\"data row10 col8\" >0.0084</td>\n",
       "            </tr>\n",
       "            <tr>\n",
       "                        <th id=\"T_ef4521e4_4114_11eb_945d_45efeef67b8alevel0_row11\" class=\"row_heading level0 row11\" >11</th>\n",
       "                        <td id=\"T_ef4521e4_4114_11eb_945d_45efeef67b8arow11_col0\" class=\"data row11 col0\" >SVM - Linear Kernel</td>\n",
       "                        <td id=\"T_ef4521e4_4114_11eb_945d_45efeef67b8arow11_col1\" class=\"data row11 col1\" >0.6525</td>\n",
       "                        <td id=\"T_ef4521e4_4114_11eb_945d_45efeef67b8arow11_col2\" class=\"data row11 col2\" >0.0000</td>\n",
       "                        <td id=\"T_ef4521e4_4114_11eb_945d_45efeef67b8arow11_col3\" class=\"data row11 col3\" >0.6937</td>\n",
       "                        <td id=\"T_ef4521e4_4114_11eb_945d_45efeef67b8arow11_col4\" class=\"data row11 col4\" >0.8028</td>\n",
       "                        <td id=\"T_ef4521e4_4114_11eb_945d_45efeef67b8arow11_col5\" class=\"data row11 col5\" >0.6622</td>\n",
       "                        <td id=\"T_ef4521e4_4114_11eb_945d_45efeef67b8arow11_col6\" class=\"data row11 col6\" >0.2774</td>\n",
       "                        <td id=\"T_ef4521e4_4114_11eb_945d_45efeef67b8arow11_col7\" class=\"data row11 col7\" >0.3405</td>\n",
       "                        <td id=\"T_ef4521e4_4114_11eb_945d_45efeef67b8arow11_col8\" class=\"data row11 col8\" >0.6589</td>\n",
       "            </tr>\n",
       "            <tr>\n",
       "                        <th id=\"T_ef4521e4_4114_11eb_945d_45efeef67b8alevel0_row12\" class=\"row_heading level0 row12\" >12</th>\n",
       "                        <td id=\"T_ef4521e4_4114_11eb_945d_45efeef67b8arow12_col0\" class=\"data row12 col0\" >Ridge Classifier</td>\n",
       "                        <td id=\"T_ef4521e4_4114_11eb_945d_45efeef67b8arow12_col1\" class=\"data row12 col1\" >0.7480</td>\n",
       "                        <td id=\"T_ef4521e4_4114_11eb_945d_45efeef67b8arow12_col2\" class=\"data row12 col2\" >0.0000</td>\n",
       "                        <td id=\"T_ef4521e4_4114_11eb_945d_45efeef67b8arow12_col3\" class=\"data row12 col3\" >0.8603</td>\n",
       "                        <td id=\"T_ef4521e4_4114_11eb_945d_45efeef67b8arow12_col4\" class=\"data row12 col4\" >0.7618</td>\n",
       "                        <td id=\"T_ef4521e4_4114_11eb_945d_45efeef67b8arow12_col5\" class=\"data row12 col5\" >0.8081</td>\n",
       "                        <td id=\"T_ef4521e4_4114_11eb_945d_45efeef67b8arow12_col6\" class=\"data row12 col6\" >0.4451</td>\n",
       "                        <td id=\"T_ef4521e4_4114_11eb_945d_45efeef67b8arow12_col7\" class=\"data row12 col7\" >0.4521</td>\n",
       "                        <td id=\"T_ef4521e4_4114_11eb_945d_45efeef67b8arow12_col8\" class=\"data row12 col8\" >0.0228</td>\n",
       "            </tr>\n",
       "            <tr>\n",
       "                        <th id=\"T_ef4521e4_4114_11eb_945d_45efeef67b8alevel0_row13\" class=\"row_heading level0 row13\" >13</th>\n",
       "                        <td id=\"T_ef4521e4_4114_11eb_945d_45efeef67b8arow13_col0\" class=\"data row13 col0\" >Quadratic Discriminant Analysis</td>\n",
       "                        <td id=\"T_ef4521e4_4114_11eb_945d_45efeef67b8arow13_col1\" class=\"data row13 col1\" >0.5933</td>\n",
       "                        <td id=\"T_ef4521e4_4114_11eb_945d_45efeef67b8arow13_col2\" class=\"data row13 col2\" >0.0000</td>\n",
       "                        <td id=\"T_ef4521e4_4114_11eb_945d_45efeef67b8arow13_col3\" class=\"data row13 col3\" >0.9000</td>\n",
       "                        <td id=\"T_ef4521e4_4114_11eb_945d_45efeef67b8arow13_col4\" class=\"data row13 col4\" >0.5550</td>\n",
       "                        <td id=\"T_ef4521e4_4114_11eb_945d_45efeef67b8arow13_col5\" class=\"data row13 col5\" >0.6866</td>\n",
       "                        <td id=\"T_ef4521e4_4114_11eb_945d_45efeef67b8arow13_col6\" class=\"data row13 col6\" >0.0000</td>\n",
       "                        <td id=\"T_ef4521e4_4114_11eb_945d_45efeef67b8arow13_col7\" class=\"data row13 col7\" >0.0000</td>\n",
       "                        <td id=\"T_ef4521e4_4114_11eb_945d_45efeef67b8arow13_col8\" class=\"data row13 col8\" >0.0221</td>\n",
       "            </tr>\n",
       "    </tbody></table>"
      ],
      "text/plain": [
       "<pandas.io.formats.style.Styler at 0x7f6b293c3550>"
      ]
     },
     "metadata": {},
     "output_type": "display_data"
    }
   ],
   "source": [
    "top5 = compare_models(n_select = 5, blacklist = ['catboost'], sort = 'AUC') "
   ]
  },
  {
   "cell_type": "code",
   "execution_count": 444,
   "metadata": {
    "scrolled": true
   },
   "outputs": [
    {
     "name": "stdout",
     "output_type": "stream",
     "text": [
      "[[5969 2732]\n",
      " [ 332  818]]\n",
      "0.711304347826087\n"
     ]
    },
    {
     "data": {
      "image/png": "[encoded data removed]",
      "text/plain": [
       "<Figure size 432x288 with 1 Axes>"
      ]
     },
     "metadata": {
      "needs_background": "light"
     },
     "output_type": "display_data"
    }
   ],
   "source": [
    "tec = None\n",
    "plotModel(top5[0], X_testss, y_testss)"
   ]
  },
  {
   "cell_type": "code",
   "execution_count": 445,
   "metadata": {
    "scrolled": true
   },
   "outputs": [
    {
     "name": "stdout",
     "output_type": "stream",
     "text": [
      "[[5942 2759]\n",
      " [ 324  826]]\n",
      "0.7182608695652174\n"
     ]
    },
    {
     "data": {
      "image/png": "[encoded data removed]",
      "text/plain": [
       "<Figure size 432x288 with 1 Axes>"
      ]
     },
     "metadata": {
      "needs_background": "light"
     },
     "output_type": "display_data"
    }
   ],
   "source": [
    "tec = None\n",
    "plotModel(top5[1], X_testss, y_testss)"
   ]
  },
  {
   "cell_type": "code",
   "execution_count": 446,
   "metadata": {
    "scrolled": true
   },
   "outputs": [
    {
     "name": "stdout",
     "output_type": "stream",
     "text": [
      "[[6088 2613]\n",
      " [ 346  804]]\n",
      "0.6991304347826087\n"
     ]
    },
    {
     "data": {
      "image/png": "[encoded data removed]",
      "text/plain": [
       "<Figure size 432x288 with 1 Axes>"
      ]
     },
     "metadata": {
      "needs_background": "light"
     },
     "output_type": "display_data"
    }
   ],
   "source": [
    "tec = None\n",
    "plotModel(top5[2], X_testss, y_testss)"
   ]
  },
  {
   "cell_type": "code",
   "execution_count": 447,
   "metadata": {
    "scrolled": true
   },
   "outputs": [
    {
     "name": "stdout",
     "output_type": "stream",
     "text": [
      "[[6145 2556]\n",
      " [ 352  798]]\n",
      "0.6939130434782609\n"
     ]
    },
    {
     "data": {
      "image/png": "[encoded data removed]",
      "text/plain": [
       "<Figure size 432x288 with 1 Axes>"
      ]
     },
     "metadata": {
      "needs_background": "light"
     },
     "output_type": "display_data"
    }
   ],
   "source": [
    "tec = None\n",
    "plotModel(top5[3], X_testss, y_testss)"
   ]
  },
  {
   "cell_type": "code",
   "execution_count": 448,
   "metadata": {
    "scrolled": true
   },
   "outputs": [
    {
     "name": "stdout",
     "output_type": "stream",
     "text": [
      "[[6139 2562]\n",
      " [ 352  798]]\n",
      "0.6939130434782609\n"
     ]
    },
    {
     "data": {
      "image/png": "[encoded data removed]",
      "text/plain": [
       "<Figure size 432x288 with 1 Axes>"
      ]
     },
     "metadata": {
      "needs_background": "light"
     },
     "output_type": "display_data"
    }
   ],
   "source": [
    "tec = None\n",
    "plotModel(top5[4], X_testss, y_testss)"
   ]
  },
  {
   "cell_type": "markdown",
   "metadata": {},
   "source": [
    "### 6. Stacked models"
   ]
  },
  {
   "cell_type": "code",
   "execution_count": 452,
   "metadata": {
    "scrolled": true
   },
   "outputs": [
    {
     "data": {
      "text/html": [
       "<style  type=\"text/css\" >\n",
       "#T_e7be0de0_4115_11eb_945d_45efeef67b8arow10_col0,#T_e7be0de0_4115_11eb_945d_45efeef67b8arow10_col1,#T_e7be0de0_4115_11eb_945d_45efeef67b8arow10_col2,#T_e7be0de0_4115_11eb_945d_45efeef67b8arow10_col3,#T_e7be0de0_4115_11eb_945d_45efeef67b8arow10_col4,#T_e7be0de0_4115_11eb_945d_45efeef67b8arow10_col5,#T_e7be0de0_4115_11eb_945d_45efeef67b8arow10_col6{\n",
       "            background:  yellow;\n",
       "        }</style><table id=\"T_e7be0de0_4115_11eb_945d_45efeef67b8a\" ><thead>    <tr>        <th class=\"blank level0\" ></th>        <th class=\"col_heading level0 col0\" >Accuracy</th>        <th class=\"col_heading level0 col1\" >AUC</th>        <th class=\"col_heading level0 col2\" >Recall</th>        <th class=\"col_heading level0 col3\" >Prec.</th>        <th class=\"col_heading level0 col4\" >F1</th>        <th class=\"col_heading level0 col5\" >Kappa</th>        <th class=\"col_heading level0 col6\" >MCC</th>    </tr></thead><tbody>\n",
       "                <tr>\n",
       "                        <th id=\"T_e7be0de0_4115_11eb_945d_45efeef67b8alevel0_row0\" class=\"row_heading level0 row0\" >0</th>\n",
       "                        <td id=\"T_e7be0de0_4115_11eb_945d_45efeef67b8arow0_col0\" class=\"data row0 col0\" >0.7992</td>\n",
       "                        <td id=\"T_e7be0de0_4115_11eb_945d_45efeef67b8arow0_col1\" class=\"data row0 col1\" >0.8889</td>\n",
       "                        <td id=\"T_e7be0de0_4115_11eb_945d_45efeef67b8arow0_col2\" class=\"data row0 col2\" >0.8112</td>\n",
       "                        <td id=\"T_e7be0de0_4115_11eb_945d_45efeef67b8arow0_col3\" class=\"data row0 col3\" >0.8556</td>\n",
       "                        <td id=\"T_e7be0de0_4115_11eb_945d_45efeef67b8arow0_col4\" class=\"data row0 col4\" >0.8328</td>\n",
       "                        <td id=\"T_e7be0de0_4115_11eb_945d_45efeef67b8arow0_col5\" class=\"data row0 col5\" >0.5818</td>\n",
       "                        <td id=\"T_e7be0de0_4115_11eb_945d_45efeef67b8arow0_col6\" class=\"data row0 col6\" >0.5831</td>\n",
       "            </tr>\n",
       "            <tr>\n",
       "                        <th id=\"T_e7be0de0_4115_11eb_945d_45efeef67b8alevel0_row1\" class=\"row_heading level0 row1\" >1</th>\n",
       "                        <td id=\"T_e7be0de0_4115_11eb_945d_45efeef67b8arow1_col0\" class=\"data row1 col0\" >0.7999</td>\n",
       "                        <td id=\"T_e7be0de0_4115_11eb_945d_45efeef67b8arow1_col1\" class=\"data row1 col1\" >0.8885</td>\n",
       "                        <td id=\"T_e7be0de0_4115_11eb_945d_45efeef67b8arow1_col2\" class=\"data row1 col2\" >0.8083</td>\n",
       "                        <td id=\"T_e7be0de0_4115_11eb_945d_45efeef67b8arow1_col3\" class=\"data row1 col3\" >0.8588</td>\n",
       "                        <td id=\"T_e7be0de0_4115_11eb_945d_45efeef67b8arow1_col4\" class=\"data row1 col4\" >0.8328</td>\n",
       "                        <td id=\"T_e7be0de0_4115_11eb_945d_45efeef67b8arow1_col5\" class=\"data row1 col5\" >0.5841</td>\n",
       "                        <td id=\"T_e7be0de0_4115_11eb_945d_45efeef67b8arow1_col6\" class=\"data row1 col6\" >0.5858</td>\n",
       "            </tr>\n",
       "            <tr>\n",
       "                        <th id=\"T_e7be0de0_4115_11eb_945d_45efeef67b8alevel0_row2\" class=\"row_heading level0 row2\" >2</th>\n",
       "                        <td id=\"T_e7be0de0_4115_11eb_945d_45efeef67b8arow2_col0\" class=\"data row2 col0\" >0.8097</td>\n",
       "                        <td id=\"T_e7be0de0_4115_11eb_945d_45efeef67b8arow2_col1\" class=\"data row2 col1\" >0.8987</td>\n",
       "                        <td id=\"T_e7be0de0_4115_11eb_945d_45efeef67b8arow2_col2\" class=\"data row2 col2\" >0.8169</td>\n",
       "                        <td id=\"T_e7be0de0_4115_11eb_945d_45efeef67b8arow2_col3\" class=\"data row2 col3\" >0.8668</td>\n",
       "                        <td id=\"T_e7be0de0_4115_11eb_945d_45efeef67b8arow2_col4\" class=\"data row2 col4\" >0.8411</td>\n",
       "                        <td id=\"T_e7be0de0_4115_11eb_945d_45efeef67b8arow2_col5\" class=\"data row2 col5\" >0.6045</td>\n",
       "                        <td id=\"T_e7be0de0_4115_11eb_945d_45efeef67b8arow2_col6\" class=\"data row2 col6\" >0.6061</td>\n",
       "            </tr>\n",
       "            <tr>\n",
       "                        <th id=\"T_e7be0de0_4115_11eb_945d_45efeef67b8alevel0_row3\" class=\"row_heading level0 row3\" >3</th>\n",
       "                        <td id=\"T_e7be0de0_4115_11eb_945d_45efeef67b8arow3_col0\" class=\"data row3 col0\" >0.8125</td>\n",
       "                        <td id=\"T_e7be0de0_4115_11eb_945d_45efeef67b8arow3_col1\" class=\"data row3 col1\" >0.9008</td>\n",
       "                        <td id=\"T_e7be0de0_4115_11eb_945d_45efeef67b8arow3_col2\" class=\"data row3 col2\" >0.8272</td>\n",
       "                        <td id=\"T_e7be0de0_4115_11eb_945d_45efeef67b8arow3_col3\" class=\"data row3 col3\" >0.8631</td>\n",
       "                        <td id=\"T_e7be0de0_4115_11eb_945d_45efeef67b8arow3_col4\" class=\"data row3 col4\" >0.8447</td>\n",
       "                        <td id=\"T_e7be0de0_4115_11eb_945d_45efeef67b8arow3_col5\" class=\"data row3 col5\" >0.6084</td>\n",
       "                        <td id=\"T_e7be0de0_4115_11eb_945d_45efeef67b8arow3_col6\" class=\"data row3 col6\" >0.6093</td>\n",
       "            </tr>\n",
       "            <tr>\n",
       "                        <th id=\"T_e7be0de0_4115_11eb_945d_45efeef67b8alevel0_row4\" class=\"row_heading level0 row4\" >4</th>\n",
       "                        <td id=\"T_e7be0de0_4115_11eb_945d_45efeef67b8arow4_col0\" class=\"data row4 col0\" >0.7946</td>\n",
       "                        <td id=\"T_e7be0de0_4115_11eb_945d_45efeef67b8arow4_col1\" class=\"data row4 col1\" >0.8937</td>\n",
       "                        <td id=\"T_e7be0de0_4115_11eb_945d_45efeef67b8arow4_col2\" class=\"data row4 col2\" >0.7912</td>\n",
       "                        <td id=\"T_e7be0de0_4115_11eb_945d_45efeef67b8arow4_col3\" class=\"data row4 col3\" >0.8642</td>\n",
       "                        <td id=\"T_e7be0de0_4115_11eb_945d_45efeef67b8arow4_col4\" class=\"data row4 col4\" >0.8261</td>\n",
       "                        <td id=\"T_e7be0de0_4115_11eb_945d_45efeef67b8arow4_col5\" class=\"data row4 col5\" >0.5764</td>\n",
       "                        <td id=\"T_e7be0de0_4115_11eb_945d_45efeef67b8arow4_col6\" class=\"data row4 col6\" >0.5798</td>\n",
       "            </tr>\n",
       "            <tr>\n",
       "                        <th id=\"T_e7be0de0_4115_11eb_945d_45efeef67b8alevel0_row5\" class=\"row_heading level0 row5\" >5</th>\n",
       "                        <td id=\"T_e7be0de0_4115_11eb_945d_45efeef67b8arow5_col0\" class=\"data row5 col0\" >0.8058</td>\n",
       "                        <td id=\"T_e7be0de0_4115_11eb_945d_45efeef67b8arow5_col1\" class=\"data row5 col1\" >0.8921</td>\n",
       "                        <td id=\"T_e7be0de0_4115_11eb_945d_45efeef67b8arow5_col2\" class=\"data row5 col2\" >0.8197</td>\n",
       "                        <td id=\"T_e7be0de0_4115_11eb_945d_45efeef67b8arow5_col3\" class=\"data row5 col3\" >0.8589</td>\n",
       "                        <td id=\"T_e7be0de0_4115_11eb_945d_45efeef67b8arow5_col4\" class=\"data row5 col4\" >0.8389</td>\n",
       "                        <td id=\"T_e7be0de0_4115_11eb_945d_45efeef67b8arow5_col5\" class=\"data row5 col5\" >0.5950</td>\n",
       "                        <td id=\"T_e7be0de0_4115_11eb_945d_45efeef67b8arow5_col6\" class=\"data row5 col6\" >0.5960</td>\n",
       "            </tr>\n",
       "            <tr>\n",
       "                        <th id=\"T_e7be0de0_4115_11eb_945d_45efeef67b8alevel0_row6\" class=\"row_heading level0 row6\" >6</th>\n",
       "                        <td id=\"T_e7be0de0_4115_11eb_945d_45efeef67b8arow6_col0\" class=\"data row6 col0\" >0.7892</td>\n",
       "                        <td id=\"T_e7be0de0_4115_11eb_945d_45efeef67b8arow6_col1\" class=\"data row6 col1\" >0.8830</td>\n",
       "                        <td id=\"T_e7be0de0_4115_11eb_945d_45efeef67b8arow6_col2\" class=\"data row6 col2\" >0.8019</td>\n",
       "                        <td id=\"T_e7be0de0_4115_11eb_945d_45efeef67b8arow6_col3\" class=\"data row6 col3\" >0.8479</td>\n",
       "                        <td id=\"T_e7be0de0_4115_11eb_945d_45efeef67b8arow6_col4\" class=\"data row6 col4\" >0.8243</td>\n",
       "                        <td id=\"T_e7be0de0_4115_11eb_945d_45efeef67b8arow6_col5\" class=\"data row6 col5\" >0.5615</td>\n",
       "                        <td id=\"T_e7be0de0_4115_11eb_945d_45efeef67b8arow6_col6\" class=\"data row6 col6\" >0.5629</td>\n",
       "            </tr>\n",
       "            <tr>\n",
       "                        <th id=\"T_e7be0de0_4115_11eb_945d_45efeef67b8alevel0_row7\" class=\"row_heading level0 row7\" >7</th>\n",
       "                        <td id=\"T_e7be0de0_4115_11eb_945d_45efeef67b8arow7_col0\" class=\"data row7 col0\" >0.8044</td>\n",
       "                        <td id=\"T_e7be0de0_4115_11eb_945d_45efeef67b8arow7_col1\" class=\"data row7 col1\" >0.8921</td>\n",
       "                        <td id=\"T_e7be0de0_4115_11eb_945d_45efeef67b8arow7_col2\" class=\"data row7 col2\" >0.8060</td>\n",
       "                        <td id=\"T_e7be0de0_4115_11eb_945d_45efeef67b8arow7_col3\" class=\"data row7 col3\" >0.8674</td>\n",
       "                        <td id=\"T_e7be0de0_4115_11eb_945d_45efeef67b8arow7_col4\" class=\"data row7 col4\" >0.8356</td>\n",
       "                        <td id=\"T_e7be0de0_4115_11eb_945d_45efeef67b8arow7_col5\" class=\"data row7 col5\" >0.5949</td>\n",
       "                        <td id=\"T_e7be0de0_4115_11eb_945d_45efeef67b8arow7_col6\" class=\"data row7 col6\" >0.5973</td>\n",
       "            </tr>\n",
       "            <tr>\n",
       "                        <th id=\"T_e7be0de0_4115_11eb_945d_45efeef67b8alevel0_row8\" class=\"row_heading level0 row8\" >8</th>\n",
       "                        <td id=\"T_e7be0de0_4115_11eb_945d_45efeef67b8arow8_col0\" class=\"data row8 col0\" >0.8065</td>\n",
       "                        <td id=\"T_e7be0de0_4115_11eb_945d_45efeef67b8arow8_col1\" class=\"data row8 col1\" >0.8964</td>\n",
       "                        <td id=\"T_e7be0de0_4115_11eb_945d_45efeef67b8arow8_col2\" class=\"data row8 col2\" >0.8163</td>\n",
       "                        <td id=\"T_e7be0de0_4115_11eb_945d_45efeef67b8arow8_col3\" class=\"data row8 col3\" >0.8626</td>\n",
       "                        <td id=\"T_e7be0de0_4115_11eb_945d_45efeef67b8arow8_col4\" class=\"data row8 col4\" >0.8388</td>\n",
       "                        <td id=\"T_e7be0de0_4115_11eb_945d_45efeef67b8arow8_col5\" class=\"data row8 col5\" >0.5972</td>\n",
       "                        <td id=\"T_e7be0de0_4115_11eb_945d_45efeef67b8arow8_col6\" class=\"data row8 col6\" >0.5986</td>\n",
       "            </tr>\n",
       "            <tr>\n",
       "                        <th id=\"T_e7be0de0_4115_11eb_945d_45efeef67b8alevel0_row9\" class=\"row_heading level0 row9\" >9</th>\n",
       "                        <td id=\"T_e7be0de0_4115_11eb_945d_45efeef67b8arow9_col0\" class=\"data row9 col0\" >0.8061</td>\n",
       "                        <td id=\"T_e7be0de0_4115_11eb_945d_45efeef67b8arow9_col1\" class=\"data row9 col1\" >0.8983</td>\n",
       "                        <td id=\"T_e7be0de0_4115_11eb_945d_45efeef67b8arow9_col2\" class=\"data row9 col2\" >0.8209</td>\n",
       "                        <td id=\"T_e7be0de0_4115_11eb_945d_45efeef67b8arow9_col3\" class=\"data row9 col3\" >0.8586</td>\n",
       "                        <td id=\"T_e7be0de0_4115_11eb_945d_45efeef67b8arow9_col4\" class=\"data row9 col4\" >0.8393</td>\n",
       "                        <td id=\"T_e7be0de0_4115_11eb_945d_45efeef67b8arow9_col5\" class=\"data row9 col5\" >0.5953</td>\n",
       "                        <td id=\"T_e7be0de0_4115_11eb_945d_45efeef67b8arow9_col6\" class=\"data row9 col6\" >0.5962</td>\n",
       "            </tr>\n",
       "            <tr>\n",
       "                        <th id=\"T_e7be0de0_4115_11eb_945d_45efeef67b8alevel0_row10\" class=\"row_heading level0 row10\" >Mean</th>\n",
       "                        <td id=\"T_e7be0de0_4115_11eb_945d_45efeef67b8arow10_col0\" class=\"data row10 col0\" >0.8028</td>\n",
       "                        <td id=\"T_e7be0de0_4115_11eb_945d_45efeef67b8arow10_col1\" class=\"data row10 col1\" >0.8932</td>\n",
       "                        <td id=\"T_e7be0de0_4115_11eb_945d_45efeef67b8arow10_col2\" class=\"data row10 col2\" >0.8120</td>\n",
       "                        <td id=\"T_e7be0de0_4115_11eb_945d_45efeef67b8arow10_col3\" class=\"data row10 col3\" >0.8604</td>\n",
       "                        <td id=\"T_e7be0de0_4115_11eb_945d_45efeef67b8arow10_col4\" class=\"data row10 col4\" >0.8354</td>\n",
       "                        <td id=\"T_e7be0de0_4115_11eb_945d_45efeef67b8arow10_col5\" class=\"data row10 col5\" >0.5899</td>\n",
       "                        <td id=\"T_e7be0de0_4115_11eb_945d_45efeef67b8arow10_col6\" class=\"data row10 col6\" >0.5915</td>\n",
       "            </tr>\n",
       "            <tr>\n",
       "                        <th id=\"T_e7be0de0_4115_11eb_945d_45efeef67b8alevel0_row11\" class=\"row_heading level0 row11\" >SD</th>\n",
       "                        <td id=\"T_e7be0de0_4115_11eb_945d_45efeef67b8arow11_col0\" class=\"data row11 col0\" >0.0067</td>\n",
       "                        <td id=\"T_e7be0de0_4115_11eb_945d_45efeef67b8arow11_col1\" class=\"data row11 col1\" >0.0052</td>\n",
       "                        <td id=\"T_e7be0de0_4115_11eb_945d_45efeef67b8arow11_col2\" class=\"data row11 col2\" >0.0100</td>\n",
       "                        <td id=\"T_e7be0de0_4115_11eb_945d_45efeef67b8arow11_col3\" class=\"data row11 col3\" >0.0055</td>\n",
       "                        <td id=\"T_e7be0de0_4115_11eb_945d_45efeef67b8arow11_col4\" class=\"data row11 col4\" >0.0062</td>\n",
       "                        <td id=\"T_e7be0de0_4115_11eb_945d_45efeef67b8arow11_col5\" class=\"data row11 col5\" >0.0133</td>\n",
       "                        <td id=\"T_e7be0de0_4115_11eb_945d_45efeef67b8arow11_col6\" class=\"data row11 col6\" >0.0131</td>\n",
       "            </tr>\n",
       "    </tbody></table>"
      ],
      "text/plain": [
       "<pandas.io.formats.style.Styler at 0x7f6b294c3210>"
      ]
     },
     "metadata": {},
     "output_type": "display_data"
    }
   ],
   "source": [
    "stacker = stack_models(estimator_list = [top5[0], top5[2], top5[3], top5[4]], meta_model = top5[1])"
   ]
  },
  {
   "cell_type": "code",
   "execution_count": 453,
   "metadata": {},
   "outputs": [
    {
     "name": "stdout",
     "output_type": "stream",
     "text": [
      "[[6077 2624]\n",
      " [ 333  817]]\n",
      "0.7104347826086956\n"
     ]
    },
    {
     "data": {
      "image/png": "[encoded data removed]",
      "text/plain": [
       "<Figure size 432x288 with 1 Axes>"
      ]
     },
     "metadata": {
      "needs_background": "light"
     },
     "output_type": "display_data"
    }
   ],
   "source": [
    "tec = None\n",
    "plotModel(stacker, X_testss, y_testss)\n",
    "#lgbm"
   ]
  },
  {
   "cell_type": "code",
   "execution_count": 450,
   "metadata": {},
   "outputs": [
    {
     "name": "stdout",
     "output_type": "stream",
     "text": [
      "[[5950 2751]\n",
      " [ 336  814]]\n",
      "0.7078260869565217\n"
     ]
    },
    {
     "data": {
      "image/png": "[encoded data removed]",
      "text/plain": [
       "<Figure size 432x288 with 1 Axes>"
      ]
     },
     "metadata": {
      "needs_background": "light"
     },
     "output_type": "display_data"
    }
   ],
   "source": [
    "tec = None\n",
    "plotModel(stacker, X_testss, y_testss)\n",
    "#xgb"
   ]
  },
  {
   "cell_type": "code",
   "execution_count": 461,
   "metadata": {
    "scrolled": true
   },
   "outputs": [
    {
     "data": {
      "text/html": [
       "<style  type=\"text/css\" >\n",
       "#T_18393678_4118_11eb_945d_45efeef67b8arow10_col0,#T_18393678_4118_11eb_945d_45efeef67b8arow10_col1,#T_18393678_4118_11eb_945d_45efeef67b8arow10_col2,#T_18393678_4118_11eb_945d_45efeef67b8arow10_col3,#T_18393678_4118_11eb_945d_45efeef67b8arow10_col4,#T_18393678_4118_11eb_945d_45efeef67b8arow10_col5,#T_18393678_4118_11eb_945d_45efeef67b8arow10_col6{\n",
       "            background:  yellow;\n",
       "        }</style><table id=\"T_18393678_4118_11eb_945d_45efeef67b8a\" ><thead>    <tr>        <th class=\"blank level0\" ></th>        <th class=\"col_heading level0 col0\" >Accuracy</th>        <th class=\"col_heading level0 col1\" >AUC</th>        <th class=\"col_heading level0 col2\" >Recall</th>        <th class=\"col_heading level0 col3\" >Prec.</th>        <th class=\"col_heading level0 col4\" >F1</th>        <th class=\"col_heading level0 col5\" >Kappa</th>        <th class=\"col_heading level0 col6\" >MCC</th>    </tr></thead><tbody>\n",
       "                <tr>\n",
       "                        <th id=\"T_18393678_4118_11eb_945d_45efeef67b8alevel0_row0\" class=\"row_heading level0 row0\" >0</th>\n",
       "                        <td id=\"T_18393678_4118_11eb_945d_45efeef67b8arow0_col0\" class=\"data row0 col0\" >0.7939</td>\n",
       "                        <td id=\"T_18393678_4118_11eb_945d_45efeef67b8arow0_col1\" class=\"data row0 col1\" >0.8844</td>\n",
       "                        <td id=\"T_18393678_4118_11eb_945d_45efeef67b8arow0_col2\" class=\"data row0 col2\" >0.8066</td>\n",
       "                        <td id=\"T_18393678_4118_11eb_945d_45efeef67b8arow0_col3\" class=\"data row0 col3\" >0.8513</td>\n",
       "                        <td id=\"T_18393678_4118_11eb_945d_45efeef67b8arow0_col4\" class=\"data row0 col4\" >0.8284</td>\n",
       "                        <td id=\"T_18393678_4118_11eb_945d_45efeef67b8arow0_col5\" class=\"data row0 col5\" >0.5709</td>\n",
       "                        <td id=\"T_18393678_4118_11eb_945d_45efeef67b8arow0_col6\" class=\"data row0 col6\" >0.5722</td>\n",
       "            </tr>\n",
       "            <tr>\n",
       "                        <th id=\"T_18393678_4118_11eb_945d_45efeef67b8alevel0_row1\" class=\"row_heading level0 row1\" >1</th>\n",
       "                        <td id=\"T_18393678_4118_11eb_945d_45efeef67b8arow1_col0\" class=\"data row1 col0\" >0.7977</td>\n",
       "                        <td id=\"T_18393678_4118_11eb_945d_45efeef67b8arow1_col1\" class=\"data row1 col1\" >0.8843</td>\n",
       "                        <td id=\"T_18393678_4118_11eb_945d_45efeef67b8arow1_col2\" class=\"data row1 col2\" >0.8169</td>\n",
       "                        <td id=\"T_18393678_4118_11eb_945d_45efeef67b8arow1_col3\" class=\"data row1 col3\" >0.8493</td>\n",
       "                        <td id=\"T_18393678_4118_11eb_945d_45efeef67b8arow1_col4\" class=\"data row1 col4\" >0.8328</td>\n",
       "                        <td id=\"T_18393678_4118_11eb_945d_45efeef67b8arow1_col5\" class=\"data row1 col5\" >0.5771</td>\n",
       "                        <td id=\"T_18393678_4118_11eb_945d_45efeef67b8arow1_col6\" class=\"data row1 col6\" >0.5779</td>\n",
       "            </tr>\n",
       "            <tr>\n",
       "                        <th id=\"T_18393678_4118_11eb_945d_45efeef67b8alevel0_row2\" class=\"row_heading level0 row2\" >2</th>\n",
       "                        <td id=\"T_18393678_4118_11eb_945d_45efeef67b8arow2_col0\" class=\"data row2 col0\" >0.8087</td>\n",
       "                        <td id=\"T_18393678_4118_11eb_945d_45efeef67b8arow2_col1\" class=\"data row2 col1\" >0.8976</td>\n",
       "                        <td id=\"T_18393678_4118_11eb_945d_45efeef67b8arow2_col2\" class=\"data row2 col2\" >0.8197</td>\n",
       "                        <td id=\"T_18393678_4118_11eb_945d_45efeef67b8arow2_col3\" class=\"data row2 col3\" >0.8631</td>\n",
       "                        <td id=\"T_18393678_4118_11eb_945d_45efeef67b8arow2_col4\" class=\"data row2 col4\" >0.8408</td>\n",
       "                        <td id=\"T_18393678_4118_11eb_945d_45efeef67b8arow2_col5\" class=\"data row2 col5\" >0.6014</td>\n",
       "                        <td id=\"T_18393678_4118_11eb_945d_45efeef67b8arow2_col6\" class=\"data row2 col6\" >0.6026</td>\n",
       "            </tr>\n",
       "            <tr>\n",
       "                        <th id=\"T_18393678_4118_11eb_945d_45efeef67b8alevel0_row3\" class=\"row_heading level0 row3\" >3</th>\n",
       "                        <td id=\"T_18393678_4118_11eb_945d_45efeef67b8arow3_col0\" class=\"data row3 col0\" >0.8111</td>\n",
       "                        <td id=\"T_18393678_4118_11eb_945d_45efeef67b8arow3_col1\" class=\"data row3 col1\" >0.8965</td>\n",
       "                        <td id=\"T_18393678_4118_11eb_945d_45efeef67b8arow3_col2\" class=\"data row3 col2\" >0.8232</td>\n",
       "                        <td id=\"T_18393678_4118_11eb_945d_45efeef67b8arow3_col3\" class=\"data row3 col3\" >0.8641</td>\n",
       "                        <td id=\"T_18393678_4118_11eb_945d_45efeef67b8arow3_col4\" class=\"data row3 col4\" >0.8431</td>\n",
       "                        <td id=\"T_18393678_4118_11eb_945d_45efeef67b8arow3_col5\" class=\"data row3 col5\" >0.6062</td>\n",
       "                        <td id=\"T_18393678_4118_11eb_945d_45efeef67b8arow3_col6\" class=\"data row3 col6\" >0.6073</td>\n",
       "            </tr>\n",
       "            <tr>\n",
       "                        <th id=\"T_18393678_4118_11eb_945d_45efeef67b8alevel0_row4\" class=\"row_heading level0 row4\" >4</th>\n",
       "                        <td id=\"T_18393678_4118_11eb_945d_45efeef67b8arow4_col0\" class=\"data row4 col0\" >0.7985</td>\n",
       "                        <td id=\"T_18393678_4118_11eb_945d_45efeef67b8arow4_col1\" class=\"data row4 col1\" >0.8893</td>\n",
       "                        <td id=\"T_18393678_4118_11eb_945d_45efeef67b8arow4_col2\" class=\"data row4 col2\" >0.8095</td>\n",
       "                        <td id=\"T_18393678_4118_11eb_945d_45efeef67b8arow4_col3\" class=\"data row4 col3\" >0.8559</td>\n",
       "                        <td id=\"T_18393678_4118_11eb_945d_45efeef67b8arow4_col4\" class=\"data row4 col4\" >0.8320</td>\n",
       "                        <td id=\"T_18393678_4118_11eb_945d_45efeef67b8arow4_col5\" class=\"data row4 col5\" >0.5806</td>\n",
       "                        <td id=\"T_18393678_4118_11eb_945d_45efeef67b8arow4_col6\" class=\"data row4 col6\" >0.5820</td>\n",
       "            </tr>\n",
       "            <tr>\n",
       "                        <th id=\"T_18393678_4118_11eb_945d_45efeef67b8alevel0_row5\" class=\"row_heading level0 row5\" >5</th>\n",
       "                        <td id=\"T_18393678_4118_11eb_945d_45efeef67b8arow5_col0\" class=\"data row5 col0\" >0.8048</td>\n",
       "                        <td id=\"T_18393678_4118_11eb_945d_45efeef67b8arow5_col1\" class=\"data row5 col1\" >0.8909</td>\n",
       "                        <td id=\"T_18393678_4118_11eb_945d_45efeef67b8arow5_col2\" class=\"data row5 col2\" >0.8237</td>\n",
       "                        <td id=\"T_18393678_4118_11eb_945d_45efeef67b8arow5_col3\" class=\"data row5 col3\" >0.8544</td>\n",
       "                        <td id=\"T_18393678_4118_11eb_945d_45efeef67b8arow5_col4\" class=\"data row5 col4\" >0.8388</td>\n",
       "                        <td id=\"T_18393678_4118_11eb_945d_45efeef67b8arow5_col5\" class=\"data row5 col5\" >0.5916</td>\n",
       "                        <td id=\"T_18393678_4118_11eb_945d_45efeef67b8arow5_col6\" class=\"data row5 col6\" >0.5922</td>\n",
       "            </tr>\n",
       "            <tr>\n",
       "                        <th id=\"T_18393678_4118_11eb_945d_45efeef67b8alevel0_row6\" class=\"row_heading level0 row6\" >6</th>\n",
       "                        <td id=\"T_18393678_4118_11eb_945d_45efeef67b8arow6_col0\" class=\"data row6 col0\" >0.7899</td>\n",
       "                        <td id=\"T_18393678_4118_11eb_945d_45efeef67b8arow6_col1\" class=\"data row6 col1\" >0.8817</td>\n",
       "                        <td id=\"T_18393678_4118_11eb_945d_45efeef67b8arow6_col2\" class=\"data row6 col2\" >0.8122</td>\n",
       "                        <td id=\"T_18393678_4118_11eb_945d_45efeef67b8arow6_col3\" class=\"data row6 col3\" >0.8415</td>\n",
       "                        <td id=\"T_18393678_4118_11eb_945d_45efeef67b8arow6_col4\" class=\"data row6 col4\" >0.8266</td>\n",
       "                        <td id=\"T_18393678_4118_11eb_945d_45efeef67b8arow6_col5\" class=\"data row6 col5\" >0.5604</td>\n",
       "                        <td id=\"T_18393678_4118_11eb_945d_45efeef67b8arow6_col6\" class=\"data row6 col6\" >0.5610</td>\n",
       "            </tr>\n",
       "            <tr>\n",
       "                        <th id=\"T_18393678_4118_11eb_945d_45efeef67b8alevel0_row7\" class=\"row_heading level0 row7\" >7</th>\n",
       "                        <td id=\"T_18393678_4118_11eb_945d_45efeef67b8arow7_col0\" class=\"data row7 col0\" >0.7966</td>\n",
       "                        <td id=\"T_18393678_4118_11eb_945d_45efeef67b8arow7_col1\" class=\"data row7 col1\" >0.8882</td>\n",
       "                        <td id=\"T_18393678_4118_11eb_945d_45efeef67b8arow7_col2\" class=\"data row7 col2\" >0.8083</td>\n",
       "                        <td id=\"T_18393678_4118_11eb_945d_45efeef67b8arow7_col3\" class=\"data row7 col3\" >0.8541</td>\n",
       "                        <td id=\"T_18393678_4118_11eb_945d_45efeef67b8arow7_col4\" class=\"data row7 col4\" >0.8306</td>\n",
       "                        <td id=\"T_18393678_4118_11eb_945d_45efeef67b8arow7_col5\" class=\"data row7 col5\" >0.5767</td>\n",
       "                        <td id=\"T_18393678_4118_11eb_945d_45efeef67b8arow7_col6\" class=\"data row7 col6\" >0.5781</td>\n",
       "            </tr>\n",
       "            <tr>\n",
       "                        <th id=\"T_18393678_4118_11eb_945d_45efeef67b8alevel0_row8\" class=\"row_heading level0 row8\" >8</th>\n",
       "                        <td id=\"T_18393678_4118_11eb_945d_45efeef67b8arow8_col0\" class=\"data row8 col0\" >0.8040</td>\n",
       "                        <td id=\"T_18393678_4118_11eb_945d_45efeef67b8arow8_col1\" class=\"data row8 col1\" >0.8938</td>\n",
       "                        <td id=\"T_18393678_4118_11eb_945d_45efeef67b8arow8_col2\" class=\"data row8 col2\" >0.8169</td>\n",
       "                        <td id=\"T_18393678_4118_11eb_945d_45efeef67b8arow8_col3\" class=\"data row8 col3\" >0.8585</td>\n",
       "                        <td id=\"T_18393678_4118_11eb_945d_45efeef67b8arow8_col4\" class=\"data row8 col4\" >0.8372</td>\n",
       "                        <td id=\"T_18393678_4118_11eb_945d_45efeef67b8arow8_col5\" class=\"data row8 col5\" >0.5914</td>\n",
       "                        <td id=\"T_18393678_4118_11eb_945d_45efeef67b8arow8_col6\" class=\"data row8 col6\" >0.5926</td>\n",
       "            </tr>\n",
       "            <tr>\n",
       "                        <th id=\"T_18393678_4118_11eb_945d_45efeef67b8alevel0_row9\" class=\"row_heading level0 row9\" >9</th>\n",
       "                        <td id=\"T_18393678_4118_11eb_945d_45efeef67b8arow9_col0\" class=\"data row9 col0\" >0.8023</td>\n",
       "                        <td id=\"T_18393678_4118_11eb_945d_45efeef67b8arow9_col1\" class=\"data row9 col1\" >0.8906</td>\n",
       "                        <td id=\"T_18393678_4118_11eb_945d_45efeef67b8arow9_col2\" class=\"data row9 col2\" >0.8135</td>\n",
       "                        <td id=\"T_18393678_4118_11eb_945d_45efeef67b8arow9_col3\" class=\"data row9 col3\" >0.8585</td>\n",
       "                        <td id=\"T_18393678_4118_11eb_945d_45efeef67b8arow9_col4\" class=\"data row9 col4\" >0.8354</td>\n",
       "                        <td id=\"T_18393678_4118_11eb_945d_45efeef67b8arow9_col5\" class=\"data row9 col5\" >0.5883</td>\n",
       "                        <td id=\"T_18393678_4118_11eb_945d_45efeef67b8arow9_col6\" class=\"data row9 col6\" >0.5896</td>\n",
       "            </tr>\n",
       "            <tr>\n",
       "                        <th id=\"T_18393678_4118_11eb_945d_45efeef67b8alevel0_row10\" class=\"row_heading level0 row10\" >Mean</th>\n",
       "                        <td id=\"T_18393678_4118_11eb_945d_45efeef67b8arow10_col0\" class=\"data row10 col0\" >0.8007</td>\n",
       "                        <td id=\"T_18393678_4118_11eb_945d_45efeef67b8arow10_col1\" class=\"data row10 col1\" >0.8897</td>\n",
       "                        <td id=\"T_18393678_4118_11eb_945d_45efeef67b8arow10_col2\" class=\"data row10 col2\" >0.8150</td>\n",
       "                        <td id=\"T_18393678_4118_11eb_945d_45efeef67b8arow10_col3\" class=\"data row10 col3\" >0.8551</td>\n",
       "                        <td id=\"T_18393678_4118_11eb_945d_45efeef67b8arow10_col4\" class=\"data row10 col4\" >0.8346</td>\n",
       "                        <td id=\"T_18393678_4118_11eb_945d_45efeef67b8arow10_col5\" class=\"data row10 col5\" >0.5845</td>\n",
       "                        <td id=\"T_18393678_4118_11eb_945d_45efeef67b8arow10_col6\" class=\"data row10 col6\" >0.5855</td>\n",
       "            </tr>\n",
       "            <tr>\n",
       "                        <th id=\"T_18393678_4118_11eb_945d_45efeef67b8alevel0_row11\" class=\"row_heading level0 row11\" >SD</th>\n",
       "                        <td id=\"T_18393678_4118_11eb_945d_45efeef67b8arow11_col0\" class=\"data row11 col0\" >0.0063</td>\n",
       "                        <td id=\"T_18393678_4118_11eb_945d_45efeef67b8arow11_col1\" class=\"data row11 col1\" >0.0050</td>\n",
       "                        <td id=\"T_18393678_4118_11eb_945d_45efeef67b8arow11_col2\" class=\"data row11 col2\" >0.0057</td>\n",
       "                        <td id=\"T_18393678_4118_11eb_945d_45efeef67b8arow11_col3\" class=\"data row11 col3\" >0.0063</td>\n",
       "                        <td id=\"T_18393678_4118_11eb_945d_45efeef67b8arow11_col4\" class=\"data row11 col4\" >0.0052</td>\n",
       "                        <td id=\"T_18393678_4118_11eb_945d_45efeef67b8arow11_col5\" class=\"data row11 col5\" >0.0133</td>\n",
       "                        <td id=\"T_18393678_4118_11eb_945d_45efeef67b8arow11_col6\" class=\"data row11 col6\" >0.0134</td>\n",
       "            </tr>\n",
       "    </tbody></table>"
      ],
      "text/plain": [
       "<pandas.io.formats.style.Styler at 0x7f6b3a92f490>"
      ]
     },
     "metadata": {},
     "output_type": "display_data"
    }
   ],
   "source": [
    "blender_specific = blend_models(estimator_list = [top5[0], top5[1]], method = 'soft')"
   ]
  },
  {
   "cell_type": "code",
   "execution_count": 462,
   "metadata": {},
   "outputs": [
    {
     "name": "stdout",
     "output_type": "stream",
     "text": [
      "[[5927 2774]\n",
      " [ 324  826]]\n",
      "0.7182608695652174\n"
     ]
    },
    {
     "data": {
      "image/png": "[encoded data removed]",
      "text/plain": [
       "<Figure size 432x288 with 1 Axes>"
      ]
     },
     "metadata": {
      "needs_background": "light"
     },
     "output_type": "display_data"
    }
   ],
   "source": [
    "tec = None\n",
    "plotModel(blender_specific, X_testss, y_testss)\n",
    "#soft"
   ]
  },
  {
   "cell_type": "code",
   "execution_count": 463,
   "metadata": {
    "scrolled": true
   },
   "outputs": [
    {
     "data": {
      "text/html": [
       "<style  type=\"text/css\" >\n",
       "#T_3bc3743c_4118_11eb_945d_45efeef67b8arow10_col0,#T_3bc3743c_4118_11eb_945d_45efeef67b8arow10_col1,#T_3bc3743c_4118_11eb_945d_45efeef67b8arow10_col2,#T_3bc3743c_4118_11eb_945d_45efeef67b8arow10_col3,#T_3bc3743c_4118_11eb_945d_45efeef67b8arow10_col4,#T_3bc3743c_4118_11eb_945d_45efeef67b8arow10_col5,#T_3bc3743c_4118_11eb_945d_45efeef67b8arow10_col6{\n",
       "            background:  yellow;\n",
       "        }</style><table id=\"T_3bc3743c_4118_11eb_945d_45efeef67b8a\" ><thead>    <tr>        <th class=\"blank level0\" ></th>        <th class=\"col_heading level0 col0\" >Accuracy</th>        <th class=\"col_heading level0 col1\" >AUC</th>        <th class=\"col_heading level0 col2\" >Recall</th>        <th class=\"col_heading level0 col3\" >Prec.</th>        <th class=\"col_heading level0 col4\" >F1</th>        <th class=\"col_heading level0 col5\" >Kappa</th>        <th class=\"col_heading level0 col6\" >MCC</th>    </tr></thead><tbody>\n",
       "                <tr>\n",
       "                        <th id=\"T_3bc3743c_4118_11eb_945d_45efeef67b8alevel0_row0\" class=\"row_heading level0 row0\" >0</th>\n",
       "                        <td id=\"T_3bc3743c_4118_11eb_945d_45efeef67b8arow0_col0\" class=\"data row0 col0\" >0.7939</td>\n",
       "                        <td id=\"T_3bc3743c_4118_11eb_945d_45efeef67b8arow0_col1\" class=\"data row0 col1\" >0.0000</td>\n",
       "                        <td id=\"T_3bc3743c_4118_11eb_945d_45efeef67b8arow0_col2\" class=\"data row0 col2\" >0.8049</td>\n",
       "                        <td id=\"T_3bc3743c_4118_11eb_945d_45efeef67b8arow0_col3\" class=\"data row0 col3\" >0.8526</td>\n",
       "                        <td id=\"T_3bc3743c_4118_11eb_945d_45efeef67b8arow0_col4\" class=\"data row0 col4\" >0.8281</td>\n",
       "                        <td id=\"T_3bc3743c_4118_11eb_945d_45efeef67b8arow0_col5\" class=\"data row0 col5\" >0.5713</td>\n",
       "                        <td id=\"T_3bc3743c_4118_11eb_945d_45efeef67b8arow0_col6\" class=\"data row0 col6\" >0.5728</td>\n",
       "            </tr>\n",
       "            <tr>\n",
       "                        <th id=\"T_3bc3743c_4118_11eb_945d_45efeef67b8alevel0_row1\" class=\"row_heading level0 row1\" >1</th>\n",
       "                        <td id=\"T_3bc3743c_4118_11eb_945d_45efeef67b8arow1_col0\" class=\"data row1 col0\" >0.7967</td>\n",
       "                        <td id=\"T_3bc3743c_4118_11eb_945d_45efeef67b8arow1_col1\" class=\"data row1 col1\" >0.0000</td>\n",
       "                        <td id=\"T_3bc3743c_4118_11eb_945d_45efeef67b8arow1_col2\" class=\"data row1 col2\" >0.8140</td>\n",
       "                        <td id=\"T_3bc3743c_4118_11eb_945d_45efeef67b8arow1_col3\" class=\"data row1 col3\" >0.8499</td>\n",
       "                        <td id=\"T_3bc3743c_4118_11eb_945d_45efeef67b8arow1_col4\" class=\"data row1 col4\" >0.8316</td>\n",
       "                        <td id=\"T_3bc3743c_4118_11eb_945d_45efeef67b8arow1_col5\" class=\"data row1 col5\" >0.5755</td>\n",
       "                        <td id=\"T_3bc3743c_4118_11eb_945d_45efeef67b8arow1_col6\" class=\"data row1 col6\" >0.5763</td>\n",
       "            </tr>\n",
       "            <tr>\n",
       "                        <th id=\"T_3bc3743c_4118_11eb_945d_45efeef67b8alevel0_row2\" class=\"row_heading level0 row2\" >2</th>\n",
       "                        <td id=\"T_3bc3743c_4118_11eb_945d_45efeef67b8arow2_col0\" class=\"data row2 col0\" >0.8090</td>\n",
       "                        <td id=\"T_3bc3743c_4118_11eb_945d_45efeef67b8arow2_col1\" class=\"data row2 col1\" >0.0000</td>\n",
       "                        <td id=\"T_3bc3743c_4118_11eb_945d_45efeef67b8arow2_col2\" class=\"data row2 col2\" >0.8192</td>\n",
       "                        <td id=\"T_3bc3743c_4118_11eb_945d_45efeef67b8arow2_col3\" class=\"data row2 col3\" >0.8640</td>\n",
       "                        <td id=\"T_3bc3743c_4118_11eb_945d_45efeef67b8arow2_col4\" class=\"data row2 col4\" >0.8410</td>\n",
       "                        <td id=\"T_3bc3743c_4118_11eb_945d_45efeef67b8arow2_col5\" class=\"data row2 col5\" >0.6023</td>\n",
       "                        <td id=\"T_3bc3743c_4118_11eb_945d_45efeef67b8arow2_col6\" class=\"data row2 col6\" >0.6037</td>\n",
       "            </tr>\n",
       "            <tr>\n",
       "                        <th id=\"T_3bc3743c_4118_11eb_945d_45efeef67b8alevel0_row3\" class=\"row_heading level0 row3\" >3</th>\n",
       "                        <td id=\"T_3bc3743c_4118_11eb_945d_45efeef67b8arow3_col0\" class=\"data row3 col0\" >0.8108</td>\n",
       "                        <td id=\"T_3bc3743c_4118_11eb_945d_45efeef67b8arow3_col1\" class=\"data row3 col1\" >0.0000</td>\n",
       "                        <td id=\"T_3bc3743c_4118_11eb_945d_45efeef67b8arow3_col2\" class=\"data row3 col2\" >0.8192</td>\n",
       "                        <td id=\"T_3bc3743c_4118_11eb_945d_45efeef67b8arow3_col3\" class=\"data row3 col3\" >0.8666</td>\n",
       "                        <td id=\"T_3bc3743c_4118_11eb_945d_45efeef67b8arow3_col4\" class=\"data row3 col4\" >0.8422</td>\n",
       "                        <td id=\"T_3bc3743c_4118_11eb_945d_45efeef67b8arow3_col5\" class=\"data row3 col5\" >0.6063</td>\n",
       "                        <td id=\"T_3bc3743c_4118_11eb_945d_45efeef67b8arow3_col6\" class=\"data row3 col6\" >0.6078</td>\n",
       "            </tr>\n",
       "            <tr>\n",
       "                        <th id=\"T_3bc3743c_4118_11eb_945d_45efeef67b8alevel0_row4\" class=\"row_heading level0 row4\" >4</th>\n",
       "                        <td id=\"T_3bc3743c_4118_11eb_945d_45efeef67b8arow4_col0\" class=\"data row4 col0\" >0.7981</td>\n",
       "                        <td id=\"T_3bc3743c_4118_11eb_945d_45efeef67b8arow4_col1\" class=\"data row4 col1\" >0.0000</td>\n",
       "                        <td id=\"T_3bc3743c_4118_11eb_945d_45efeef67b8arow4_col2\" class=\"data row4 col2\" >0.8066</td>\n",
       "                        <td id=\"T_3bc3743c_4118_11eb_945d_45efeef67b8arow4_col3\" class=\"data row4 col3\" >0.8575</td>\n",
       "                        <td id=\"T_3bc3743c_4118_11eb_945d_45efeef67b8arow4_col4\" class=\"data row4 col4\" >0.8313</td>\n",
       "                        <td id=\"T_3bc3743c_4118_11eb_945d_45efeef67b8arow4_col5\" class=\"data row4 col5\" >0.5805</td>\n",
       "                        <td id=\"T_3bc3743c_4118_11eb_945d_45efeef67b8arow4_col6\" class=\"data row4 col6\" >0.5822</td>\n",
       "            </tr>\n",
       "            <tr>\n",
       "                        <th id=\"T_3bc3743c_4118_11eb_945d_45efeef67b8alevel0_row5\" class=\"row_heading level0 row5\" >5</th>\n",
       "                        <td id=\"T_3bc3743c_4118_11eb_945d_45efeef67b8arow5_col0\" class=\"data row5 col0\" >0.8065</td>\n",
       "                        <td id=\"T_3bc3743c_4118_11eb_945d_45efeef67b8arow5_col1\" class=\"data row5 col1\" >0.0000</td>\n",
       "                        <td id=\"T_3bc3743c_4118_11eb_945d_45efeef67b8arow5_col2\" class=\"data row5 col2\" >0.8237</td>\n",
       "                        <td id=\"T_3bc3743c_4118_11eb_945d_45efeef67b8arow5_col3\" class=\"data row5 col3\" >0.8570</td>\n",
       "                        <td id=\"T_3bc3743c_4118_11eb_945d_45efeef67b8arow5_col4\" class=\"data row5 col4\" >0.8400</td>\n",
       "                        <td id=\"T_3bc3743c_4118_11eb_945d_45efeef67b8arow5_col5\" class=\"data row5 col5\" >0.5956</td>\n",
       "                        <td id=\"T_3bc3743c_4118_11eb_945d_45efeef67b8arow5_col6\" class=\"data row5 col6\" >0.5963</td>\n",
       "            </tr>\n",
       "            <tr>\n",
       "                        <th id=\"T_3bc3743c_4118_11eb_945d_45efeef67b8alevel0_row6\" class=\"row_heading level0 row6\" >6</th>\n",
       "                        <td id=\"T_3bc3743c_4118_11eb_945d_45efeef67b8arow6_col0\" class=\"data row6 col0\" >0.7871</td>\n",
       "                        <td id=\"T_3bc3743c_4118_11eb_945d_45efeef67b8arow6_col1\" class=\"data row6 col1\" >0.0000</td>\n",
       "                        <td id=\"T_3bc3743c_4118_11eb_945d_45efeef67b8arow6_col2\" class=\"data row6 col2\" >0.8042</td>\n",
       "                        <td id=\"T_3bc3743c_4118_11eb_945d_45efeef67b8arow6_col3\" class=\"data row6 col3\" >0.8432</td>\n",
       "                        <td id=\"T_3bc3743c_4118_11eb_945d_45efeef67b8arow6_col4\" class=\"data row6 col4\" >0.8233</td>\n",
       "                        <td id=\"T_3bc3743c_4118_11eb_945d_45efeef67b8arow6_col5\" class=\"data row6 col5\" >0.5561</td>\n",
       "                        <td id=\"T_3bc3743c_4118_11eb_945d_45efeef67b8arow6_col6\" class=\"data row6 col6\" >0.5570</td>\n",
       "            </tr>\n",
       "            <tr>\n",
       "                        <th id=\"T_3bc3743c_4118_11eb_945d_45efeef67b8alevel0_row7\" class=\"row_heading level0 row7\" >7</th>\n",
       "                        <td id=\"T_3bc3743c_4118_11eb_945d_45efeef67b8arow7_col0\" class=\"data row7 col0\" >0.7966</td>\n",
       "                        <td id=\"T_3bc3743c_4118_11eb_945d_45efeef67b8arow7_col1\" class=\"data row7 col1\" >0.0000</td>\n",
       "                        <td id=\"T_3bc3743c_4118_11eb_945d_45efeef67b8arow7_col2\" class=\"data row7 col2\" >0.8072</td>\n",
       "                        <td id=\"T_3bc3743c_4118_11eb_945d_45efeef67b8arow7_col3\" class=\"data row7 col3\" >0.8550</td>\n",
       "                        <td id=\"T_3bc3743c_4118_11eb_945d_45efeef67b8arow7_col4\" class=\"data row7 col4\" >0.8304</td>\n",
       "                        <td id=\"T_3bc3743c_4118_11eb_945d_45efeef67b8arow7_col5\" class=\"data row7 col5\" >0.5770</td>\n",
       "                        <td id=\"T_3bc3743c_4118_11eb_945d_45efeef67b8arow7_col6\" class=\"data row7 col6\" >0.5785</td>\n",
       "            </tr>\n",
       "            <tr>\n",
       "                        <th id=\"T_3bc3743c_4118_11eb_945d_45efeef67b8alevel0_row8\" class=\"row_heading level0 row8\" >8</th>\n",
       "                        <td id=\"T_3bc3743c_4118_11eb_945d_45efeef67b8arow8_col0\" class=\"data row8 col0\" >0.8037</td>\n",
       "                        <td id=\"T_3bc3743c_4118_11eb_945d_45efeef67b8arow8_col1\" class=\"data row8 col1\" >0.0000</td>\n",
       "                        <td id=\"T_3bc3743c_4118_11eb_945d_45efeef67b8arow8_col2\" class=\"data row8 col2\" >0.8123</td>\n",
       "                        <td id=\"T_3bc3743c_4118_11eb_945d_45efeef67b8arow8_col3\" class=\"data row8 col3\" >0.8615</td>\n",
       "                        <td id=\"T_3bc3743c_4118_11eb_945d_45efeef67b8arow8_col4\" class=\"data row8 col4\" >0.8362</td>\n",
       "                        <td id=\"T_3bc3743c_4118_11eb_945d_45efeef67b8arow8_col5\" class=\"data row8 col5\" >0.5917</td>\n",
       "                        <td id=\"T_3bc3743c_4118_11eb_945d_45efeef67b8arow8_col6\" class=\"data row8 col6\" >0.5933</td>\n",
       "            </tr>\n",
       "            <tr>\n",
       "                        <th id=\"T_3bc3743c_4118_11eb_945d_45efeef67b8alevel0_row9\" class=\"row_heading level0 row9\" >9</th>\n",
       "                        <td id=\"T_3bc3743c_4118_11eb_945d_45efeef67b8arow9_col0\" class=\"data row9 col0\" >0.8012</td>\n",
       "                        <td id=\"T_3bc3743c_4118_11eb_945d_45efeef67b8arow9_col1\" class=\"data row9 col1\" >0.0000</td>\n",
       "                        <td id=\"T_3bc3743c_4118_11eb_945d_45efeef67b8arow9_col2\" class=\"data row9 col2\" >0.8089</td>\n",
       "                        <td id=\"T_3bc3743c_4118_11eb_945d_45efeef67b8arow9_col3\" class=\"data row9 col3\" >0.8604</td>\n",
       "                        <td id=\"T_3bc3743c_4118_11eb_945d_45efeef67b8arow9_col4\" class=\"data row9 col4\" >0.8339</td>\n",
       "                        <td id=\"T_3bc3743c_4118_11eb_945d_45efeef67b8arow9_col5\" class=\"data row9 col5\" >0.5870</td>\n",
       "                        <td id=\"T_3bc3743c_4118_11eb_945d_45efeef67b8arow9_col6\" class=\"data row9 col6\" >0.5887</td>\n",
       "            </tr>\n",
       "            <tr>\n",
       "                        <th id=\"T_3bc3743c_4118_11eb_945d_45efeef67b8alevel0_row10\" class=\"row_heading level0 row10\" >Mean</th>\n",
       "                        <td id=\"T_3bc3743c_4118_11eb_945d_45efeef67b8arow10_col0\" class=\"data row10 col0\" >0.8004</td>\n",
       "                        <td id=\"T_3bc3743c_4118_11eb_945d_45efeef67b8arow10_col1\" class=\"data row10 col1\" >0.0000</td>\n",
       "                        <td id=\"T_3bc3743c_4118_11eb_945d_45efeef67b8arow10_col2\" class=\"data row10 col2\" >0.8120</td>\n",
       "                        <td id=\"T_3bc3743c_4118_11eb_945d_45efeef67b8arow10_col3\" class=\"data row10 col3\" >0.8568</td>\n",
       "                        <td id=\"T_3bc3743c_4118_11eb_945d_45efeef67b8arow10_col4\" class=\"data row10 col4\" >0.8338</td>\n",
       "                        <td id=\"T_3bc3743c_4118_11eb_945d_45efeef67b8arow10_col5\" class=\"data row10 col5\" >0.5843</td>\n",
       "                        <td id=\"T_3bc3743c_4118_11eb_945d_45efeef67b8arow10_col6\" class=\"data row10 col6\" >0.5857</td>\n",
       "            </tr>\n",
       "            <tr>\n",
       "                        <th id=\"T_3bc3743c_4118_11eb_945d_45efeef67b8alevel0_row11\" class=\"row_heading level0 row11\" >SD</th>\n",
       "                        <td id=\"T_3bc3743c_4118_11eb_945d_45efeef67b8arow11_col0\" class=\"data row11 col0\" >0.0069</td>\n",
       "                        <td id=\"T_3bc3743c_4118_11eb_945d_45efeef67b8arow11_col1\" class=\"data row11 col1\" >0.0000</td>\n",
       "                        <td id=\"T_3bc3743c_4118_11eb_945d_45efeef67b8arow11_col2\" class=\"data row11 col2\" >0.0065</td>\n",
       "                        <td id=\"T_3bc3743c_4118_11eb_945d_45efeef67b8arow11_col3\" class=\"data row11 col3\" >0.0066</td>\n",
       "                        <td id=\"T_3bc3743c_4118_11eb_945d_45efeef67b8arow11_col4\" class=\"data row11 col4\" >0.0058</td>\n",
       "                        <td id=\"T_3bc3743c_4118_11eb_945d_45efeef67b8arow11_col5\" class=\"data row11 col5\" >0.0145</td>\n",
       "                        <td id=\"T_3bc3743c_4118_11eb_945d_45efeef67b8arow11_col6\" class=\"data row11 col6\" >0.0146</td>\n",
       "            </tr>\n",
       "    </tbody></table>"
      ],
      "text/plain": [
       "<pandas.io.formats.style.Styler at 0x7f6b3a8bd210>"
      ]
     },
     "metadata": {},
     "output_type": "display_data"
    }
   ],
   "source": [
    "blender_specific = blend_models(estimator_list = [top5[0], top5[1]], method = 'hard')"
   ]
  },
  {
   "cell_type": "code",
   "execution_count": 464,
   "metadata": {
    "scrolled": true
   },
   "outputs": [
    {
     "name": "stdout",
     "output_type": "stream",
     "text": [
      "[[6006 2695]\n",
      " [ 341  809]]\n",
      "0.7034782608695652\n"
     ]
    },
    {
     "data": {
      "image/png": "[encoded data removed]",
      "text/plain": [
       "<Figure size 432x288 with 1 Axes>"
      ]
     },
     "metadata": {
      "needs_background": "light"
     },
     "output_type": "display_data"
    }
   ],
   "source": [
    "tec = None\n",
    "plotModel(blender_specific, X_testss, y_testss)\n",
    "#hard"
   ]
  },
  {
   "cell_type": "markdown",
   "metadata": {},
   "source": [
    "### 7. Tuned model of top5"
   ]
  },
  {
   "cell_type": "code",
   "execution_count": 475,
   "metadata": {
    "scrolled": false
   },
   "outputs": [
    {
     "data": {
      "text/html": [
       "<style  type=\"text/css\" >\n",
       "#T_f9a752d6_4125_11eb_945d_45efeef67b8arow10_col0,#T_f9a752d6_4125_11eb_945d_45efeef67b8arow10_col1,#T_f9a752d6_4125_11eb_945d_45efeef67b8arow10_col2,#T_f9a752d6_4125_11eb_945d_45efeef67b8arow10_col3,#T_f9a752d6_4125_11eb_945d_45efeef67b8arow10_col4,#T_f9a752d6_4125_11eb_945d_45efeef67b8arow10_col5,#T_f9a752d6_4125_11eb_945d_45efeef67b8arow10_col6{\n",
       "            background:  yellow;\n",
       "        }</style><table id=\"T_f9a752d6_4125_11eb_945d_45efeef67b8a\" ><thead>    <tr>        <th class=\"blank level0\" ></th>        <th class=\"col_heading level0 col0\" >Accuracy</th>        <th class=\"col_heading level0 col1\" >AUC</th>        <th class=\"col_heading level0 col2\" >Recall</th>        <th class=\"col_heading level0 col3\" >Prec.</th>        <th class=\"col_heading level0 col4\" >F1</th>        <th class=\"col_heading level0 col5\" >Kappa</th>        <th class=\"col_heading level0 col6\" >MCC</th>    </tr></thead><tbody>\n",
       "                <tr>\n",
       "                        <th id=\"T_f9a752d6_4125_11eb_945d_45efeef67b8alevel0_row0\" class=\"row_heading level0 row0\" >0</th>\n",
       "                        <td id=\"T_f9a752d6_4125_11eb_945d_45efeef67b8arow0_col0\" class=\"data row0 col0\" >0.7562</td>\n",
       "                        <td id=\"T_f9a752d6_4125_11eb_945d_45efeef67b8arow0_col1\" class=\"data row0 col1\" >0.8502</td>\n",
       "                        <td id=\"T_f9a752d6_4125_11eb_945d_45efeef67b8arow0_col2\" class=\"data row0 col2\" >0.8882</td>\n",
       "                        <td id=\"T_f9a752d6_4125_11eb_945d_45efeef67b8arow0_col3\" class=\"data row0 col3\" >0.7580</td>\n",
       "                        <td id=\"T_f9a752d6_4125_11eb_945d_45efeef67b8arow0_col4\" class=\"data row0 col4\" >0.8180</td>\n",
       "                        <td id=\"T_f9a752d6_4125_11eb_945d_45efeef67b8arow0_col5\" class=\"data row0 col5\" >0.4560</td>\n",
       "                        <td id=\"T_f9a752d6_4125_11eb_945d_45efeef67b8arow0_col6\" class=\"data row0 col6\" >0.4693</td>\n",
       "            </tr>\n",
       "            <tr>\n",
       "                        <th id=\"T_f9a752d6_4125_11eb_945d_45efeef67b8alevel0_row1\" class=\"row_heading level0 row1\" >1</th>\n",
       "                        <td id=\"T_f9a752d6_4125_11eb_945d_45efeef67b8arow1_col0\" class=\"data row1 col0\" >0.7671</td>\n",
       "                        <td id=\"T_f9a752d6_4125_11eb_945d_45efeef67b8arow1_col1\" class=\"data row1 col1\" >0.8578</td>\n",
       "                        <td id=\"T_f9a752d6_4125_11eb_945d_45efeef67b8arow1_col2\" class=\"data row1 col2\" >0.8078</td>\n",
       "                        <td id=\"T_f9a752d6_4125_11eb_945d_45efeef67b8arow1_col3\" class=\"data row1 col3\" >0.8133</td>\n",
       "                        <td id=\"T_f9a752d6_4125_11eb_945d_45efeef67b8arow1_col4\" class=\"data row1 col4\" >0.8105</td>\n",
       "                        <td id=\"T_f9a752d6_4125_11eb_945d_45efeef67b8arow1_col5\" class=\"data row1 col5\" >0.5085</td>\n",
       "                        <td id=\"T_f9a752d6_4125_11eb_945d_45efeef67b8arow1_col6\" class=\"data row1 col6\" >0.5086</td>\n",
       "            </tr>\n",
       "            <tr>\n",
       "                        <th id=\"T_f9a752d6_4125_11eb_945d_45efeef67b8alevel0_row2\" class=\"row_heading level0 row2\" >2</th>\n",
       "                        <td id=\"T_f9a752d6_4125_11eb_945d_45efeef67b8arow2_col0\" class=\"data row2 col0\" >0.7798</td>\n",
       "                        <td id=\"T_f9a752d6_4125_11eb_945d_45efeef67b8arow2_col1\" class=\"data row2 col1\" >0.8686</td>\n",
       "                        <td id=\"T_f9a752d6_4125_11eb_945d_45efeef67b8arow2_col2\" class=\"data row2 col2\" >0.8072</td>\n",
       "                        <td id=\"T_f9a752d6_4125_11eb_945d_45efeef67b8arow2_col3\" class=\"data row2 col3\" >0.8309</td>\n",
       "                        <td id=\"T_f9a752d6_4125_11eb_945d_45efeef67b8arow2_col4\" class=\"data row2 col4\" >0.8189</td>\n",
       "                        <td id=\"T_f9a752d6_4125_11eb_945d_45efeef67b8arow2_col5\" class=\"data row2 col5\" >0.5383</td>\n",
       "                        <td id=\"T_f9a752d6_4125_11eb_945d_45efeef67b8arow2_col6\" class=\"data row2 col6\" >0.5387</td>\n",
       "            </tr>\n",
       "            <tr>\n",
       "                        <th id=\"T_f9a752d6_4125_11eb_945d_45efeef67b8alevel0_row3\" class=\"row_heading level0 row3\" >3</th>\n",
       "                        <td id=\"T_f9a752d6_4125_11eb_945d_45efeef67b8arow3_col0\" class=\"data row3 col0\" >0.7826</td>\n",
       "                        <td id=\"T_f9a752d6_4125_11eb_945d_45efeef67b8arow3_col1\" class=\"data row3 col1\" >0.8654</td>\n",
       "                        <td id=\"T_f9a752d6_4125_11eb_945d_45efeef67b8arow3_col2\" class=\"data row3 col2\" >0.7975</td>\n",
       "                        <td id=\"T_f9a752d6_4125_11eb_945d_45efeef67b8arow3_col3\" class=\"data row3 col3\" >0.8417</td>\n",
       "                        <td id=\"T_f9a752d6_4125_11eb_945d_45efeef67b8arow3_col4\" class=\"data row3 col4\" >0.8190</td>\n",
       "                        <td id=\"T_f9a752d6_4125_11eb_945d_45efeef67b8arow3_col5\" class=\"data row3 col5\" >0.5475</td>\n",
       "                        <td id=\"T_f9a752d6_4125_11eb_945d_45efeef67b8arow3_col6\" class=\"data row3 col6\" >0.5487</td>\n",
       "            </tr>\n",
       "            <tr>\n",
       "                        <th id=\"T_f9a752d6_4125_11eb_945d_45efeef67b8alevel0_row4\" class=\"row_heading level0 row4\" >4</th>\n",
       "                        <td id=\"T_f9a752d6_4125_11eb_945d_45efeef67b8arow4_col0\" class=\"data row4 col0\" >0.7640</td>\n",
       "                        <td id=\"T_f9a752d6_4125_11eb_945d_45efeef67b8arow4_col1\" class=\"data row4 col1\" >0.8524</td>\n",
       "                        <td id=\"T_f9a752d6_4125_11eb_945d_45efeef67b8arow4_col2\" class=\"data row4 col2\" >0.7855</td>\n",
       "                        <td id=\"T_f9a752d6_4125_11eb_945d_45efeef67b8arow4_col3\" class=\"data row4 col3\" >0.8236</td>\n",
       "                        <td id=\"T_f9a752d6_4125_11eb_945d_45efeef67b8arow4_col4\" class=\"data row4 col4\" >0.8041</td>\n",
       "                        <td id=\"T_f9a752d6_4125_11eb_945d_45efeef67b8arow4_col5\" class=\"data row4 col5\" >0.5077</td>\n",
       "                        <td id=\"T_f9a752d6_4125_11eb_945d_45efeef67b8arow4_col6\" class=\"data row4 col6\" >0.5086</td>\n",
       "            </tr>\n",
       "            <tr>\n",
       "                        <th id=\"T_f9a752d6_4125_11eb_945d_45efeef67b8alevel0_row5\" class=\"row_heading level0 row5\" >5</th>\n",
       "                        <td id=\"T_f9a752d6_4125_11eb_945d_45efeef67b8arow5_col0\" class=\"data row5 col0\" >0.7710</td>\n",
       "                        <td id=\"T_f9a752d6_4125_11eb_945d_45efeef67b8arow5_col1\" class=\"data row5 col1\" >0.8637</td>\n",
       "                        <td id=\"T_f9a752d6_4125_11eb_945d_45efeef67b8arow5_col2\" class=\"data row5 col2\" >0.8163</td>\n",
       "                        <td id=\"T_f9a752d6_4125_11eb_945d_45efeef67b8arow5_col3\" class=\"data row5 col3\" >0.8131</td>\n",
       "                        <td id=\"T_f9a752d6_4125_11eb_945d_45efeef67b8arow5_col4\" class=\"data row5 col4\" >0.8147</td>\n",
       "                        <td id=\"T_f9a752d6_4125_11eb_945d_45efeef67b8arow5_col5\" class=\"data row5 col5\" >0.5151</td>\n",
       "                        <td id=\"T_f9a752d6_4125_11eb_945d_45efeef67b8arow5_col6\" class=\"data row5 col6\" >0.5151</td>\n",
       "            </tr>\n",
       "            <tr>\n",
       "                        <th id=\"T_f9a752d6_4125_11eb_945d_45efeef67b8alevel0_row6\" class=\"row_heading level0 row6\" >6</th>\n",
       "                        <td id=\"T_f9a752d6_4125_11eb_945d_45efeef67b8arow6_col0\" class=\"data row6 col0\" >0.7625</td>\n",
       "                        <td id=\"T_f9a752d6_4125_11eb_945d_45efeef67b8arow6_col1\" class=\"data row6 col1\" >0.8577</td>\n",
       "                        <td id=\"T_f9a752d6_4125_11eb_945d_45efeef67b8arow6_col2\" class=\"data row6 col2\" >0.7911</td>\n",
       "                        <td id=\"T_f9a752d6_4125_11eb_945d_45efeef67b8arow6_col3\" class=\"data row6 col3\" >0.8177</td>\n",
       "                        <td id=\"T_f9a752d6_4125_11eb_945d_45efeef67b8arow6_col4\" class=\"data row6 col4\" >0.8042</td>\n",
       "                        <td id=\"T_f9a752d6_4125_11eb_945d_45efeef67b8arow6_col5\" class=\"data row6 col5\" >0.5026</td>\n",
       "                        <td id=\"T_f9a752d6_4125_11eb_945d_45efeef67b8arow6_col6\" class=\"data row6 col6\" >0.5031</td>\n",
       "            </tr>\n",
       "            <tr>\n",
       "                        <th id=\"T_f9a752d6_4125_11eb_945d_45efeef67b8alevel0_row7\" class=\"row_heading level0 row7\" >7</th>\n",
       "                        <td id=\"T_f9a752d6_4125_11eb_945d_45efeef67b8arow7_col0\" class=\"data row7 col0\" >0.7702</td>\n",
       "                        <td id=\"T_f9a752d6_4125_11eb_945d_45efeef67b8arow7_col1\" class=\"data row7 col1\" >0.8639</td>\n",
       "                        <td id=\"T_f9a752d6_4125_11eb_945d_45efeef67b8arow7_col2\" class=\"data row7 col2\" >0.8009</td>\n",
       "                        <td id=\"T_f9a752d6_4125_11eb_945d_45efeef67b8arow7_col3\" class=\"data row7 col3\" >0.8220</td>\n",
       "                        <td id=\"T_f9a752d6_4125_11eb_945d_45efeef67b8arow7_col4\" class=\"data row7 col4\" >0.8113</td>\n",
       "                        <td id=\"T_f9a752d6_4125_11eb_945d_45efeef67b8arow7_col5\" class=\"data row7 col5\" >0.5177</td>\n",
       "                        <td id=\"T_f9a752d6_4125_11eb_945d_45efeef67b8arow7_col6\" class=\"data row7 col6\" >0.5180</td>\n",
       "            </tr>\n",
       "            <tr>\n",
       "                        <th id=\"T_f9a752d6_4125_11eb_945d_45efeef67b8alevel0_row8\" class=\"row_heading level0 row8\" >8</th>\n",
       "                        <td id=\"T_f9a752d6_4125_11eb_945d_45efeef67b8arow8_col0\" class=\"data row8 col0\" >0.7632</td>\n",
       "                        <td id=\"T_f9a752d6_4125_11eb_945d_45efeef67b8arow8_col1\" class=\"data row8 col1\" >0.8564</td>\n",
       "                        <td id=\"T_f9a752d6_4125_11eb_945d_45efeef67b8arow8_col2\" class=\"data row8 col2\" >0.7821</td>\n",
       "                        <td id=\"T_f9a752d6_4125_11eb_945d_45efeef67b8arow8_col3\" class=\"data row8 col3\" >0.8249</td>\n",
       "                        <td id=\"T_f9a752d6_4125_11eb_945d_45efeef67b8arow8_col4\" class=\"data row8 col4\" >0.8029</td>\n",
       "                        <td id=\"T_f9a752d6_4125_11eb_945d_45efeef67b8arow8_col5\" class=\"data row8 col5\" >0.5068</td>\n",
       "                        <td id=\"T_f9a752d6_4125_11eb_945d_45efeef67b8arow8_col6\" class=\"data row8 col6\" >0.5080</td>\n",
       "            </tr>\n",
       "            <tr>\n",
       "                        <th id=\"T_f9a752d6_4125_11eb_945d_45efeef67b8alevel0_row9\" class=\"row_heading level0 row9\" >9</th>\n",
       "                        <td id=\"T_f9a752d6_4125_11eb_945d_45efeef67b8arow9_col0\" class=\"data row9 col0\" >0.7804</td>\n",
       "                        <td id=\"T_f9a752d6_4125_11eb_945d_45efeef67b8arow9_col1\" class=\"data row9 col1\" >0.8699</td>\n",
       "                        <td id=\"T_f9a752d6_4125_11eb_945d_45efeef67b8arow9_col2\" class=\"data row9 col2\" >0.8083</td>\n",
       "                        <td id=\"T_f9a752d6_4125_11eb_945d_45efeef67b8arow9_col3\" class=\"data row9 col3\" >0.8311</td>\n",
       "                        <td id=\"T_f9a752d6_4125_11eb_945d_45efeef67b8arow9_col4\" class=\"data row9 col4\" >0.8195</td>\n",
       "                        <td id=\"T_f9a752d6_4125_11eb_945d_45efeef67b8arow9_col5\" class=\"data row9 col5\" >0.5394</td>\n",
       "                        <td id=\"T_f9a752d6_4125_11eb_945d_45efeef67b8arow9_col6\" class=\"data row9 col6\" >0.5397</td>\n",
       "            </tr>\n",
       "            <tr>\n",
       "                        <th id=\"T_f9a752d6_4125_11eb_945d_45efeef67b8alevel0_row10\" class=\"row_heading level0 row10\" >Mean</th>\n",
       "                        <td id=\"T_f9a752d6_4125_11eb_945d_45efeef67b8arow10_col0\" class=\"data row10 col0\" >0.7697</td>\n",
       "                        <td id=\"T_f9a752d6_4125_11eb_945d_45efeef67b8arow10_col1\" class=\"data row10 col1\" >0.8606</td>\n",
       "                        <td id=\"T_f9a752d6_4125_11eb_945d_45efeef67b8arow10_col2\" class=\"data row10 col2\" >0.8085</td>\n",
       "                        <td id=\"T_f9a752d6_4125_11eb_945d_45efeef67b8arow10_col3\" class=\"data row10 col3\" >0.8176</td>\n",
       "                        <td id=\"T_f9a752d6_4125_11eb_945d_45efeef67b8arow10_col4\" class=\"data row10 col4\" >0.8123</td>\n",
       "                        <td id=\"T_f9a752d6_4125_11eb_945d_45efeef67b8arow10_col5\" class=\"data row10 col5\" >0.5140</td>\n",
       "                        <td id=\"T_f9a752d6_4125_11eb_945d_45efeef67b8arow10_col6\" class=\"data row10 col6\" >0.5158</td>\n",
       "            </tr>\n",
       "            <tr>\n",
       "                        <th id=\"T_f9a752d6_4125_11eb_945d_45efeef67b8alevel0_row11\" class=\"row_heading level0 row11\" >SD</th>\n",
       "                        <td id=\"T_f9a752d6_4125_11eb_945d_45efeef67b8arow11_col0\" class=\"data row11 col0\" >0.0084</td>\n",
       "                        <td id=\"T_f9a752d6_4125_11eb_945d_45efeef67b8arow11_col1\" class=\"data row11 col1\" >0.0063</td>\n",
       "                        <td id=\"T_f9a752d6_4125_11eb_945d_45efeef67b8arow11_col2\" class=\"data row11 col2\" >0.0285</td>\n",
       "                        <td id=\"T_f9a752d6_4125_11eb_945d_45efeef67b8arow11_col3\" class=\"data row11 col3\" >0.0215</td>\n",
       "                        <td id=\"T_f9a752d6_4125_11eb_945d_45efeef67b8arow11_col4\" class=\"data row11 col4\" >0.0064</td>\n",
       "                        <td id=\"T_f9a752d6_4125_11eb_945d_45efeef67b8arow11_col5\" class=\"data row11 col5\" >0.0244</td>\n",
       "                        <td id=\"T_f9a752d6_4125_11eb_945d_45efeef67b8arow11_col6\" class=\"data row11 col6\" >0.0216</td>\n",
       "            </tr>\n",
       "    </tbody></table>"
      ],
      "text/plain": [
       "<pandas.io.formats.style.Styler at 0x7f6b290ab250>"
      ]
     },
     "metadata": {},
     "output_type": "display_data"
    }
   ],
   "source": [
    "tuned5 = [tune_model(i) for i in top5]"
   ]
  },
  {
   "cell_type": "code",
   "execution_count": 476,
   "metadata": {},
   "outputs": [
    {
     "ename": "SystemExit",
     "evalue": "(Value Error): Optimization method not supported. See docstring for list of available parameters.",
     "output_type": "error",
     "traceback": [
      "An exception has occurred, use %tb to see the full traceback.\n",
      "\u001b[0;31mSystemExit\u001b[0m\u001b[0;31m:\u001b[0m (Value Error): Optimization method not supported. See docstring for list of available parameters.\n"
     ]
    }
   ],
   "source": [
    "tune_model(top5[1], optimize = ['Recall', 'AUC'])"
   ]
  },
  {
   "cell_type": "code",
   "execution_count": 477,
   "metadata": {},
   "outputs": [
    {
     "name": "stdout",
     "output_type": "stream",
     "text": [
      "[[6110 2591]\n",
      " [ 339  811]]\n",
      "0.7052173913043478\n"
     ]
    },
    {
     "data": {
      "image/png": "[encoded data removed]",
      "text/plain": [
       "<Figure size 432x288 with 1 Axes>"
      ]
     },
     "metadata": {
      "needs_background": "light"
     },
     "output_type": "display_data"
    }
   ],
   "source": [
    "tec = None\n",
    "plotModel(tuned5[0], X_testss, y_testss)"
   ]
  },
  {
   "cell_type": "code",
   "execution_count": 478,
   "metadata": {},
   "outputs": [
    {
     "name": "stdout",
     "output_type": "stream",
     "text": [
      "[[5861 2840]\n",
      " [ 328  822]]\n",
      "0.7147826086956521\n"
     ]
    },
    {
     "data": {
      "image/png": "[encoded data removed]",
      "text/plain": [
       "<Figure size 432x288 with 1 Axes>"
      ]
     },
     "metadata": {
      "needs_background": "light"
     },
     "output_type": "display_data"
    }
   ],
   "source": [
    "tec = None\n",
    "plotModel(tuned5[1], X_testss, y_testss)"
   ]
  },
  {
   "cell_type": "code",
   "execution_count": 479,
   "metadata": {},
   "outputs": [
    {
     "name": "stdout",
     "output_type": "stream",
     "text": [
      "[[6131 2570]\n",
      " [ 349  801]]\n",
      "0.6965217391304348\n"
     ]
    },
    {
     "data": {
      "image/png": "[encoded data removed]",
      "text/plain": [
       "<Figure size 432x288 with 1 Axes>"
      ]
     },
     "metadata": {
      "needs_background": "light"
     },
     "output_type": "display_data"
    }
   ],
   "source": [
    "tec = None\n",
    "plotModel(tuned5[2], X_testss, y_testss)"
   ]
  },
  {
   "cell_type": "code",
   "execution_count": 480,
   "metadata": {},
   "outputs": [
    {
     "name": "stdout",
     "output_type": "stream",
     "text": [
      "[[6128 2573]\n",
      " [ 348  802]]\n",
      "0.697391304347826\n"
     ]
    },
    {
     "data": {
      "image/png": "[encoded data removed]",
      "text/plain": [
       "<Figure size 432x288 with 1 Axes>"
      ]
     },
     "metadata": {
      "needs_background": "light"
     },
     "output_type": "display_data"
    }
   ],
   "source": [
    "tec = None\n",
    "plotModel(tuned5[3], X_testss, y_testss)"
   ]
  },
  {
   "cell_type": "code",
   "execution_count": 481,
   "metadata": {},
   "outputs": [
    {
     "name": "stdout",
     "output_type": "stream",
     "text": [
      "[[5600 3101]\n",
      " [ 329  821]]\n",
      "0.7139130434782609\n"
     ]
    },
    {
     "data": {
      "image/png": "[encoded data removed]",
      "text/plain": [
       "<Figure size 432x288 with 1 Axes>"
      ]
     },
     "metadata": {
      "needs_background": "light"
     },
     "output_type": "display_data"
    }
   ],
   "source": [
    "tec = None\n",
    "plotModel(tuned5[4], X_testss, y_testss)"
   ]
  },
  {
   "cell_type": "code",
   "execution_count": null,
   "metadata": {},
   "outputs": [],
   "source": []
  }
 ],
 "metadata": {
  "kernelspec": {
   "display_name": "Python 3",
   "language": "python",
   "name": "python3"
  },
  "language_info": {
   "codemirror_mode": {
    "name": "ipython",
    "version": 3
   },
   "file_extension": ".py",
   "mimetype": "text/x-python",
   "name": "python",
   "nbconvert_exporter": "python",
   "pygments_lexer": "ipython3",
   "version": "3.8.5"
  }
 },
 "nbformat": 4,
 "nbformat_minor": 4
}
